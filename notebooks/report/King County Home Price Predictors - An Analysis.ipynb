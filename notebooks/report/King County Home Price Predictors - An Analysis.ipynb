{
 "cells": [
  {
   "cell_type": "markdown",
   "metadata": {},
   "source": [
    "# King County Home Price Predictors - An Analysis"
   ]
  },
  {
   "cell_type": "code",
   "execution_count": 6,
   "metadata": {},
   "outputs": [
    {
     "ename": "ModuleNotFoundError",
     "evalue": "No module named 'src'",
     "output_type": "error",
     "traceback": [
      "\u001b[1;31m---------------------------------------------------------------------------\u001b[0m",
      "\u001b[1;31mModuleNotFoundError\u001b[0m                       Traceback (most recent call last)",
      "\u001b[1;32m<ipython-input-6-a7e97cd6bd65>\u001b[0m in \u001b[0;36m<module>\u001b[1;34m\u001b[0m\n\u001b[0;32m     13\u001b[0m \u001b[1;33m\u001b[0m\u001b[0m\n\u001b[0;32m     14\u001b[0m \u001b[0msys\u001b[0m\u001b[1;33m.\u001b[0m\u001b[0mpath\u001b[0m\u001b[1;33m.\u001b[0m\u001b[0mappend\u001b[0m\u001b[1;33m(\u001b[0m\u001b[1;34m'../src/modeling'\u001b[0m\u001b[1;33m)\u001b[0m\u001b[1;33m\u001b[0m\u001b[1;33m\u001b[0m\u001b[0m\n\u001b[1;32m---> 15\u001b[1;33m \u001b[1;32mfrom\u001b[0m \u001b[0msrc\u001b[0m \u001b[1;32mimport\u001b[0m \u001b[0mmodelfunctions\u001b[0m \u001b[1;32mas\u001b[0m \u001b[0mmf\u001b[0m\u001b[1;33m\u001b[0m\u001b[1;33m\u001b[0m\u001b[0m\n\u001b[0m\u001b[0;32m     16\u001b[0m \u001b[1;33m\u001b[0m\u001b[0m\n\u001b[0;32m     17\u001b[0m \u001b[1;33m\u001b[0m\u001b[0m\n",
      "\u001b[1;31mModuleNotFoundError\u001b[0m: No module named 'src'"
     ]
    }
   ],
   "source": [
    "import pandas as pd\n",
    "import numpy as np\n",
    "import seaborn as sns\n",
    "import matplotlib.pyplot as plt\n",
    "%matplotlib inline\n",
    "\n",
    "from statsmodels.formula.api import ols\n",
    "import statsmodels.api as sm\n",
    "import scipy.stats as stats\n",
    "\n",
    "import os\n",
    "import sys\n",
    "sys.path.append('../src')\n",
    "\n",
    "import sys\n",
    "import os\n",
    "sys.path.append(os.path.dirname(os.path.realpath(__file__)) + \"/../src\")\n",
    "\n",
    "module_path = '/Users/1516/Predicting-Most-Valuable-Home-Projects-In-King-County-Analysis/src'\n",
    "\n",
    "if module_path not in sys.path:\n",
    "    sys.path.append(module_path)\n",
    "    \n",
    "from src.modeling import modelfunctions as mf\n",
    "\n",
    "RPSale = pd.read_csv('../../data/raw/EXTR_RPSale.csv')\n",
    "ResBldg = pd.read_csv('../../data/raw/EXTR_ResBldg.csv')\n",
    "Parcel = pd.read_csv('../../data/raw/EXTR_Parcel.csv')"
   ]
  },
  {
   "cell_type": "markdown",
   "metadata": {},
   "source": [
    "# Filtering the Data"
   ]
  },
  {
   "cell_type": "markdown",
   "metadata": {},
   "source": [
    "### Filtering to The Last 3 Years"
   ]
  },
  {
   "cell_type": "code",
   "execution_count": null,
   "metadata": {},
   "outputs": [],
   "source": [
    "Date = RPSale['DocumentDate'].str.split('/', expand=True)\n",
    "RPSale['MonthSold'] = Date[0].astype('float64')\n",
    "RPSale['YrSold'] = Date[2].astype('float64')\n",
    "\n",
    "#Drop original date column\n",
    "RPSale.drop(columns=['DocumentDate'], axis=1, inplace=True)"
   ]
  },
  {
   "cell_type": "code",
   "execution_count": null,
   "metadata": {},
   "outputs": [],
   "source": [
    "#filtering data from 2018, 2019 and 2020 only\n",
    "years = [2018, 2019, 2020]  \n",
    "    \n",
    "properties = RPSale.loc[RPSale['YrSold'].isin(years)]  \n",
    "    \n",
    "properties"
   ]
  },
  {
   "cell_type": "code",
   "execution_count": null,
   "metadata": {},
   "outputs": [],
   "source": [
    "properties['YrSold'].value_counts()"
   ]
  },
  {
   "cell_type": "code",
   "execution_count": null,
   "metadata": {},
   "outputs": [],
   "source": [
    "properties = properties.rename(columns=str.lower)"
   ]
  },
  {
   "cell_type": "code",
   "execution_count": null,
   "metadata": {},
   "outputs": [],
   "source": [
    "properties.head()"
   ]
  },
  {
   "cell_type": "markdown",
   "metadata": {},
   "source": [
    "### Padding the 'major' and 'minor' columns and merging them together:"
   ]
  },
  {
   "cell_type": "code",
   "execution_count": null,
   "metadata": {},
   "outputs": [],
   "source": [
    "properties['major'] = properties['major'].astype(str)\n",
    "properties['minor'] = properties['minor'].astype(str)\n",
    "\n",
    "def major_padded(row):\n",
    "    if len(row) == 6:\n",
    "        return row\n",
    "    elif len(row) == 5:\n",
    "        return '0'+row\n",
    "    elif len(row) == 4:\n",
    "        return '00'+row\n",
    "    elif len(row) == 3:\n",
    "        return '000'+row\n",
    "    elif len(row) == 2:\n",
    "        return '0000'+row\n",
    "    elif len(row) == 1:\n",
    "        return '00000'+row\n",
    "    else:\n",
    "        return '000000'\n",
    "\n",
    "def minor_padded(row):\n",
    "    if len(row) == 4:\n",
    "        return row\n",
    "    elif len(row) == 3: \n",
    "        return '0'+row\n",
    "    elif len(row) == 2:\n",
    "        return '00'+row\n",
    "    elif len(row) == 1:\n",
    "        return '000'+row\n",
    "    else:\n",
    "        return '0000'\n",
    "    \n",
    "properties['major'] = properties.major.apply(major_padded)\n",
    "properties['minor'] = properties.minor.apply(minor_padded)\n",
    "properties['major_minor'] = properties['major']+properties['minor']"
   ]
  },
  {
   "cell_type": "code",
   "execution_count": null,
   "metadata": {},
   "outputs": [],
   "source": [
    "#Dropping the old columns\n",
    "to_drop = ['major','minor']\n",
    "properties.drop(to_drop, axis=1, inplace=True)"
   ]
  },
  {
   "cell_type": "code",
   "execution_count": null,
   "metadata": {},
   "outputs": [],
   "source": [
    "#Moving the 'major_minor' column to the front\n",
    "col_name = 'major_minor'\n",
    "last_col = properties.pop(col_name)\n",
    "properties.insert(1, col_name, last_col)"
   ]
  },
  {
   "cell_type": "markdown",
   "metadata": {},
   "source": [
    "### Narrowing the property type\n",
    "According to our LookUp file, the residental values are coded as follows:\n",
    "\n",
    "**11** - Household, single family units\n",
    "\n",
    "**12** - Multiple family residence (Residential, 2-4 units)\n",
    "\n",
    "**14** - Residential condominiums\n",
    "\n",
    "**18** - All other residential not elsewhere coded"
   ]
  },
  {
   "cell_type": "code",
   "execution_count": null,
   "metadata": {},
   "outputs": [],
   "source": [
    "properties = properties[properties['propertytype'].isin([11, 12, 14, 18])]\n",
    "properties"
   ]
  },
  {
   "cell_type": "markdown",
   "metadata": {},
   "source": [
    "### Only using sale prices over 0:"
   ]
  },
  {
   "cell_type": "code",
   "execution_count": null,
   "metadata": {},
   "outputs": [],
   "source": [
    "properties = properties[properties['saleprice'] > 0]\n",
    "properties"
   ]
  },
  {
   "cell_type": "code",
   "execution_count": null,
   "metadata": {},
   "outputs": [],
   "source": [
    "properties['saleprice'].describe()"
   ]
  },
  {
   "cell_type": "markdown",
   "metadata": {},
   "source": [
    "### Filtering out based on principal use:"
   ]
  },
  {
   "cell_type": "code",
   "execution_count": null,
   "metadata": {},
   "outputs": [],
   "source": [
    "properties['principaluse'].unique()"
   ]
  },
  {
   "cell_type": "markdown",
   "metadata": {},
   "source": [
    "According to our lookup, \n",
    "\n",
    "**6** - Residential\n",
    "\n",
    "**2** - Condominium\n",
    "\n",
    "**7** - Commercial\n",
    "\n",
    "I will only focus on residential and condo properties."
   ]
  },
  {
   "cell_type": "code",
   "execution_count": null,
   "metadata": {},
   "outputs": [],
   "source": [
    "properties = properties[properties['principaluse'].isin([6,2])]\n",
    "properties"
   ]
  },
  {
   "cell_type": "markdown",
   "metadata": {},
   "source": [
    "### Checking for 'propertyclass'"
   ]
  },
  {
   "cell_type": "code",
   "execution_count": null,
   "metadata": {},
   "outputs": [],
   "source": [
    "properties['propertyclass'].unique()"
   ]
  },
  {
   "cell_type": "markdown",
   "metadata": {},
   "source": [
    "The follwing values and their definitions are found in our lookup file:\n",
    "\n",
    "**7** - Res-Land only (I will remove this to only display residential property)\n",
    "\n",
    "I will keep:\n",
    "\n",
    "**8** - Residential- Improved Property\n",
    "\n",
    "**3** - Condominium\n",
    "\n",
    "**9** - Res/Condo mobile"
   ]
  },
  {
   "cell_type": "code",
   "execution_count": null,
   "metadata": {},
   "outputs": [],
   "source": [
    "properties = properties[properties['propertyclass'].isin([8,3,9])]\n",
    "properties.head()"
   ]
  },
  {
   "cell_type": "markdown",
   "metadata": {},
   "source": [
    "### Checking for duplicates based on major_minor numbers"
   ]
  },
  {
   "cell_type": "code",
   "execution_count": null,
   "metadata": {},
   "outputs": [],
   "source": [
    "len(properties) - len(properties.major_minor.unique())"
   ]
  },
  {
   "cell_type": "markdown",
   "metadata": {},
   "source": [
    "I will check to see if there are any trends in the duplicates, since it is possible a home could have been sold more than once during the set timeframe."
   ]
  },
  {
   "cell_type": "code",
   "execution_count": null,
   "metadata": {},
   "outputs": [],
   "source": [
    "properties[properties['major_minor'].isin(['8843900445','8847500000'])]"
   ]
  },
  {
   "cell_type": "code",
   "execution_count": null,
   "metadata": {},
   "outputs": [],
   "source": [
    "#Dropping the duplicates\n",
    "properties.drop_duplicates(subset='major_minor', keep='last', inplace=True)"
   ]
  },
  {
   "cell_type": "code",
   "execution_count": null,
   "metadata": {},
   "outputs": [],
   "source": [
    "properties.head()"
   ]
  },
  {
   "cell_type": "code",
   "execution_count": null,
   "metadata": {},
   "outputs": [],
   "source": [
    "properties.info()"
   ]
  },
  {
   "cell_type": "code",
   "execution_count": null,
   "metadata": {},
   "outputs": [],
   "source": [
    "to_drop = ['volume', 'page', 'platnbr', 'plattype', 'platlot', 'platblock', 'sellername', 'buyername']\n",
    "properties.drop(to_drop, axis=1, inplace=True)"
   ]
  },
  {
   "cell_type": "code",
   "execution_count": null,
   "metadata": {},
   "outputs": [],
   "source": [
    "properties.head()"
   ]
  },
  {
   "cell_type": "markdown",
   "metadata": {},
   "source": [
    "Now I'll repeat everything I did for \"properties\" and apply it to residential buildings."
   ]
  },
  {
   "cell_type": "code",
   "execution_count": null,
   "metadata": {},
   "outputs": [],
   "source": [
    "ResBldg.rename(columns=str.lower, inplace=True)\n",
    "ResBldg['major'] = ResBldg['major'].astype(str)\n",
    "ResBldg['minor'] = ResBldg['minor'].astype(str)\n",
    "\n",
    "ResBldg['major'] = ResBldg['major'].apply(major_padded)\n",
    "ResBldg['minor'] = ResBldg['minor'].apply(minor_padded)\n",
    "\n",
    "ResBldg['major_minor'] = ResBldg['major']+ResBldg['minor']\n",
    "\n",
    "col_name = 'major_minor'\n",
    "last_col = ResBldg.pop(col_name)\n",
    "ResBldg.insert(0, col_name, last_col)\n",
    "\n",
    "ResBldg.head(2)"
   ]
  },
  {
   "cell_type": "code",
   "execution_count": null,
   "metadata": {},
   "outputs": [],
   "source": [
    "sum(ResBldg.minor == '0000')"
   ]
  },
  {
   "cell_type": "markdown",
   "metadata": {},
   "source": [
    "Since residential buildings don't have condominiums (**Minor=0000**), I will be forced to drop more data."
   ]
  },
  {
   "cell_type": "code",
   "execution_count": null,
   "metadata": {},
   "outputs": [],
   "source": [
    "ResBldg.loc[1]"
   ]
  },
  {
   "cell_type": "code",
   "execution_count": null,
   "metadata": {
    "scrolled": false
   },
   "outputs": [],
   "source": [
    "ResBldg = ResBldg.dropna(how='any',axis=0)\n",
    "ResBldg.info()"
   ]
  },
  {
   "cell_type": "markdown",
   "metadata": {},
   "source": [
    "### Converting 'zipcode' to int"
   ]
  },
  {
   "cell_type": "code",
   "execution_count": null,
   "metadata": {},
   "outputs": [],
   "source": [
    "ResBldg['zipcode'] = ResBldg['zipcode'].str.split('-').str[0]\n",
    "ResBldg['zipcode'].value_counts()"
   ]
  },
  {
   "cell_type": "code",
   "execution_count": null,
   "metadata": {},
   "outputs": [],
   "source": [
    "ResBldg['zipcode'] = ResBldg['zipcode'].astype(str).str.replace(',', '')\n",
    "ResBldg['zipcode'] = ResBldg['zipcode'].astype(str).str.replace(' ', '')\n",
    "ResBldg['zipcode'] = ResBldg['zipcode'].astype(str).str.replace('.', '')"
   ]
  },
  {
   "cell_type": "code",
   "execution_count": null,
   "metadata": {},
   "outputs": [],
   "source": [
    "df = ResBldg[ResBldg['zipcode'].apply(lambda x: not x.isnumeric())]\n",
    "df"
   ]
  },
  {
   "cell_type": "code",
   "execution_count": null,
   "metadata": {},
   "outputs": [],
   "source": [
    "#Dropping non-numeric zipcode entries\n",
    "ResBldg = ResBldg.drop(index=[71823,173514])"
   ]
  },
  {
   "cell_type": "code",
   "execution_count": null,
   "metadata": {},
   "outputs": [],
   "source": [
    "ResBldg['zipcode'].value_counts()"
   ]
  },
  {
   "cell_type": "code",
   "execution_count": null,
   "metadata": {},
   "outputs": [],
   "source": [
    "ResBldg['zipcode']= ResBldg['zipcode'].astype(np.int64)"
   ]
  },
  {
   "cell_type": "code",
   "execution_count": null,
   "metadata": {},
   "outputs": [],
   "source": [
    "prop_res = properties.merge(ResBldg, on='major_minor', suffixes=(\"\", \" \"))\n",
    "prop_res.describe()"
   ]
  },
  {
   "cell_type": "markdown",
   "metadata": {},
   "source": [
    "### Converting the 'yrrenovated' column to a binary\n",
    "Next, the 'yrrenovated' column has a large amount zero values (denoting that a house hasn't been renovated). Rather than dropping the data, I will make this a binary column whether a house was sold within 10 years of a renovation or not, or built within the last five years. \n",
    "\n",
    "First, I will make a new column 'age' with the properties' ages as variables to get a better sense of how old a home is."
   ]
  },
  {
   "cell_type": "code",
   "execution_count": null,
   "metadata": {},
   "outputs": [],
   "source": [
    "#Convert YrBuilt to age by subtracting the build year from the most recent year in the in dataframe\n",
    "prop_res['age'] = 2020 - prop_res.yrbuilt"
   ]
  },
  {
   "cell_type": "markdown",
   "metadata": {},
   "source": [
    "Now I will convert the 'yrrenovated' column to a binary column."
   ]
  },
  {
   "cell_type": "code",
   "execution_count": null,
   "metadata": {},
   "outputs": [],
   "source": [
    "prop_res['yrrenovated'].value_counts()"
   ]
  },
  {
   "cell_type": "code",
   "execution_count": null,
   "metadata": {},
   "outputs": [],
   "source": [
    "prop_res['yrrenovated'].fillna(0.0, inplace=True)"
   ]
  },
  {
   "cell_type": "code",
   "execution_count": null,
   "metadata": {},
   "outputs": [],
   "source": [
    "prop_res['renovated'] = prop_res['yrsold'] - prop_res['yrrenovated']"
   ]
  },
  {
   "cell_type": "code",
   "execution_count": null,
   "metadata": {},
   "outputs": [],
   "source": [
    "#Replacing values less than 10 with 1, and values over 10 with 0\n",
    "Renovated = prop_res.renovated.values\n",
    "Age = prop_res.age.values\n",
    "values = np.where(Renovated <= 10, 1, 0)\n",
    "prop_res['renovated'] = np.where(Age <= 5, 1, values)"
   ]
  },
  {
   "cell_type": "markdown",
   "metadata": {},
   "source": [
    "Now I'll check again for duplicates:"
   ]
  },
  {
   "cell_type": "code",
   "execution_count": null,
   "metadata": {},
   "outputs": [],
   "source": [
    "prop_res.major_minor.value_counts()"
   ]
  },
  {
   "cell_type": "code",
   "execution_count": null,
   "metadata": {
    "scrolled": false
   },
   "outputs": [],
   "source": [
    "prop_res[prop_res['major_minor'].isin(['0809003030', '6373000170', '2822059059'])]"
   ]
  },
  {
   "cell_type": "code",
   "execution_count": null,
   "metadata": {},
   "outputs": [],
   "source": [
    "prop_res.drop_duplicates(subset='major_minor', inplace=True)\n",
    "len(prop_res)"
   ]
  },
  {
   "cell_type": "markdown",
   "metadata": {},
   "source": [
    "We are now left with 33,671 entries in our data frame."
   ]
  },
  {
   "cell_type": "markdown",
   "metadata": {},
   "source": [
    "### Now for our last file, 'Parcel':"
   ]
  },
  {
   "cell_type": "code",
   "execution_count": null,
   "metadata": {},
   "outputs": [],
   "source": [
    "Parcel.rename(columns=str.lower, inplace=True)\n",
    "Parcel['major'] = Parcel['major'].astype(str)\n",
    "Parcel['minor'] = Parcel['minor'].astype(str)\n",
    "Parcel['major'] = Parcel['major'].apply(major_padded)\n",
    "Parcel['minor'] = Parcel['minor'].apply(minor_padded)\n",
    "Parcel['major_minor'] = Parcel['major']+Parcel['minor']\n",
    "last_col = Parcel.pop(col_name)\n",
    "Parcel.insert(0, col_name, last_col)"
   ]
  },
  {
   "cell_type": "code",
   "execution_count": null,
   "metadata": {},
   "outputs": [],
   "source": [
    "prop_res = prop_res.merge(Parcel, on='major_minor', suffixes=(\"\", \" \"))"
   ]
  },
  {
   "cell_type": "code",
   "execution_count": null,
   "metadata": {},
   "outputs": [],
   "source": [
    "prop_res.shape"
   ]
  },
  {
   "cell_type": "code",
   "execution_count": null,
   "metadata": {},
   "outputs": [],
   "source": [
    "prop_res['proptype'].unique()"
   ]
  },
  {
   "cell_type": "markdown",
   "metadata": {},
   "source": [
    "Thankfully, we haven't lost any more entries *and* our property type column only contains 'R' (residential) values."
   ]
  },
  {
   "cell_type": "code",
   "execution_count": null,
   "metadata": {
    "scrolled": true
   },
   "outputs": [],
   "source": [
    "prop_res.describe()"
   ]
  },
  {
   "cell_type": "markdown",
   "metadata": {},
   "source": [
    "**I will select features of a residential property that would have a bearing on its saleprice:**"
   ]
  },
  {
   "cell_type": "code",
   "execution_count": null,
   "metadata": {},
   "outputs": [],
   "source": [
    "property_data = prop_res.loc[:, ['saleprice', 'sqfttotliving', 'yrbuilt', 'yrrenovated', 'bedrooms',\n",
    "                      'zipcode', 'sqfttotbasement', 'sqftfinbasement', 'sqftopenporch',\n",
    "                      'sqftenclosedporch', 'sqftdeck','heatsystem', 'heatsource', 'bathhalfcount', \n",
    "                      'bath3qtrcount', 'bathfullcount','condition', 'viewutilization', 'sqftgarageattached',\n",
    "                      'daylightbasement','bldggrade', 'finbasementgrade', 'hbuasifvacant', 'inadequateparking', 'township',\n",
    "                      'mtrainier', 'olympics', 'cascades', 'territorial', 'seattleskyline', 'pugetsound',\n",
    "                      'lakewashington', 'lakesammamish', 'smalllakerivercreek', 'otherview', 'wfntlocation',\n",
    "                      'trafficnoise', 'airportnoise', 'powerlines', 'othernuisances', 'adjacentgreenbelt']]"
   ]
  },
  {
   "cell_type": "code",
   "execution_count": null,
   "metadata": {
    "scrolled": true
   },
   "outputs": [],
   "source": [
    "property_data.head()"
   ]
  },
  {
   "cell_type": "markdown",
   "metadata": {},
   "source": [
    "And lastly, I will narrow down the total square foot living space to 4500 (anything more is either a massive mansion or not a single family home, both of which are outside the scope of this analysis) and filter out properties between 10 and 2.5 million."
   ]
  },
  {
   "cell_type": "code",
   "execution_count": null,
   "metadata": {},
   "outputs": [],
   "source": [
    "property_data = property_data[property_data['sqfttotliving'] < 4500]"
   ]
  },
  {
   "cell_type": "code",
   "execution_count": null,
   "metadata": {},
   "outputs": [],
   "source": [
    "property_data = property_data[(property_data['saleprice'] < 2500000) & (property_data['saleprice'] > 10)]"
   ]
  },
  {
   "cell_type": "code",
   "execution_count": null,
   "metadata": {},
   "outputs": [],
   "source": [
    "property_data.shape"
   ]
  },
  {
   "cell_type": "code",
   "execution_count": null,
   "metadata": {},
   "outputs": [],
   "source": [
    "cleaned_data = property_data.to_csv('cleaned_data.csv')\n",
    "property_data = prop_res.to_csv('property_data.csv')"
   ]
  },
  {
   "cell_type": "markdown",
   "metadata": {},
   "source": [
    "# Investigating the Target Variable: 'saleprice'"
   ]
  },
  {
   "cell_type": "code",
   "execution_count": null,
   "metadata": {},
   "outputs": [],
   "source": [
    "kc_data = pd.read_csv('../../data/processed/cleaned_data.csv', index_col=0) #Load w/out the unnecessary 'Unnamed:0' column.\n",
    "kc_data.head()"
   ]
  },
  {
   "cell_type": "code",
   "execution_count": null,
   "metadata": {},
   "outputs": [],
   "source": [
    "kc_data.saleprice.describe()"
   ]
  },
  {
   "cell_type": "code",
   "execution_count": null,
   "metadata": {
    "scrolled": false
   },
   "outputs": [],
   "source": [
    "fig, ax = plt.subplots(figsize=(15,8))\n",
    "ax.set_title('Histogram of 2018, 2019, & 2020 Sales Price Data', fontsize = 18)\n",
    "sns.histplot(kc_data.saleprice, ax = ax)\n",
    "ax.tick_params(axis='both', labelsize=15)\n",
    "plt.xlabel('Sale Price', fontsize = 15)\n",
    "plt.ylabel('Count', fontsize = 15)\n",
    "plt.tight_layout()"
   ]
  },
  {
   "cell_type": "markdown",
   "metadata": {},
   "source": [
    "The filtered sales price data is right skewed which is to be expected since houses worth over 2.5 million dollars are included in the data. We see that our mean house price is just over 700K at $709,031."
   ]
  },
  {
   "cell_type": "code",
   "execution_count": null,
   "metadata": {},
   "outputs": [],
   "source": [
    "data_corr = kc_data.corr()\n",
    "\n",
    "# inspecting correlations with 'saleprice' in descending order to review the highest correlations first\n",
    "sorted_corrs = data_corr['saleprice'].sort_values(ascending = False)\n",
    "sorted_corrs"
   ]
  },
  {
   "cell_type": "markdown",
   "metadata": {},
   "source": [
    "The top 2 highest correlated features with 'saleprice' are 'bldggrade' and 'sqfttotliving'. As is to be expected, houses with larger square footage are more expensive than smaller square foot houses. I will start by investigating this feature and work on building my first model."
   ]
  },
  {
   "cell_type": "markdown",
   "metadata": {},
   "source": [
    "## Total Living Square Footage ('sqfttotliving')\n",
    "I'll start by examining the relationship between total living square footage and sale price."
   ]
  },
  {
   "cell_type": "code",
   "execution_count": null,
   "metadata": {},
   "outputs": [],
   "source": [
    "fig, ax = plt.subplots(figsize=(15,8))\n",
    "sns.regplot(x = 'sqfttotliving', y = 'saleprice', data = kc_data,\n",
    "            scatter_kws={\"color\": \"#0055AA\"}, line_kws={\"color\": \"green\"});\n",
    "ax.set_title('Scatter Plot of Total Living Square Footage against Sale Price', fontsize = 20)\n",
    "ax.tick_params(axis='both', labelsize=15)\n",
    "plt.xlabel('Total Living Square Footage', fontsize = 15)\n",
    "plt.ylabel('Sale Price (Hundred Thousands)', fontsize = 15)\n",
    "plt.tight_layout()"
   ]
  },
  {
   "cell_type": "markdown",
   "metadata": {},
   "source": [
    "We can see there is a fairly strong correlation between total living space and sale price.\n",
    "Let's examine the distribution of sqfttotliving:"
   ]
  },
  {
   "cell_type": "code",
   "execution_count": null,
   "metadata": {},
   "outputs": [],
   "source": [
    "fig, ax = plt.subplots(figsize=(11,6))\n",
    "plt.title('Distribution of Total Living Space', fontsize = 25)\n",
    "sns.histplot(kc_data.sqfttotliving, ax = ax)\n",
    "ax.tick_params(axis = 'both', labelsize = 15)\n",
    "plt.xlabel('Living Space Square Foot', fontsize = 20)\n",
    "plt.tight_layout()"
   ]
  },
  {
   "cell_type": "markdown",
   "metadata": {},
   "source": [
    "I will log-transform the data and examine, since this appears to be slightly right-skewed."
   ]
  },
  {
   "cell_type": "code",
   "execution_count": null,
   "metadata": {},
   "outputs": [],
   "source": [
    "fig, ax = plt.subplots(figsize=(11,6))\n",
    "plt.title('Log-Transformed Distribution of Total Living Square Foot', fontsize = 25)\n",
    "sns.histplot(np.log(kc_data.sqfttotliving), ax = ax)\n",
    "ax.tick_params(axis = 'both', labelsize = 15)\n",
    "plt.xlabel('Living Square Footage', fontsize = 20)\n",
    "plt.tight_layout()"
   ]
  },
  {
   "cell_type": "markdown",
   "metadata": {},
   "source": [
    "The transformation happened to skew it to the left, I will try a square root transformation:"
   ]
  },
  {
   "cell_type": "code",
   "execution_count": null,
   "metadata": {},
   "outputs": [],
   "source": [
    "fig, ax = plt.subplots(figsize=(11,6))\n",
    "plt.title('Square Root-Transformed Distribution of Total Living Square Foot ', fontsize = 25)\n",
    "sns.histplot(np.sqrt(kc_data.sqfttotliving), ax = ax)\n",
    "ax.tick_params(axis = 'both', labelsize = 15)\n",
    "plt.xlabel('Living Square Footage', fontsize = 20)\n",
    "plt.tight_layout()"
   ]
  },
  {
   "cell_type": "markdown",
   "metadata": {},
   "source": [
    "There! Now the distribution is fairly normal and should work for modeling.\n",
    "\n",
    "I'll save this as a column to use later:"
   ]
  },
  {
   "cell_type": "code",
   "execution_count": null,
   "metadata": {},
   "outputs": [],
   "source": [
    "kc_data['sqrt_sqfttotliving'] = np.sqrt(kc_data.sqfttotliving)"
   ]
  },
  {
   "cell_type": "markdown",
   "metadata": {},
   "source": [
    "# "
   ]
  },
  {
   "cell_type": "code",
   "execution_count": null,
   "metadata": {},
   "outputs": [],
   "source": [
    "def linear_model(dataframe):\n",
    "    '''Build linear regression model, return model and print model summary from statsmodels.'''\n",
    "    #Create feature and target columns\n",
    "    X = dataframe.drop(columns=['price'], axis=1)\n",
    "    y = dataframe.price\n",
    "    \n",
    "    #Split data into training and test sets\n",
    "    X_train, X_test, y_train, y_test = train_test_split(X, y, test_size=.20, random_state=123)\n",
    "    \n",
    "    #Fit the model\n",
    "    linreg = LinearRegression()\n",
    "    model = linreg.fit(X_train, y_train)\n",
    "    model\n",
    "    \n",
    "    #View model accuracy\n",
    "    train_score = model.score(X_train, y_train)\n",
    "    test_score = model.score(X_test, y_test)\n",
    "\n",
    "    print('Training Score:', round(train_score, 2))\n",
    "    print('Test Score:', round(test_score, 2))\n",
    "    print('Coefficients:', model.coef_)\n",
    "    \n",
    "    #View model summary in statsmodels\n",
    "    X_train = sm.add_constant(X_train)\n",
    "    smmodel = sm.OLS(y_train, X_train).fit()\n",
    "    print(smmodel.summary())\n",
    "    return smmodel"
   ]
  }
 ],
 "metadata": {
  "kernelspec": {
   "display_name": "learn-env",
   "language": "python",
   "name": "learn-env"
  },
  "language_info": {
   "codemirror_mode": {
    "name": "ipython",
    "version": 3
   },
   "file_extension": ".py",
   "mimetype": "text/x-python",
   "name": "python",
   "nbconvert_exporter": "python",
   "pygments_lexer": "ipython3",
   "version": "3.8.5"
  }
 },
 "nbformat": 4,
 "nbformat_minor": 4
}
