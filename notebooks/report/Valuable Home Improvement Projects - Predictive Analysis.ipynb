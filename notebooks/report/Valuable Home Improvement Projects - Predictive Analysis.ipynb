{
 "cells": [
  {
   "cell_type": "markdown",
   "metadata": {},
   "source": [
    "# Predicting the Most Valuable Home Improvement Projects In King County"
   ]
  },
  {
   "cell_type": "markdown",
   "metadata": {},
   "source": [
    "## Introduction"
   ]
  },
  {
   "cell_type": "markdown",
   "metadata": {},
   "source": [
    "The King County Housing Data Set contains information about the size, location, condition, and other features of houses in King County. A full description of the dataset's columns can be found below. The aim of this project is to develop a linear regression model than can predict which home improvement projects will add to the sale value of homes."
   ]
  },
  {
   "cell_type": "markdown",
   "metadata": {},
   "source": [
    "## Business Problem"
   ]
  },
  {
   "cell_type": "markdown",
   "metadata": {},
   "source": [
    "A client in King County, WA wants to advise homeowners on which features will add to the sale value of their homes."
   ]
  },
  {
   "cell_type": "markdown",
   "metadata": {},
   "source": [
    "## Analysis Questions"
   ]
  },
  {
   "cell_type": "markdown",
   "metadata": {},
   "source": [
    "This analysis will seek to answer three questions about the data:\n",
    "\n",
    "Question 1: Will enclosing a porch increase the sale price of a home?\n",
    "\n",
    "Question 2: Is converting a garage to a bedroom a good way to increase the sale price of a home?\n",
    "\n",
    "Question 3: Will upgrading to a forced-air heating system increase the sale price of a home?"
   ]
  },
  {
   "cell_type": "markdown",
   "metadata": {},
   "source": [
    "## Previewing the data"
   ]
  },
  {
   "cell_type": "code",
   "execution_count": 1,
   "metadata": {},
   "outputs": [],
   "source": [
    "import numpy as np\n",
    "import pandas as pd\n",
    "import matplotlib.pyplot as plt\n",
    "%matplotlib inline\n",
    "import seaborn as sns"
   ]
  },
  {
   "cell_type": "code",
   "execution_count": 2,
   "metadata": {},
   "outputs": [
    {
     "data": {
      "text/html": [
       "<div>\n",
       "<style scoped>\n",
       "    .dataframe tbody tr th:only-of-type {\n",
       "        vertical-align: middle;\n",
       "    }\n",
       "\n",
       "    .dataframe tbody tr th {\n",
       "        vertical-align: top;\n",
       "    }\n",
       "\n",
       "    .dataframe thead th {\n",
       "        text-align: right;\n",
       "    }\n",
       "</style>\n",
       "<table border=\"1\" class=\"dataframe\">\n",
       "  <thead>\n",
       "    <tr style=\"text-align: right;\">\n",
       "      <th></th>\n",
       "      <th>Unnamed: 0</th>\n",
       "      <th>Major</th>\n",
       "      <th>Minor</th>\n",
       "      <th>SalePrice</th>\n",
       "      <th>DocumentDate</th>\n",
       "      <th>Stories</th>\n",
       "      <th>BldgGrade</th>\n",
       "      <th>Bedrooms</th>\n",
       "      <th>Bathrooms</th>\n",
       "      <th>SqFtTotLiving</th>\n",
       "      <th>...</th>\n",
       "      <th>SqFtEnclosedPorch</th>\n",
       "      <th>SqFtDeck</th>\n",
       "      <th>HeatSystem</th>\n",
       "      <th>SqFtLot</th>\n",
       "      <th>Township</th>\n",
       "      <th>DistrictName</th>\n",
       "      <th>StreetSurface</th>\n",
       "      <th>InadequateParking</th>\n",
       "      <th>TrafficNoise</th>\n",
       "      <th>OtherNuisances</th>\n",
       "    </tr>\n",
       "  </thead>\n",
       "  <tbody>\n",
       "    <tr>\n",
       "      <th>0</th>\n",
       "      <td>0</td>\n",
       "      <td>638580</td>\n",
       "      <td>110</td>\n",
       "      <td>190000</td>\n",
       "      <td>07/14/2015</td>\n",
       "      <td>1.0</td>\n",
       "      <td>7.0</td>\n",
       "      <td>4.0</td>\n",
       "      <td>2.0</td>\n",
       "      <td>2130.0</td>\n",
       "      <td>...</td>\n",
       "      <td>0.0</td>\n",
       "      <td>300.0</td>\n",
       "      <td>5.0</td>\n",
       "      <td>10534.0</td>\n",
       "      <td>23.0</td>\n",
       "      <td>SeaTac</td>\n",
       "      <td>1.0</td>\n",
       "      <td>2.0</td>\n",
       "      <td>0.0</td>\n",
       "      <td>0.0</td>\n",
       "    </tr>\n",
       "    <tr>\n",
       "      <th>1</th>\n",
       "      <td>1</td>\n",
       "      <td>894677</td>\n",
       "      <td>240</td>\n",
       "      <td>818161</td>\n",
       "      <td>12/21/2016</td>\n",
       "      <td>2.0</td>\n",
       "      <td>9.0</td>\n",
       "      <td>4.0</td>\n",
       "      <td>3.0</td>\n",
       "      <td>2450.0</td>\n",
       "      <td>...</td>\n",
       "      <td>0.0</td>\n",
       "      <td>60.0</td>\n",
       "      <td>5.0</td>\n",
       "      <td>3813.0</td>\n",
       "      <td>26.0</td>\n",
       "      <td>KIRKLAND</td>\n",
       "      <td>1.0</td>\n",
       "      <td>0.0</td>\n",
       "      <td>0.0</td>\n",
       "      <td>0.0</td>\n",
       "    </tr>\n",
       "  </tbody>\n",
       "</table>\n",
       "<p>2 rows × 22 columns</p>\n",
       "</div>"
      ],
      "text/plain": [
       "   Unnamed: 0   Major  Minor  SalePrice DocumentDate  Stories  BldgGrade  \\\n",
       "0           0  638580    110     190000   07/14/2015      1.0        7.0   \n",
       "1           1  894677    240     818161   12/21/2016      2.0        9.0   \n",
       "\n",
       "   Bedrooms  Bathrooms  SqFtTotLiving  ...  SqFtEnclosedPorch  SqFtDeck  \\\n",
       "0       4.0        2.0         2130.0  ...                0.0     300.0   \n",
       "1       4.0        3.0         2450.0  ...                0.0      60.0   \n",
       "\n",
       "   HeatSystem  SqFtLot  Township  DistrictName  StreetSurface  \\\n",
       "0         5.0  10534.0      23.0        SeaTac            1.0   \n",
       "1         5.0   3813.0      26.0      KIRKLAND            1.0   \n",
       "\n",
       "  InadequateParking  TrafficNoise  OtherNuisances  \n",
       "0               2.0           0.0             0.0  \n",
       "1               0.0           0.0             0.0  \n",
       "\n",
       "[2 rows x 22 columns]"
      ]
     },
     "execution_count": 2,
     "metadata": {},
     "output_type": "execute_result"
    }
   ],
   "source": [
    "home_data = pd.read_csv('../../data/processed/home_data.csv')\n",
    "home_data.head(2)"
   ]
  },
  {
   "cell_type": "code",
   "execution_count": 3,
   "metadata": {},
   "outputs": [],
   "source": [
    "#Dropping the Unnamed: 0 column since no valuable data is provided\n",
    "home_data.drop(['Unnamed: 0'], axis = 1, inplace=True)"
   ]
  },
  {
   "cell_type": "code",
   "execution_count": 4,
   "metadata": {},
   "outputs": [
    {
     "name": "stdout",
     "output_type": "stream",
     "text": [
      "<class 'pandas.core.frame.DataFrame'>\n",
      "RangeIndex: 173128 entries, 0 to 173127\n",
      "Data columns (total 21 columns):\n",
      " #   Column             Non-Null Count   Dtype  \n",
      "---  ------             --------------   -----  \n",
      " 0   Major              173128 non-null  int64  \n",
      " 1   Minor              173128 non-null  int64  \n",
      " 2   SalePrice          173128 non-null  int64  \n",
      " 3   DocumentDate       173128 non-null  object \n",
      " 4   Stories            173128 non-null  float64\n",
      " 5   BldgGrade          173128 non-null  float64\n",
      " 6   Bedrooms           173128 non-null  float64\n",
      " 7   Bathrooms          173128 non-null  float64\n",
      " 8   SqFtTotLiving      173128 non-null  float64\n",
      " 9   SqFtTotBasement    173128 non-null  float64\n",
      " 10  SqFtOpenPorch      173128 non-null  float64\n",
      " 11  SqFtEnclosedPorch  173128 non-null  float64\n",
      " 12  SqFtDeck           173128 non-null  float64\n",
      " 13  HeatSystem         173128 non-null  float64\n",
      " 14  SqFtLot            173128 non-null  float64\n",
      " 15  Township           173128 non-null  float64\n",
      " 16  DistrictName       173128 non-null  object \n",
      " 17  StreetSurface      173128 non-null  float64\n",
      " 18  InadequateParking  173128 non-null  float64\n",
      " 19  TrafficNoise       173128 non-null  float64\n",
      " 20  OtherNuisances     173128 non-null  float64\n",
      "dtypes: float64(16), int64(3), object(2)\n",
      "memory usage: 27.7+ MB\n"
     ]
    }
   ],
   "source": [
    "home_data.info()"
   ]
  },
  {
   "cell_type": "code",
   "execution_count": 6,
   "metadata": {
    "scrolled": true
   },
   "outputs": [
    {
     "data": {
      "text/html": [
       "<div>\n",
       "<style scoped>\n",
       "    .dataframe tbody tr th:only-of-type {\n",
       "        vertical-align: middle;\n",
       "    }\n",
       "\n",
       "    .dataframe tbody tr th {\n",
       "        vertical-align: top;\n",
       "    }\n",
       "\n",
       "    .dataframe thead th {\n",
       "        text-align: right;\n",
       "    }\n",
       "</style>\n",
       "<table border=\"1\" class=\"dataframe\">\n",
       "  <thead>\n",
       "    <tr style=\"text-align: right;\">\n",
       "      <th></th>\n",
       "      <th>Major</th>\n",
       "      <th>Minor</th>\n",
       "      <th>SalePrice</th>\n",
       "      <th>Stories</th>\n",
       "      <th>BldgGrade</th>\n",
       "      <th>Bedrooms</th>\n",
       "      <th>Bathrooms</th>\n",
       "      <th>SqFtTotLiving</th>\n",
       "      <th>SqFtTotBasement</th>\n",
       "      <th>SqFtOpenPorch</th>\n",
       "      <th>SqFtEnclosedPorch</th>\n",
       "      <th>SqFtDeck</th>\n",
       "      <th>HeatSystem</th>\n",
       "      <th>SqFtLot</th>\n",
       "      <th>Township</th>\n",
       "      <th>StreetSurface</th>\n",
       "      <th>InadequateParking</th>\n",
       "      <th>TrafficNoise</th>\n",
       "      <th>OtherNuisances</th>\n",
       "    </tr>\n",
       "  </thead>\n",
       "  <tbody>\n",
       "    <tr>\n",
       "      <th>count</th>\n",
       "      <td>173128.000000</td>\n",
       "      <td>173128.000000</td>\n",
       "      <td>1.731280e+05</td>\n",
       "      <td>173128.000000</td>\n",
       "      <td>173128.000000</td>\n",
       "      <td>173128.000000</td>\n",
       "      <td>173128.000000</td>\n",
       "      <td>173128.000000</td>\n",
       "      <td>173128.000000</td>\n",
       "      <td>173128.000000</td>\n",
       "      <td>173128.000000</td>\n",
       "      <td>173128.000000</td>\n",
       "      <td>173128.000000</td>\n",
       "      <td>1.731280e+05</td>\n",
       "      <td>173128.000000</td>\n",
       "      <td>173128.000000</td>\n",
       "      <td>173128.000000</td>\n",
       "      <td>173128.000000</td>\n",
       "      <td>173128.000000</td>\n",
       "    </tr>\n",
       "    <tr>\n",
       "      <th>mean</th>\n",
       "      <td>450000.293650</td>\n",
       "      <td>1544.006123</td>\n",
       "      <td>7.432676e+05</td>\n",
       "      <td>1.552063</td>\n",
       "      <td>7.733365</td>\n",
       "      <td>3.460538</td>\n",
       "      <td>2.640116</td>\n",
       "      <td>2194.646302</td>\n",
       "      <td>469.046907</td>\n",
       "      <td>79.311966</td>\n",
       "      <td>5.858469</td>\n",
       "      <td>135.365400</td>\n",
       "      <td>4.970115</td>\n",
       "      <td>4.022123e+04</td>\n",
       "      <td>23.793188</td>\n",
       "      <td>1.013562</td>\n",
       "      <td>1.263967</td>\n",
       "      <td>0.217342</td>\n",
       "      <td>0.030694</td>\n",
       "    </tr>\n",
       "    <tr>\n",
       "      <th>std</th>\n",
       "      <td>288477.614253</td>\n",
       "      <td>2824.528942</td>\n",
       "      <td>9.103075e+05</td>\n",
       "      <td>0.541694</td>\n",
       "      <td>1.199443</td>\n",
       "      <td>0.975715</td>\n",
       "      <td>1.045961</td>\n",
       "      <td>1009.484465</td>\n",
       "      <td>582.078240</td>\n",
       "      <td>133.937209</td>\n",
       "      <td>39.415613</td>\n",
       "      <td>399.453401</td>\n",
       "      <td>1.076105</td>\n",
       "      <td>7.281323e+05</td>\n",
       "      <td>1.657781</td>\n",
       "      <td>0.194392</td>\n",
       "      <td>0.963894</td>\n",
       "      <td>0.570754</td>\n",
       "      <td>0.172488</td>\n",
       "    </tr>\n",
       "    <tr>\n",
       "      <th>min</th>\n",
       "      <td>100.000000</td>\n",
       "      <td>1.000000</td>\n",
       "      <td>1.000000e+00</td>\n",
       "      <td>1.000000</td>\n",
       "      <td>1.000000</td>\n",
       "      <td>0.000000</td>\n",
       "      <td>0.000000</td>\n",
       "      <td>1.000000</td>\n",
       "      <td>0.000000</td>\n",
       "      <td>0.000000</td>\n",
       "      <td>0.000000</td>\n",
       "      <td>0.000000</td>\n",
       "      <td>0.000000</td>\n",
       "      <td>3.750000e+02</td>\n",
       "      <td>19.000000</td>\n",
       "      <td>0.000000</td>\n",
       "      <td>0.000000</td>\n",
       "      <td>0.000000</td>\n",
       "      <td>0.000000</td>\n",
       "    </tr>\n",
       "    <tr>\n",
       "      <th>25%</th>\n",
       "      <td>202306.000000</td>\n",
       "      <td>115.000000</td>\n",
       "      <td>3.970000e+05</td>\n",
       "      <td>1.000000</td>\n",
       "      <td>7.000000</td>\n",
       "      <td>3.000000</td>\n",
       "      <td>2.000000</td>\n",
       "      <td>1470.000000</td>\n",
       "      <td>0.000000</td>\n",
       "      <td>0.000000</td>\n",
       "      <td>0.000000</td>\n",
       "      <td>0.000000</td>\n",
       "      <td>5.000000</td>\n",
       "      <td>5.000000e+03</td>\n",
       "      <td>23.000000</td>\n",
       "      <td>1.000000</td>\n",
       "      <td>0.000000</td>\n",
       "      <td>0.000000</td>\n",
       "      <td>0.000000</td>\n",
       "    </tr>\n",
       "    <tr>\n",
       "      <th>50%</th>\n",
       "      <td>382600.000000</td>\n",
       "      <td>325.000000</td>\n",
       "      <td>5.849500e+05</td>\n",
       "      <td>1.500000</td>\n",
       "      <td>8.000000</td>\n",
       "      <td>3.000000</td>\n",
       "      <td>3.000000</td>\n",
       "      <td>2000.000000</td>\n",
       "      <td>0.000000</td>\n",
       "      <td>40.000000</td>\n",
       "      <td>0.000000</td>\n",
       "      <td>0.000000</td>\n",
       "      <td>5.000000</td>\n",
       "      <td>7.500000e+03</td>\n",
       "      <td>24.000000</td>\n",
       "      <td>1.000000</td>\n",
       "      <td>2.000000</td>\n",
       "      <td>0.000000</td>\n",
       "      <td>0.000000</td>\n",
       "    </tr>\n",
       "    <tr>\n",
       "      <th>75%</th>\n",
       "      <td>725595.000000</td>\n",
       "      <td>1015.000000</td>\n",
       "      <td>8.390000e+05</td>\n",
       "      <td>2.000000</td>\n",
       "      <td>8.000000</td>\n",
       "      <td>4.000000</td>\n",
       "      <td>3.000000</td>\n",
       "      <td>2730.000000</td>\n",
       "      <td>940.000000</td>\n",
       "      <td>110.000000</td>\n",
       "      <td>0.000000</td>\n",
       "      <td>210.000000</td>\n",
       "      <td>5.000000</td>\n",
       "      <td>1.069200e+04</td>\n",
       "      <td>25.000000</td>\n",
       "      <td>1.000000</td>\n",
       "      <td>2.000000</td>\n",
       "      <td>0.000000</td>\n",
       "      <td>0.000000</td>\n",
       "    </tr>\n",
       "    <tr>\n",
       "      <th>max</th>\n",
       "      <td>990600.000000</td>\n",
       "      <td>9694.000000</td>\n",
       "      <td>6.250000e+07</td>\n",
       "      <td>4.000000</td>\n",
       "      <td>13.000000</td>\n",
       "      <td>24.000000</td>\n",
       "      <td>16.000000</td>\n",
       "      <td>14980.000000</td>\n",
       "      <td>5610.000000</td>\n",
       "      <td>11570.000000</td>\n",
       "      <td>2330.000000</td>\n",
       "      <td>140000.000000</td>\n",
       "      <td>8.000000</td>\n",
       "      <td>2.330525e+07</td>\n",
       "      <td>26.000000</td>\n",
       "      <td>4.000000</td>\n",
       "      <td>2.000000</td>\n",
       "      <td>3.000000</td>\n",
       "      <td>1.000000</td>\n",
       "    </tr>\n",
       "  </tbody>\n",
       "</table>\n",
       "</div>"
      ],
      "text/plain": [
       "               Major          Minor     SalePrice        Stories  \\\n",
       "count  173128.000000  173128.000000  1.731280e+05  173128.000000   \n",
       "mean   450000.293650    1544.006123  7.432676e+05       1.552063   \n",
       "std    288477.614253    2824.528942  9.103075e+05       0.541694   \n",
       "min       100.000000       1.000000  1.000000e+00       1.000000   \n",
       "25%    202306.000000     115.000000  3.970000e+05       1.000000   \n",
       "50%    382600.000000     325.000000  5.849500e+05       1.500000   \n",
       "75%    725595.000000    1015.000000  8.390000e+05       2.000000   \n",
       "max    990600.000000    9694.000000  6.250000e+07       4.000000   \n",
       "\n",
       "           BldgGrade       Bedrooms      Bathrooms  SqFtTotLiving  \\\n",
       "count  173128.000000  173128.000000  173128.000000  173128.000000   \n",
       "mean        7.733365       3.460538       2.640116    2194.646302   \n",
       "std         1.199443       0.975715       1.045961    1009.484465   \n",
       "min         1.000000       0.000000       0.000000       1.000000   \n",
       "25%         7.000000       3.000000       2.000000    1470.000000   \n",
       "50%         8.000000       3.000000       3.000000    2000.000000   \n",
       "75%         8.000000       4.000000       3.000000    2730.000000   \n",
       "max        13.000000      24.000000      16.000000   14980.000000   \n",
       "\n",
       "       SqFtTotBasement  SqFtOpenPorch  SqFtEnclosedPorch       SqFtDeck  \\\n",
       "count    173128.000000  173128.000000      173128.000000  173128.000000   \n",
       "mean        469.046907      79.311966           5.858469     135.365400   \n",
       "std         582.078240     133.937209          39.415613     399.453401   \n",
       "min           0.000000       0.000000           0.000000       0.000000   \n",
       "25%           0.000000       0.000000           0.000000       0.000000   \n",
       "50%           0.000000      40.000000           0.000000       0.000000   \n",
       "75%         940.000000     110.000000           0.000000     210.000000   \n",
       "max        5610.000000   11570.000000        2330.000000  140000.000000   \n",
       "\n",
       "          HeatSystem       SqFtLot       Township  StreetSurface  \\\n",
       "count  173128.000000  1.731280e+05  173128.000000  173128.000000   \n",
       "mean        4.970115  4.022123e+04      23.793188       1.013562   \n",
       "std         1.076105  7.281323e+05       1.657781       0.194392   \n",
       "min         0.000000  3.750000e+02      19.000000       0.000000   \n",
       "25%         5.000000  5.000000e+03      23.000000       1.000000   \n",
       "50%         5.000000  7.500000e+03      24.000000       1.000000   \n",
       "75%         5.000000  1.069200e+04      25.000000       1.000000   \n",
       "max         8.000000  2.330525e+07      26.000000       4.000000   \n",
       "\n",
       "       InadequateParking   TrafficNoise  OtherNuisances  \n",
       "count      173128.000000  173128.000000   173128.000000  \n",
       "mean            1.263967       0.217342        0.030694  \n",
       "std             0.963894       0.570754        0.172488  \n",
       "min             0.000000       0.000000        0.000000  \n",
       "25%             0.000000       0.000000        0.000000  \n",
       "50%             2.000000       0.000000        0.000000  \n",
       "75%             2.000000       0.000000        0.000000  \n",
       "max             2.000000       3.000000        1.000000  "
      ]
     },
     "execution_count": 6,
     "metadata": {},
     "output_type": "execute_result"
    }
   ],
   "source": [
    "home_data.describe()"
   ]
  },
  {
   "cell_type": "markdown",
   "metadata": {},
   "source": [
    "These are large datasets, containing more 185098 entries and 24 columns. Almost all of the columns contain numeric data, which is convenient for linear regression. A look at the distribution of variables in the dataset:"
   ]
  },
  {
   "cell_type": "code",
   "execution_count": 7,
   "metadata": {},
   "outputs": [
    {
     "data": {
      "image/png": "[encoded data removed]",
      "text/plain": [
       "<Figure size 1440x1440 with 20 Axes>"
      ]
     },
     "metadata": {
      "needs_background": "light"
     },
     "output_type": "display_data"
    }
   ],
   "source": [
    "home_data.hist(figsize=(20,20));"
   ]
  },
  {
   "cell_type": "markdown",
   "metadata": {},
   "source": [
    "I will check for any missing values:"
   ]
  },
  {
   "cell_type": "code",
   "execution_count": 9,
   "metadata": {},
   "outputs": [
    {
     "name": "stdout",
     "output_type": "stream",
     "text": [
      "Major 0\n",
      "Minor 0\n",
      "SalePrice 0\n",
      "DocumentDate 0\n",
      "Stories 0\n",
      "BldgGrade 0\n",
      "Bedrooms 0\n",
      "Bathrooms 0\n",
      "SqFtTotLiving 0\n",
      "SqFtTotBasement 0\n",
      "SqFtOpenPorch 0\n",
      "SqFtEnclosedPorch 0\n",
      "SqFtDeck 0\n",
      "HeatSystem 0\n",
      "SqFtLot 0\n",
      "Township 0\n",
      "DistrictName 0\n",
      "StreetSurface 0\n",
      "InadequateParking 0\n",
      "TrafficNoise 0\n",
      "OtherNuisances 0\n"
     ]
    }
   ],
   "source": [
    "for column in list(home_data.columns):\n",
    "    print(column, sum(home_data[column].isnull()))"
   ]
  },
  {
   "cell_type": "code",
   "execution_count": 15,
   "metadata": {},
   "outputs": [
    {
     "name": "stderr",
     "output_type": "stream",
     "text": [
      "C:\\Users\\15164\\anaconda3\\envs\\learn-env\\lib\\site-packages\\seaborn\\_decorators.py:36: FutureWarning: Pass the following variable as a keyword arg: x. From version 0.12, the only valid positional argument will be `data`, and passing other arguments without an explicit keyword will result in an error or misinterpretation.\n",
      "  warnings.warn(\n"
     ]
    },
    {
     "data": {
      "image/png": "[encoded data removed]",
      "text/plain": [
       "<Figure size 720x504 with 2 Axes>"
      ]
     },
     "metadata": {
      "needs_background": "light"
     },
     "output_type": "display_data"
    }
   ],
   "source": [
    "x = home_data.SalePrice\n",
    "fig, ax = plt.subplots(2,1, figsize=(10,7))\n",
    "sns.histplot(x, ax = ax[0])\n",
    "sns.boxplot(x, ax= ax[1]);"
   ]
  },
  {
   "cell_type": "code",
   "execution_count": 16,
   "metadata": {},
   "outputs": [
    {
     "name": "stderr",
     "output_type": "stream",
     "text": [
      "C:\\Users\\15164\\anaconda3\\envs\\learn-env\\lib\\site-packages\\seaborn\\distributions.py:2551: FutureWarning: `distplot` is a deprecated function and will be removed in a future version. Please adapt your code to use either `displot` (a figure-level function with similar flexibility) or `histplot` (an axes-level function for histograms).\n",
      "  warnings.warn(msg, FutureWarning)\n",
      "C:\\Users\\15164\\anaconda3\\envs\\learn-env\\lib\\site-packages\\seaborn\\_decorators.py:36: FutureWarning: Pass the following variable as a keyword arg: x. From version 0.12, the only valid positional argument will be `data`, and passing other arguments without an explicit keyword will result in an error or misinterpretation.\n",
      "  warnings.warn(\n"
     ]
    },
    {
     "data": {
      "image/png": "[encoded data removed]",
      "text/plain": [
       "<Figure size 720x360 with 2 Axes>"
      ]
     },
     "metadata": {
      "needs_background": "light"
     },
     "output_type": "display_data"
    }
   ],
   "source": [
    "x = home_data.SqFtTotLiving\n",
    "fig, ax = plt.subplots(2,1, figsize=(10,5))\n",
    "sns.distplot(x, ax = ax[0])\n",
    "sns.boxplot(x, ax= ax[1]);"
   ]
  },
  {
   "cell_type": "markdown",
   "metadata": {},
   "source": [
    "## Feature Engineering\n",
    "To prepare the features for my model I will have:\n",
    "\n",
    "1- Checked for and remove extreme outliers in the data.\n",
    "\n",
    "2- One-hot encoded binned data (since categorical data are on a scale and are treated as continuous).\n",
    "\n",
    "3- Normalized to account for heteroskedastic and skewed data and place all features on the one scale to compare coefficients."
   ]
  },
  {
   "cell_type": "markdown",
   "metadata": {},
   "source": [
    "### Outliers"
   ]
  },
  {
   "cell_type": "markdown",
   "metadata": {},
   "source": [
    "Outliers (rogue data or variables that differ greatly from the majority of the data points) should be retained if they have the potential to reveal useful information about relationships in our data. After careful consideration I've decided to remove the outliers of the 'Bedrooms' and 'Bathrooms' columns because if a home in the dataset has upwards of 5 bathrooms and more than 10 bedrooms for example, then it's most likely that they are larger units that would be beyond the scope of this particular analysis. For this reason, I'll remove the rows that contain outlier values for these two columns."
   ]
  },
  {
   "cell_type": "code",
   "execution_count": null,
   "metadata": {},
   "outputs": [],
   "source": [
    "count = 0\n",
    "bath_outliers = []\n",
    "mean = np.mean(housing_info['Bathrooms'])\n",
    "max_distance = np.std(housing_info['Bathrooms']) * 3 \n",
    "\n",
    "for idx, row in housing_info['Bathrooms'].T.iteritems():\n",
    "    if abs(row-mean) >= max_distance:\n",
    "        count += 1\n",
    "        housing_info.drop(idx, inplace=True)\n",
    "count"
   ]
  },
  {
   "cell_type": "code",
   "execution_count": null,
   "metadata": {},
   "outputs": [],
   "source": [
    "count = 0\n",
    "bed_outliers = []\n",
    "mean = np.mean(housing_info['Bedrooms'])\n",
    "max_distance = np.std(housing_info['Bedrooms']) * 3 \n",
    "\n",
    "for idx, row in housing_info['Bedrooms'].T.iteritems():\n",
    "    if abs(row-mean) >= max_distance:\n",
    "        count += 1\n",
    "        housing_info.drop(idx,inplace=True)\n",
    "count"
   ]
  },
  {
   "cell_type": "markdown",
   "metadata": {},
   "source": [
    "After dropping just under 1900 'Bathroom' outliers, 938 'Bedroom' outliers remained: removing these outliers most likely also excluded removed extreme values for other variables."
   ]
  },
  {
   "cell_type": "markdown",
   "metadata": {},
   "source": [
    "### One-Hot Encoding"
   ]
  },
  {
   "cell_type": "markdown",
   "metadata": {},
   "source": [
    "The main variable I would expect to be highly related with price, but does not have a clear linear relationship is 'Condition', whose values are on a scale of 1 ('poor') to 5 ('very good). As seen in the scatterplot below, in terms of price, 'average' houses tend to perform best."
   ]
  },
  {
   "cell_type": "code",
   "execution_count": null,
   "metadata": {},
   "outputs": [],
   "source": [
    "plt.figure(figsize=(10,7))\n",
    "sns.scatterplot(housing_info['Condition'], housing_info['SalePrice'])\n",
    "plt.title('Condition and Price', fontsize=15)"
   ]
  },
  {
   "cell_type": "markdown",
   "metadata": {},
   "source": [
    "This could be owed to the fact that conditions are relative to age and grade ( an evaluation of the construction materials and level of craftsmanship used to build houses). An expensive, impeccably designed new construction could be given an 'average' rating if some functional adjustments are required. As we can see in the scatterplot below, average condition houses also tend to have the highest grade rating."
   ]
  },
  {
   "cell_type": "code",
   "execution_count": null,
   "metadata": {},
   "outputs": [],
   "source": [
    "plt.figure(figsize=(10,7))\n",
    "sns.scatterplot(housing_info['Condition'], housing_info['BldgGrade'])\n",
    "plt.title('House Condition and Grade', fontsize=15)"
   ]
  },
  {
   "cell_type": "markdown",
   "metadata": {},
   "source": [
    "Since there may be a clearer linear relationship between specific condition values and prices, I will explore more thoroughly by one-hot encoding the variable."
   ]
  },
  {
   "cell_type": "code",
   "execution_count": null,
   "metadata": {},
   "outputs": [],
   "source": [
    "one_hot = pd.get_dummies(housing_info['Condition'], drop_first=True) #drop a column to avoid dummy variable trap\n",
    "housing_info = housing_info.drop('Condition',axis = 1) #drop the original column \n",
    "housing_info = housing_info.join(one_hot) #joins the new variables to the dataframe"
   ]
  },
  {
   "cell_type": "markdown",
   "metadata": {},
   "source": [
    "Now I will take a look to see if we get a clearer picture of linear relationships by drawing up a scatterplot."
   ]
  },
  {
   "cell_type": "code",
   "execution_count": null,
   "metadata": {
    "scrolled": false
   },
   "outputs": [],
   "source": [
    "price = housing_info['SalePrice']\n",
    "two = housing_info['two'] = housing_info[2] \n",
    "three = housing_info['three'] = housing_info[3] \n",
    "four = housing_info['four'] = housing_info[4] \n",
    "five = housing_info['five'] = housing_info[5] \n",
    "\n",
    "fig = plt.figure()\n",
    "fig, axes = plt.subplots(nrows = 2, ncols = 2, sharex=False, sharey = True, figsize=(10,5))\n",
    "\n",
    "fig.suptitle('House Condition and Price', fontsize=18, y=1.1)\n",
    "fig.text(0.0001, 0.56, 'Prices', va='center', rotation='vertical', fontsize=16)\n",
    "\n",
    "plot = axes[0][0].scatter(two, price, c = price, marker = \"o\")\n",
    "axes[0][0].set_xlabel('Condition 2')\n",
    "\n",
    "axes[0][1].scatter(three, price, c = price, marker = \"o\")\n",
    "axes[0][1].set_xlabel('Condition 3')\n",
    "\n",
    "axes[1][0].scatter(four, price, c = price, marker = \"o\")\n",
    "axes[1][0].set_xlabel('Condition 4')\n",
    "\n",
    "axes[1][1].scatter(five, price, c = price, marker = \"o\")\n",
    "axes[1][1].set_xlabel('Condition 5')\n",
    "\n",
    "\n",
    "fig.tight_layout()\n",
    "plt.show()"
   ]
  },
  {
   "cell_type": "markdown",
   "metadata": {},
   "source": [
    "There are linear relationships for each column as seen in the plot above, with Condition 3 and 4 showing a strong relationship."
   ]
  },
  {
   "cell_type": "markdown",
   "metadata": {},
   "source": [
    "To see which variables should be included in my model, I should investigate which variables are most strongly correlated with price. We want to make sure that there is no multicollinearity (meaning they can't be accurately predicted by other explanatory variables) among the explanatory variables. Below is a correlation matrix visualization of price and continuous variables in the dataset."
   ]
  },
  {
   "cell_type": "code",
   "execution_count": null,
   "metadata": {},
   "outputs": [],
   "source": [
    "#create a list of meaningfully continuous x variables for our features\n",
    "features = ['Bedrooms', 'Bathrooms', 'SqFtTotLiving','SqFt1stFloor','SqFt2ndFloor', 'SqFtEnclosedPorch',\n",
    "             'SqFtLot', 'SqFtUpperFloor','Stories', 'SqFtTotBasement','BldgGrade','TrafficNoise', 'OtherNuisances',\n",
    "             'HeatSystem', 'YrBuilt', 'HeatSource', 2, 3, 4, 5]\n",
    "\n",
    "#update dataframe to only include the above variables\n",
    "df_clean = housing_info[features]\n",
    "df_clean['Price'] = housing_info['SalePrice']\n",
    "housing_info = df_clean"
   ]
  },
  {
   "cell_type": "code",
   "execution_count": null,
   "metadata": {},
   "outputs": [],
   "source": [
    "corr = housing_info.corr().abs()\n",
    "fig, ax=plt.subplots(figsize=(17,12))\n",
    "fig.suptitle('Variable Correlations', fontsize=15, y=.95)\n",
    "heatmap = sns.heatmap(corr, cmap='Reds', annot=True)\n",
    "heatmap"
   ]
  },
  {
   "cell_type": "markdown",
   "metadata": {},
   "source": [
    "As seen in this heatmap, variables related to the size of the home (for example, total sqft, number of bedrooms and bathrooms) are highly correlated with each other. In general, we shouldn't two have x variables whose correlation exceeds .8 in the same model, however, variables that are correlated with the y variable should be. "
   ]
  },
  {
   "cell_type": "markdown",
   "metadata": {},
   "source": [
    "### Normalizing the Data with Log Transformations"
   ]
  },
  {
   "cell_type": "markdown",
   "metadata": {},
   "source": [
    "In order to meet the normal assumption since many of the features have skewed data, I will normalize the data by log transforming and then normalizing and scaling. Since after removing outliers, the model's residuals were not normally distributed and did not meet the normality assumption, which was was apparent with a Q-Q plot of the residuals. \n",
    "\n",
    "With this, we will have a look at which features affect price the most, even without having an exact output for price.\n"
   ]
  },
  {
   "cell_type": "code",
   "execution_count": null,
   "metadata": {},
   "outputs": [],
   "source": [
    "features = ['Bedrooms', 'SqFtTotLiving','SqFt1stFloor','SqFtLot', 'Stories', 'BldgGrade','YrBuilt']\n",
    "\n",
    "cont_features = housing_info[features]\n",
    "\n",
    "#***Log Transformation***\n",
    "df_log = np.log(cont_features)\n",
    "\n",
    "\n",
    "\n",
    "#***Normalization***\n",
    "\n",
    "def normalize(feature):\n",
    "    return (feature - feature.mean()) / feature.std()\n",
    "\n",
    "\n",
    "df_log_norm = df_log.apply(normalize) #<---Applying function to normalize\n",
    "\n",
    "#***Scaling***\n",
    "\n",
    "def minmaxscale(feature):\n",
    "    return (feature-min(feature))/(max(feature)-min(feature)) #<- Moving everything to a 0 to 1 scale:\n",
    "\n",
    "\n",
    "df_log_norm_scale = df_log.apply(minmaxscale)\n",
    "\n",
    "housing_info = housing_info.drop(features, axis=1) #<- Remove original column from data set\n",
    "\n",
    "housing_info = pd.concat([housing_info, df_log_norm_scale], axis=1) #<-Adding new columns in"
   ]
  },
  {
   "cell_type": "code",
   "execution_count": null,
   "metadata": {},
   "outputs": [],
   "source": [
    "housing_info.describe()"
   ]
  },
  {
   "cell_type": "code",
   "execution_count": null,
   "metadata": {},
   "outputs": [],
   "source": [
    "abs(housing_info[features].corr()) > 0.70"
   ]
  },
  {
   "cell_type": "code",
   "execution_count": null,
   "metadata": {},
   "outputs": [],
   "source": [
    "features = []\n",
    "correlations = []\n",
    "for idx, correlation in corr['Price'].T.iteritems():\n",
    "    if correlation >= .20 and idx != 'Price':\n",
    "        features.append(idx)\n",
    "        correlations.append(correlation)\n",
    "corr_prices = pd.DataFrame({'Correlations':correlations,\n",
    "                            'Features': features}).sort_values(by=['Correlations'], ascending=False)"
   ]
  },
  {
   "cell_type": "code",
   "execution_count": null,
   "metadata": {},
   "outputs": [],
   "source": [
    "Multicollinear_Features = []\n",
    "Multicollinear_Corr = []\n",
    "def check_multicollinearity(feature):\n",
    "    for idx, correlation in corr[feature].T.iteritems():\n",
    "        if correlation >= .70 and idx != feature:\n",
    "            Multicollinear_Features.append([feature, idx])\n",
    "            Multicollinear_Corr.append(correlation)\n",
    "            \n",
    "for feature in corr:\n",
    "    check_multicollinearity(feature)\n",
    "MultiC = pd.DataFrame({'Correlations':Multicollinear_Corr, \n",
    "                      'Features': Multicollinear_Features}).sort_values(by=['Correlations'], ascending=False)"
   ]
  },
  {
   "cell_type": "code",
   "execution_count": null,
   "metadata": {},
   "outputs": [],
   "source": [
    "print('Correlations with Price')\n",
    "display(corr_prices)\n",
    "print('Multicollinear Features')\n",
    "display(MultiC)"
   ]
  },
  {
   "cell_type": "markdown",
   "metadata": {},
   "source": [
    "In general, correlations above .8 are considered high and while there are no correlations with price above .8 in the dataset, there are several features with mildly strong correlations. SqFtTotLiving, BldgGrade, Bathrooms, and SqFt2ndFloor have the highest correlations with price. Below, we create objects for the variables that are strong candidates for inclusion in the model."
   ]
  },
  {
   "cell_type": "code",
   "execution_count": null,
   "metadata": {},
   "outputs": [],
   "source": [
    "Price = housing_info['Price']\n",
    "Grade = housing_info['BldgGrade']\n",
    "Sqft_living = housing_info['SqFtTotLiving']\n",
    "Bath = housing_info['Bathrooms']\n",
    "SqFt2ndLiving = housing_info['SqFt2ndFloor']"
   ]
  },
  {
   "cell_type": "code",
   "execution_count": null,
   "metadata": {},
   "outputs": [],
   "source": [
    "fig = plt.figure()\n",
    "fig, axes = plt.subplots(ncols = 2, nrows=2, sharex=False, sharey = True,  squeeze=False, figsize=(17,12))\n",
    "\n",
    "fig.suptitle('Correlates of King County Home Prices', fontsize=20)\n",
    "fig.text(0.001, 0.56, 'Prices', va='center', rotation='vertical', fontsize=16)\n",
    "\n",
    "plot = axes[0][0].scatter(Sqft2ndFloor, Price, c = price, marker = \"x\")\n",
    "axes[0][0].set_xlabel('Sqft 2nd Floor')\n",
    "\n",
    "axes[0][1].scatter(Sqft_living, Price, c = price, marker = \"x\")\n",
    "axes[0][1].set_xlabel('SqFt Total Living')\n",
    "\n",
    "axes[1][0].scatter(Bath, Price, c = price, marker = \"x\")\n",
    "axes[1][0].set_xlabel('Bathrooms')\n",
    "\n",
    "axes[1][1].scatter(Grade, Price, c = price, marker = \"x\")\n",
    "axes[1][1].set_xlabel('Grade')\n",
    "\n",
    "\n",
    "cbar_ax = fig.add_axes([1, 0.22, 0.05, 0.7])\n",
    "\n",
    "fig.colorbar(plot, cax=cbar_ax)\n",
    "\n",
    "plt.show()"
   ]
  },
  {
   "cell_type": "markdown",
   "metadata": {},
   "source": []
  },
  {
   "cell_type": "code",
   "execution_count": null,
   "metadata": {},
   "outputs": [],
   "source": [
    "sns.set_context(\"paper\")\n",
    "sns.regplot(housing_info.SqFtTotBasement, housing_info.SqFtTotLiving)\n",
    "plt.show()"
   ]
  },
  {
   "cell_type": "code",
   "execution_count": null,
   "metadata": {},
   "outputs": [],
   "source": []
  }
 ],
 "metadata": {
  "kernelspec": {
   "display_name": "learn-env",
   "language": "python",
   "name": "learn-env"
  },
  "language_info": {
   "codemirror_mode": {
    "name": "ipython",
    "version": 3
   },
   "file_extension": ".py",
   "mimetype": "text/x-python",
   "name": "python",
   "nbconvert_exporter": "python",
   "pygments_lexer": "ipython3",
   "version": "3.8.5"
  }
 },
 "nbformat": 4,
 "nbformat_minor": 4
}
