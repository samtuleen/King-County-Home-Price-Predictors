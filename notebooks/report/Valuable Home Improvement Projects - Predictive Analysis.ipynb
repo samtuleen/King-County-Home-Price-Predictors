{
 "cells": [
  {
   "cell_type": "markdown",
   "metadata": {},
   "source": [
    "# Predicting the Most Valuable Home Improvement Projects In King County"
   ]
  },
  {
   "cell_type": "markdown",
   "metadata": {},
   "source": [
    "## Introduction"
   ]
  },
  {
   "cell_type": "markdown",
   "metadata": {},
   "source": [
    "The King County Housing Data Set contains information about the size, location, condition, and other features of houses in King County. A full description of the dataset's columns can be found below. The aim of this project is to develop a linear regression model than can predict which home improvement projects will add to the sale value of homes."
   ]
  },
  {
   "cell_type": "markdown",
   "metadata": {},
   "source": [
    "## Business Problem"
   ]
  },
  {
   "cell_type": "markdown",
   "metadata": {},
   "source": [
    "A client in King County, WA wants to advise homeowners on home improvement projects that will add to the sale value of their homes."
   ]
  },
  {
   "cell_type": "markdown",
   "metadata": {},
   "source": [
    "## Analysis Questions"
   ]
  },
  {
   "cell_type": "markdown",
   "metadata": {},
   "source": [
    "This analysis will seek to answer three questions about the data:\n",
    "\n",
    "Question 1: Will enclosing a porch increase the sale price of a home?\n",
    "\n",
    "Question 2: Is converting a garage to a bedroom a good way to increase the sale price of a home?\n",
    "\n",
    "Question 3: Will upgrading to a forced-air heating system increase the sale price of a home?"
   ]
  },
  {
   "cell_type": "markdown",
   "metadata": {},
   "source": [
    "## Previewing the data"
   ]
  },
  {
   "cell_type": "code",
   "execution_count": 1,
   "metadata": {},
   "outputs": [],
   "source": [
    "import numpy as np\n",
    "import pandas as pd\n",
    "import matplotlib.pyplot as plt\n",
    "%matplotlib inline\n",
    "import seaborn as sns"
   ]
  },
  {
   "cell_type": "code",
   "execution_count": 2,
   "metadata": {},
   "outputs": [
    {
     "data": {
      "text/html": [
       "<div>\n",
       "<style scoped>\n",
       "    .dataframe tbody tr th:only-of-type {\n",
       "        vertical-align: middle;\n",
       "    }\n",
       "\n",
       "    .dataframe tbody tr th {\n",
       "        vertical-align: top;\n",
       "    }\n",
       "\n",
       "    .dataframe thead th {\n",
       "        text-align: right;\n",
       "    }\n",
       "</style>\n",
       "<table border=\"1\" class=\"dataframe\">\n",
       "  <thead>\n",
       "    <tr style=\"text-align: right;\">\n",
       "      <th></th>\n",
       "      <th>Unnamed: 0</th>\n",
       "      <th>ExciseTaxNbr</th>\n",
       "      <th>Major</th>\n",
       "      <th>Minor</th>\n",
       "      <th>DocumentDate</th>\n",
       "      <th>SalePrice</th>\n",
       "      <th>RecordingNbr</th>\n",
       "      <th>PropertyType</th>\n",
       "      <th>PrincipalUse</th>\n",
       "      <th>BldgNbr</th>\n",
       "      <th>...</th>\n",
       "      <th>HeatSystem</th>\n",
       "      <th>HeatSource</th>\n",
       "      <th>Bedrooms</th>\n",
       "      <th>YrBuilt</th>\n",
       "      <th>Condition</th>\n",
       "      <th>SqFtLot</th>\n",
       "      <th>View</th>\n",
       "      <th>TrafficNoise</th>\n",
       "      <th>OtherNuisances</th>\n",
       "      <th>Bathrooms</th>\n",
       "    </tr>\n",
       "  </thead>\n",
       "  <tbody>\n",
       "    <tr>\n",
       "      <th>0</th>\n",
       "      <td>0</td>\n",
       "      <td>2743355</td>\n",
       "      <td>638580</td>\n",
       "      <td>110</td>\n",
       "      <td>07/14/2015</td>\n",
       "      <td>190000</td>\n",
       "      <td>20150715002686</td>\n",
       "      <td>3</td>\n",
       "      <td>6</td>\n",
       "      <td>1.0</td>\n",
       "      <td>...</td>\n",
       "      <td>5.0</td>\n",
       "      <td>2.0</td>\n",
       "      <td>4.0</td>\n",
       "      <td>1963.0</td>\n",
       "      <td>3.0</td>\n",
       "      <td>10534</td>\n",
       "      <td>0</td>\n",
       "      <td>0</td>\n",
       "      <td>N</td>\n",
       "      <td>2.0</td>\n",
       "    </tr>\n",
       "    <tr>\n",
       "      <th>1</th>\n",
       "      <td>1</td>\n",
       "      <td>2841697</td>\n",
       "      <td>894677</td>\n",
       "      <td>240</td>\n",
       "      <td>12/21/2016</td>\n",
       "      <td>818161</td>\n",
       "      <td>20161228000896</td>\n",
       "      <td>2</td>\n",
       "      <td>6</td>\n",
       "      <td>1.0</td>\n",
       "      <td>...</td>\n",
       "      <td>5.0</td>\n",
       "      <td>2.0</td>\n",
       "      <td>4.0</td>\n",
       "      <td>2016.0</td>\n",
       "      <td>3.0</td>\n",
       "      <td>3813</td>\n",
       "      <td>0</td>\n",
       "      <td>0</td>\n",
       "      <td>N</td>\n",
       "      <td>3.0</td>\n",
       "    </tr>\n",
       "    <tr>\n",
       "      <th>2</th>\n",
       "      <td>2</td>\n",
       "      <td>2860712</td>\n",
       "      <td>408330</td>\n",
       "      <td>4150</td>\n",
       "      <td>03/15/2017</td>\n",
       "      <td>1069300</td>\n",
       "      <td>20170426000922</td>\n",
       "      <td>3</td>\n",
       "      <td>6</td>\n",
       "      <td>1.0</td>\n",
       "      <td>...</td>\n",
       "      <td>5.0</td>\n",
       "      <td>2.0</td>\n",
       "      <td>5.0</td>\n",
       "      <td>1906.0</td>\n",
       "      <td>4.0</td>\n",
       "      <td>3420</td>\n",
       "      <td>0</td>\n",
       "      <td>0</td>\n",
       "      <td>N</td>\n",
       "      <td>3.0</td>\n",
       "    </tr>\n",
       "    <tr>\n",
       "      <th>3</th>\n",
       "      <td>3</td>\n",
       "      <td>2813396</td>\n",
       "      <td>510140</td>\n",
       "      <td>4256</td>\n",
       "      <td>07/25/2016</td>\n",
       "      <td>1069300</td>\n",
       "      <td>20160802000964</td>\n",
       "      <td>2</td>\n",
       "      <td>6</td>\n",
       "      <td>1.0</td>\n",
       "      <td>...</td>\n",
       "      <td>5.0</td>\n",
       "      <td>2.0</td>\n",
       "      <td>3.0</td>\n",
       "      <td>1949.0</td>\n",
       "      <td>3.0</td>\n",
       "      <td>3520</td>\n",
       "      <td>0</td>\n",
       "      <td>0</td>\n",
       "      <td>N</td>\n",
       "      <td>1.0</td>\n",
       "    </tr>\n",
       "    <tr>\n",
       "      <th>4</th>\n",
       "      <td>4</td>\n",
       "      <td>2899303</td>\n",
       "      <td>126320</td>\n",
       "      <td>110</td>\n",
       "      <td>10/30/2017</td>\n",
       "      <td>375000</td>\n",
       "      <td></td>\n",
       "      <td>3</td>\n",
       "      <td>6</td>\n",
       "      <td>1.0</td>\n",
       "      <td>...</td>\n",
       "      <td>4.0</td>\n",
       "      <td>3.0</td>\n",
       "      <td>3.0</td>\n",
       "      <td>1919.0</td>\n",
       "      <td>3.0</td>\n",
       "      <td>4760</td>\n",
       "      <td>0</td>\n",
       "      <td>0</td>\n",
       "      <td>N</td>\n",
       "      <td>1.0</td>\n",
       "    </tr>\n",
       "  </tbody>\n",
       "</table>\n",
       "<p>5 rows × 40 columns</p>\n",
       "</div>"
      ],
      "text/plain": [
       "   Unnamed: 0  ExciseTaxNbr   Major  Minor DocumentDate  SalePrice  \\\n",
       "0           0       2743355  638580    110   07/14/2015     190000   \n",
       "1           1       2841697  894677    240   12/21/2016     818161   \n",
       "2           2       2860712  408330   4150   03/15/2017    1069300   \n",
       "3           3       2813396  510140   4256   07/25/2016    1069300   \n",
       "4           4       2899303  126320    110   10/30/2017     375000   \n",
       "\n",
       "     RecordingNbr  PropertyType  PrincipalUse  BldgNbr  ...  HeatSystem  \\\n",
       "0  20150715002686             3             6      1.0  ...         5.0   \n",
       "1  20161228000896             2             6      1.0  ...         5.0   \n",
       "2  20170426000922             3             6      1.0  ...         5.0   \n",
       "3  20160802000964             2             6      1.0  ...         5.0   \n",
       "4                             3             6      1.0  ...         4.0   \n",
       "\n",
       "  HeatSource Bedrooms  YrBuilt  Condition  SqFtLot  View  TrafficNoise  \\\n",
       "0        2.0      4.0   1963.0        3.0    10534     0             0   \n",
       "1        2.0      4.0   2016.0        3.0     3813     0             0   \n",
       "2        2.0      5.0   1906.0        4.0     3420     0             0   \n",
       "3        2.0      3.0   1949.0        3.0     3520     0             0   \n",
       "4        3.0      3.0   1919.0        3.0     4760     0             0   \n",
       "\n",
       "   OtherNuisances  Bathrooms  \n",
       "0               N        2.0  \n",
       "1               N        3.0  \n",
       "2               N        3.0  \n",
       "3               N        1.0  \n",
       "4               N        1.0  \n",
       "\n",
       "[5 rows x 40 columns]"
      ]
     },
     "execution_count": 2,
     "metadata": {},
     "output_type": "execute_result"
    }
   ],
   "source": [
    "housing_info = pd.read_csv('../../data/processed/housing_info.csv')\n",
    "housing_info.head()"
   ]
  },
  {
   "cell_type": "code",
   "execution_count": 3,
   "metadata": {},
   "outputs": [],
   "source": [
    "#Dropping the Unnamed: 0 column since no valuable data is provided\n",
    "housing_info.drop(['Unnamed: 0'], axis = 1, inplace=True)"
   ]
  },
  {
   "cell_type": "code",
   "execution_count": 4,
   "metadata": {},
   "outputs": [
    {
     "name": "stdout",
     "output_type": "stream",
     "text": [
      "<class 'pandas.core.frame.DataFrame'>\n",
      "RangeIndex: 246655 entries, 0 to 246654\n",
      "Data columns (total 39 columns):\n",
      " #   Column              Non-Null Count   Dtype  \n",
      "---  ------              --------------   -----  \n",
      " 0   ExciseTaxNbr        246655 non-null  int64  \n",
      " 1   Major               246655 non-null  int64  \n",
      " 2   Minor               246655 non-null  int64  \n",
      " 3   DocumentDate        246655 non-null  object \n",
      " 4   SalePrice           246655 non-null  int64  \n",
      " 5   RecordingNbr        246655 non-null  object \n",
      " 6   PropertyType        246655 non-null  int64  \n",
      " 7   PrincipalUse        246655 non-null  int64  \n",
      " 8   BldgNbr             246655 non-null  float64\n",
      " 9   NbrLivingUnits      246655 non-null  float64\n",
      " 10  Address             246655 non-null  object \n",
      " 11  BuildingNumber      246655 non-null  object \n",
      " 12  Stories             246655 non-null  float64\n",
      " 13  BldgGrade           246655 non-null  float64\n",
      " 14  SqFt1stFloor        246655 non-null  float64\n",
      " 15  SqFt2ndFloor        246655 non-null  float64\n",
      " 16  SqFtUpperFloor      246655 non-null  float64\n",
      " 17  SqFtUnfinFull       246655 non-null  float64\n",
      " 18  SqFtUnfinHalf       246655 non-null  float64\n",
      " 19  SqFtTotLiving       246655 non-null  float64\n",
      " 20  SqFtTotBasement     246655 non-null  float64\n",
      " 21  SqFtFinBasement     246655 non-null  float64\n",
      " 22  FinBasementGrade    246655 non-null  float64\n",
      " 23  SqFtGarageBasement  246655 non-null  float64\n",
      " 24  SqFtGarageAttached  246655 non-null  float64\n",
      " 25  DaylightBasement    246655 non-null  object \n",
      " 26  SqFtOpenPorch       246655 non-null  float64\n",
      " 27  SqFtEnclosedPorch   246655 non-null  float64\n",
      " 28  SqFtDeck            246655 non-null  float64\n",
      " 29  HeatSystem          246655 non-null  float64\n",
      " 30  HeatSource          246655 non-null  float64\n",
      " 31  Bedrooms            246655 non-null  float64\n",
      " 32  YrBuilt             246655 non-null  float64\n",
      " 33  Condition           246655 non-null  float64\n",
      " 34  SqFtLot             246655 non-null  int64  \n",
      " 35  View                246655 non-null  int64  \n",
      " 36  TrafficNoise        246655 non-null  int64  \n",
      " 37  OtherNuisances      246655 non-null  object \n",
      " 38  Bathrooms           246655 non-null  float64\n",
      "dtypes: float64(24), int64(9), object(6)\n",
      "memory usage: 73.4+ MB\n"
     ]
    }
   ],
   "source": [
    "housing_info.info()"
   ]
  },
  {
   "cell_type": "code",
   "execution_count": 5,
   "metadata": {},
   "outputs": [
    {
     "data": {
      "text/html": [
       "<div>\n",
       "<style scoped>\n",
       "    .dataframe tbody tr th:only-of-type {\n",
       "        vertical-align: middle;\n",
       "    }\n",
       "\n",
       "    .dataframe tbody tr th {\n",
       "        vertical-align: top;\n",
       "    }\n",
       "\n",
       "    .dataframe thead th {\n",
       "        text-align: right;\n",
       "    }\n",
       "</style>\n",
       "<table border=\"1\" class=\"dataframe\">\n",
       "  <thead>\n",
       "    <tr style=\"text-align: right;\">\n",
       "      <th></th>\n",
       "      <th>ExciseTaxNbr</th>\n",
       "      <th>Major</th>\n",
       "      <th>Minor</th>\n",
       "      <th>SalePrice</th>\n",
       "      <th>PropertyType</th>\n",
       "      <th>PrincipalUse</th>\n",
       "      <th>BldgNbr</th>\n",
       "      <th>NbrLivingUnits</th>\n",
       "      <th>Stories</th>\n",
       "      <th>BldgGrade</th>\n",
       "      <th>...</th>\n",
       "      <th>SqFtDeck</th>\n",
       "      <th>HeatSystem</th>\n",
       "      <th>HeatSource</th>\n",
       "      <th>Bedrooms</th>\n",
       "      <th>YrBuilt</th>\n",
       "      <th>Condition</th>\n",
       "      <th>SqFtLot</th>\n",
       "      <th>View</th>\n",
       "      <th>TrafficNoise</th>\n",
       "      <th>Bathrooms</th>\n",
       "    </tr>\n",
       "  </thead>\n",
       "  <tbody>\n",
       "    <tr>\n",
       "      <th>count</th>\n",
       "      <td>2.466550e+05</td>\n",
       "      <td>246655.000000</td>\n",
       "      <td>246655.000000</td>\n",
       "      <td>2.466550e+05</td>\n",
       "      <td>246655.000000</td>\n",
       "      <td>246655.000000</td>\n",
       "      <td>246655.000000</td>\n",
       "      <td>246655.0</td>\n",
       "      <td>246655.000000</td>\n",
       "      <td>246655.000000</td>\n",
       "      <td>...</td>\n",
       "      <td>246655.000000</td>\n",
       "      <td>246655.000000</td>\n",
       "      <td>246655.000000</td>\n",
       "      <td>246655.000000</td>\n",
       "      <td>246655.000000</td>\n",
       "      <td>246655.000000</td>\n",
       "      <td>2.466550e+05</td>\n",
       "      <td>246655.000000</td>\n",
       "      <td>246655.000000</td>\n",
       "      <td>246655.000000</td>\n",
       "    </tr>\n",
       "    <tr>\n",
       "      <th>mean</th>\n",
       "      <td>2.879853e+06</td>\n",
       "      <td>447797.033877</td>\n",
       "      <td>1599.483773</td>\n",
       "      <td>8.386916e+05</td>\n",
       "      <td>6.171170</td>\n",
       "      <td>6.001670</td>\n",
       "      <td>1.029320</td>\n",
       "      <td>1.0</td>\n",
       "      <td>1.521076</td>\n",
       "      <td>7.695928</td>\n",
       "      <td>...</td>\n",
       "      <td>136.399250</td>\n",
       "      <td>4.950088</td>\n",
       "      <td>2.094663</td>\n",
       "      <td>3.425258</td>\n",
       "      <td>1975.587326</td>\n",
       "      <td>3.441897</td>\n",
       "      <td>3.879752e+04</td>\n",
       "      <td>0.013557</td>\n",
       "      <td>0.222704</td>\n",
       "      <td>2.579457</td>\n",
       "    </tr>\n",
       "    <tr>\n",
       "      <th>std</th>\n",
       "      <td>9.809949e+04</td>\n",
       "      <td>287621.330384</td>\n",
       "      <td>2888.105119</td>\n",
       "      <td>7.126497e+05</td>\n",
       "      <td>6.210713</td>\n",
       "      <td>0.101385</td>\n",
       "      <td>0.434099</td>\n",
       "      <td>0.0</td>\n",
       "      <td>0.536648</td>\n",
       "      <td>1.214887</td>\n",
       "      <td>...</td>\n",
       "      <td>356.420356</td>\n",
       "      <td>1.065029</td>\n",
       "      <td>0.591210</td>\n",
       "      <td>0.968409</td>\n",
       "      <td>31.223755</td>\n",
       "      <td>0.692490</td>\n",
       "      <td>6.836423e+05</td>\n",
       "      <td>0.179584</td>\n",
       "      <td>0.579200</td>\n",
       "      <td>1.046756</td>\n",
       "    </tr>\n",
       "    <tr>\n",
       "      <th>min</th>\n",
       "      <td>2.708504e+06</td>\n",
       "      <td>100.000000</td>\n",
       "      <td>1.000000</td>\n",
       "      <td>-6.000000e+02</td>\n",
       "      <td>0.000000</td>\n",
       "      <td>0.000000</td>\n",
       "      <td>1.000000</td>\n",
       "      <td>1.0</td>\n",
       "      <td>1.000000</td>\n",
       "      <td>1.000000</td>\n",
       "      <td>...</td>\n",
       "      <td>0.000000</td>\n",
       "      <td>0.000000</td>\n",
       "      <td>0.000000</td>\n",
       "      <td>0.000000</td>\n",
       "      <td>1894.000000</td>\n",
       "      <td>1.000000</td>\n",
       "      <td>3.750000e+02</td>\n",
       "      <td>0.000000</td>\n",
       "      <td>0.000000</td>\n",
       "      <td>0.000000</td>\n",
       "    </tr>\n",
       "    <tr>\n",
       "      <th>25%</th>\n",
       "      <td>2.795070e+06</td>\n",
       "      <td>201500.000000</td>\n",
       "      <td>115.000000</td>\n",
       "      <td>4.700000e+05</td>\n",
       "      <td>3.000000</td>\n",
       "      <td>6.000000</td>\n",
       "      <td>1.000000</td>\n",
       "      <td>1.0</td>\n",
       "      <td>1.000000</td>\n",
       "      <td>7.000000</td>\n",
       "      <td>...</td>\n",
       "      <td>0.000000</td>\n",
       "      <td>5.000000</td>\n",
       "      <td>2.000000</td>\n",
       "      <td>3.000000</td>\n",
       "      <td>1954.000000</td>\n",
       "      <td>3.000000</td>\n",
       "      <td>5.100000e+03</td>\n",
       "      <td>0.000000</td>\n",
       "      <td>0.000000</td>\n",
       "      <td>2.000000</td>\n",
       "    </tr>\n",
       "    <tr>\n",
       "      <th>50%</th>\n",
       "      <td>2.879973e+06</td>\n",
       "      <td>382070.000000</td>\n",
       "      <td>330.000000</td>\n",
       "      <td>7.999500e+05</td>\n",
       "      <td>3.000000</td>\n",
       "      <td>6.000000</td>\n",
       "      <td>1.000000</td>\n",
       "      <td>1.0</td>\n",
       "      <td>1.500000</td>\n",
       "      <td>8.000000</td>\n",
       "      <td>...</td>\n",
       "      <td>0.000000</td>\n",
       "      <td>5.000000</td>\n",
       "      <td>2.000000</td>\n",
       "      <td>3.000000</td>\n",
       "      <td>1978.000000</td>\n",
       "      <td>3.000000</td>\n",
       "      <td>7.653000e+03</td>\n",
       "      <td>0.000000</td>\n",
       "      <td>0.000000</td>\n",
       "      <td>3.000000</td>\n",
       "    </tr>\n",
       "    <tr>\n",
       "      <th>75%</th>\n",
       "      <td>2.964752e+06</td>\n",
       "      <td>723040.000000</td>\n",
       "      <td>1050.000000</td>\n",
       "      <td>1.069300e+06</td>\n",
       "      <td>11.000000</td>\n",
       "      <td>6.000000</td>\n",
       "      <td>1.000000</td>\n",
       "      <td>1.0</td>\n",
       "      <td>2.000000</td>\n",
       "      <td>8.000000</td>\n",
       "      <td>...</td>\n",
       "      <td>210.000000</td>\n",
       "      <td>5.000000</td>\n",
       "      <td>2.000000</td>\n",
       "      <td>4.000000</td>\n",
       "      <td>2004.000000</td>\n",
       "      <td>4.000000</td>\n",
       "      <td>1.103200e+04</td>\n",
       "      <td>0.000000</td>\n",
       "      <td>0.000000</td>\n",
       "      <td>3.000000</td>\n",
       "    </tr>\n",
       "    <tr>\n",
       "      <th>max</th>\n",
       "      <td>3.050093e+06</td>\n",
       "      <td>990600.000000</td>\n",
       "      <td>9694.000000</td>\n",
       "      <td>6.250000e+07</td>\n",
       "      <td>99.000000</td>\n",
       "      <td>11.000000</td>\n",
       "      <td>21.000000</td>\n",
       "      <td>1.0</td>\n",
       "      <td>4.000000</td>\n",
       "      <td>20.000000</td>\n",
       "      <td>...</td>\n",
       "      <td>140000.000000</td>\n",
       "      <td>8.000000</td>\n",
       "      <td>7.000000</td>\n",
       "      <td>31.000000</td>\n",
       "      <td>2020.000000</td>\n",
       "      <td>5.000000</td>\n",
       "      <td>2.330525e+07</td>\n",
       "      <td>4.000000</td>\n",
       "      <td>3.000000</td>\n",
       "      <td>16.000000</td>\n",
       "    </tr>\n",
       "  </tbody>\n",
       "</table>\n",
       "<p>8 rows × 33 columns</p>\n",
       "</div>"
      ],
      "text/plain": [
       "       ExciseTaxNbr          Major          Minor     SalePrice  \\\n",
       "count  2.466550e+05  246655.000000  246655.000000  2.466550e+05   \n",
       "mean   2.879853e+06  447797.033877    1599.483773  8.386916e+05   \n",
       "std    9.809949e+04  287621.330384    2888.105119  7.126497e+05   \n",
       "min    2.708504e+06     100.000000       1.000000 -6.000000e+02   \n",
       "25%    2.795070e+06  201500.000000     115.000000  4.700000e+05   \n",
       "50%    2.879973e+06  382070.000000     330.000000  7.999500e+05   \n",
       "75%    2.964752e+06  723040.000000    1050.000000  1.069300e+06   \n",
       "max    3.050093e+06  990600.000000    9694.000000  6.250000e+07   \n",
       "\n",
       "        PropertyType   PrincipalUse        BldgNbr  NbrLivingUnits  \\\n",
       "count  246655.000000  246655.000000  246655.000000        246655.0   \n",
       "mean        6.171170       6.001670       1.029320             1.0   \n",
       "std         6.210713       0.101385       0.434099             0.0   \n",
       "min         0.000000       0.000000       1.000000             1.0   \n",
       "25%         3.000000       6.000000       1.000000             1.0   \n",
       "50%         3.000000       6.000000       1.000000             1.0   \n",
       "75%        11.000000       6.000000       1.000000             1.0   \n",
       "max        99.000000      11.000000      21.000000             1.0   \n",
       "\n",
       "             Stories      BldgGrade  ...       SqFtDeck     HeatSystem  \\\n",
       "count  246655.000000  246655.000000  ...  246655.000000  246655.000000   \n",
       "mean        1.521076       7.695928  ...     136.399250       4.950088   \n",
       "std         0.536648       1.214887  ...     356.420356       1.065029   \n",
       "min         1.000000       1.000000  ...       0.000000       0.000000   \n",
       "25%         1.000000       7.000000  ...       0.000000       5.000000   \n",
       "50%         1.500000       8.000000  ...       0.000000       5.000000   \n",
       "75%         2.000000       8.000000  ...     210.000000       5.000000   \n",
       "max         4.000000      20.000000  ...  140000.000000       8.000000   \n",
       "\n",
       "          HeatSource       Bedrooms        YrBuilt      Condition  \\\n",
       "count  246655.000000  246655.000000  246655.000000  246655.000000   \n",
       "mean        2.094663       3.425258    1975.587326       3.441897   \n",
       "std         0.591210       0.968409      31.223755       0.692490   \n",
       "min         0.000000       0.000000    1894.000000       1.000000   \n",
       "25%         2.000000       3.000000    1954.000000       3.000000   \n",
       "50%         2.000000       3.000000    1978.000000       3.000000   \n",
       "75%         2.000000       4.000000    2004.000000       4.000000   \n",
       "max         7.000000      31.000000    2020.000000       5.000000   \n",
       "\n",
       "            SqFtLot           View   TrafficNoise      Bathrooms  \n",
       "count  2.466550e+05  246655.000000  246655.000000  246655.000000  \n",
       "mean   3.879752e+04       0.013557       0.222704       2.579457  \n",
       "std    6.836423e+05       0.179584       0.579200       1.046756  \n",
       "min    3.750000e+02       0.000000       0.000000       0.000000  \n",
       "25%    5.100000e+03       0.000000       0.000000       2.000000  \n",
       "50%    7.653000e+03       0.000000       0.000000       3.000000  \n",
       "75%    1.103200e+04       0.000000       0.000000       3.000000  \n",
       "max    2.330525e+07       4.000000       3.000000      16.000000  \n",
       "\n",
       "[8 rows x 33 columns]"
      ]
     },
     "execution_count": 5,
     "metadata": {},
     "output_type": "execute_result"
    }
   ],
   "source": [
    "housing_info.describe()"
   ]
  },
  {
   "cell_type": "markdown",
   "metadata": {},
   "source": [
    "These are large datasets, containing more than 245 thousand entries and 40 columns. Almost all of the columns contain numeric data, which is convenient for linear regression. A look at the distribution of variables in the dataset:"
   ]
  },
  {
   "cell_type": "code",
   "execution_count": 6,
   "metadata": {},
   "outputs": [
    {
     "data": {
      "image/png": "[encoded data removed]",
      "text/plain": [
       "<Figure size 1440x1440 with 36 Axes>"
      ]
     },
     "metadata": {
      "needs_background": "light"
     },
     "output_type": "display_data"
    }
   ],
   "source": [
    "housing_info.hist(figsize=(20,20));"
   ]
  },
  {
   "cell_type": "markdown",
   "metadata": {},
   "source": [
    "I will check for any missing values:"
   ]
  },
  {
   "cell_type": "code",
   "execution_count": 7,
   "metadata": {},
   "outputs": [
    {
     "name": "stdout",
     "output_type": "stream",
     "text": [
      "ExciseTaxNbr 0\n",
      "Major 0\n",
      "Minor 0\n",
      "DocumentDate 0\n",
      "SalePrice 0\n",
      "RecordingNbr 0\n",
      "PropertyType 0\n",
      "PrincipalUse 0\n",
      "BldgNbr 0\n",
      "NbrLivingUnits 0\n",
      "Address 0\n",
      "BuildingNumber 0\n",
      "Stories 0\n",
      "BldgGrade 0\n",
      "SqFt1stFloor 0\n",
      "SqFt2ndFloor 0\n",
      "SqFtUpperFloor 0\n",
      "SqFtUnfinFull 0\n",
      "SqFtUnfinHalf 0\n",
      "SqFtTotLiving 0\n",
      "SqFtTotBasement 0\n",
      "SqFtFinBasement 0\n",
      "FinBasementGrade 0\n",
      "SqFtGarageBasement 0\n",
      "SqFtGarageAttached 0\n",
      "DaylightBasement 0\n",
      "SqFtOpenPorch 0\n",
      "SqFtEnclosedPorch 0\n",
      "SqFtDeck 0\n",
      "HeatSystem 0\n",
      "HeatSource 0\n",
      "Bedrooms 0\n",
      "YrBuilt 0\n",
      "Condition 0\n",
      "SqFtLot 0\n",
      "View 0\n",
      "TrafficNoise 0\n",
      "OtherNuisances 0\n",
      "Bathrooms 0\n"
     ]
    }
   ],
   "source": [
    "for column in list(housing_info.columns):\n",
    "    print(column, sum(housing_info[column].isnull()))"
   ]
  },
  {
   "cell_type": "markdown",
   "metadata": {},
   "source": [
    "## Outliers"
   ]
  },
  {
   "cell_type": "markdown",
   "metadata": {},
   "source": [
    "Outliers (rogue data or variables that differ greatly from the majority of the data points) should be retained if they have the potential to reveal useful information about relationships in our data. After careful consideration I've decided to remove the outliers of the 'Bedrooms' and 'Bathrooms' columns because if a home in the dataset has upwards of 5 bathrooms and more than 10 bedrooms for example, then it's most likely that they are larger units that would be beyond the scope of this particular analysis. For this reason, I'll remove the rows that contain outlier values for these two columns."
   ]
  },
  {
   "cell_type": "code",
   "execution_count": 14,
   "metadata": {},
   "outputs": [
    {
     "data": {
      "text/plain": [
       "2359"
      ]
     },
     "execution_count": 14,
     "metadata": {},
     "output_type": "execute_result"
    }
   ],
   "source": [
    "count = 0\n",
    "bath_outliers = []\n",
    "mean = np.mean(housing_info['Bathrooms'])\n",
    "max_distance = np.std(housing_info['Bathrooms']) * 3 \n",
    "\n",
    "for idx, row in housing_info['Bathrooms'].T.iteritems():\n",
    "    if abs(row-mean) >= max_distance:\n",
    "        count += 1\n",
    "        housing_info.drop(idx, inplace=True)\n",
    "count"
   ]
  },
  {
   "cell_type": "code",
   "execution_count": 15,
   "metadata": {},
   "outputs": [
    {
     "data": {
      "text/plain": [
       "1353"
      ]
     },
     "execution_count": 15,
     "metadata": {},
     "output_type": "execute_result"
    }
   ],
   "source": [
    "count = 0\n",
    "bed_outliers = []\n",
    "mean = np.mean(housing_info['Bedrooms'])\n",
    "max_distance = np.std(housing_info['Bedrooms']) * 3 \n",
    "\n",
    "for idx, row in housing_info['Bedrooms'].T.iteritems():\n",
    "    if abs(row-mean) >= max_distance:\n",
    "        count += 1\n",
    "        housing_info.drop(idx,inplace=True)\n",
    "count"
   ]
  },
  {
   "cell_type": "markdown",
   "metadata": {},
   "source": [
    "After dropping just under 2360 'Bathroom' outliers, 1353 'Bedroom' outliers remained: removing these outliers most likely also excluded removed extreme values for other variables."
   ]
  },
  {
   "cell_type": "markdown",
   "metadata": {},
   "source": [
    "## One-Hot Encoding"
   ]
  },
  {
   "cell_type": "markdown",
   "metadata": {},
   "source": [
    "The main variable I would expect to be highly related with price, but does not have a clear linear relationship is 'Condition', whose values are on a scale of 1 to 5, with 1 being 'poor' and 5 being 'very good.' As seen in the scatterplot below, in terms of price 'average' houses tend to perform best."
   ]
  },
  {
   "cell_type": "code",
   "execution_count": 17,
   "metadata": {},
   "outputs": [
    {
     "ename": "KeyError",
     "evalue": "'Condition'",
     "output_type": "error",
     "traceback": [
      "\u001b[1;31m---------------------------------------------------------------------------\u001b[0m",
      "\u001b[1;31mKeyError\u001b[0m                                  Traceback (most recent call last)",
      "\u001b[1;32m~\\anaconda3\\envs\\learn-env\\lib\\site-packages\\pandas\\core\\indexes\\base.py\u001b[0m in \u001b[0;36mget_loc\u001b[1;34m(self, key, method, tolerance)\u001b[0m\n\u001b[0;32m   2894\u001b[0m             \u001b[1;32mtry\u001b[0m\u001b[1;33m:\u001b[0m\u001b[1;33m\u001b[0m\u001b[1;33m\u001b[0m\u001b[0m\n\u001b[1;32m-> 2895\u001b[1;33m                 \u001b[1;32mreturn\u001b[0m \u001b[0mself\u001b[0m\u001b[1;33m.\u001b[0m\u001b[0m_engine\u001b[0m\u001b[1;33m.\u001b[0m\u001b[0mget_loc\u001b[0m\u001b[1;33m(\u001b[0m\u001b[0mcasted_key\u001b[0m\u001b[1;33m)\u001b[0m\u001b[1;33m\u001b[0m\u001b[1;33m\u001b[0m\u001b[0m\n\u001b[0m\u001b[0;32m   2896\u001b[0m             \u001b[1;32mexcept\u001b[0m \u001b[0mKeyError\u001b[0m \u001b[1;32mas\u001b[0m \u001b[0merr\u001b[0m\u001b[1;33m:\u001b[0m\u001b[1;33m\u001b[0m\u001b[1;33m\u001b[0m\u001b[0m\n",
      "\u001b[1;32mpandas\\_libs\\index.pyx\u001b[0m in \u001b[0;36mpandas._libs.index.IndexEngine.get_loc\u001b[1;34m()\u001b[0m\n",
      "\u001b[1;32mpandas\\_libs\\index.pyx\u001b[0m in \u001b[0;36mpandas._libs.index.IndexEngine.get_loc\u001b[1;34m()\u001b[0m\n",
      "\u001b[1;32mpandas\\_libs\\hashtable_class_helper.pxi\u001b[0m in \u001b[0;36mpandas._libs.hashtable.PyObjectHashTable.get_item\u001b[1;34m()\u001b[0m\n",
      "\u001b[1;32mpandas\\_libs\\hashtable_class_helper.pxi\u001b[0m in \u001b[0;36mpandas._libs.hashtable.PyObjectHashTable.get_item\u001b[1;34m()\u001b[0m\n",
      "\u001b[1;31mKeyError\u001b[0m: 'Condition'",
      "\nThe above exception was the direct cause of the following exception:\n",
      "\u001b[1;31mKeyError\u001b[0m                                  Traceback (most recent call last)",
      "\u001b[1;32m<ipython-input-17-f40aa820b61b>\u001b[0m in \u001b[0;36m<module>\u001b[1;34m\u001b[0m\n\u001b[0;32m      1\u001b[0m \u001b[0mplt\u001b[0m\u001b[1;33m.\u001b[0m\u001b[0mfigure\u001b[0m\u001b[1;33m(\u001b[0m\u001b[0mfigsize\u001b[0m\u001b[1;33m=\u001b[0m\u001b[1;33m(\u001b[0m\u001b[1;36m10\u001b[0m\u001b[1;33m,\u001b[0m\u001b[1;36m7\u001b[0m\u001b[1;33m)\u001b[0m\u001b[1;33m)\u001b[0m\u001b[1;33m\u001b[0m\u001b[1;33m\u001b[0m\u001b[0m\n\u001b[1;32m----> 2\u001b[1;33m \u001b[0msns\u001b[0m\u001b[1;33m.\u001b[0m\u001b[0mscatterplot\u001b[0m\u001b[1;33m(\u001b[0m\u001b[0mhousing_info\u001b[0m\u001b[1;33m[\u001b[0m\u001b[1;34m'Condition'\u001b[0m\u001b[1;33m]\u001b[0m\u001b[1;33m,\u001b[0m \u001b[0mhousing_info\u001b[0m\u001b[1;33m[\u001b[0m\u001b[1;34m'SalePrice'\u001b[0m\u001b[1;33m]\u001b[0m\u001b[1;33m)\u001b[0m\u001b[1;33m\u001b[0m\u001b[1;33m\u001b[0m\u001b[0m\n\u001b[0m\u001b[0;32m      3\u001b[0m \u001b[0mplt\u001b[0m\u001b[1;33m.\u001b[0m\u001b[0mtitle\u001b[0m\u001b[1;33m(\u001b[0m\u001b[1;34m'Condition and Price'\u001b[0m\u001b[1;33m,\u001b[0m \u001b[0mfontsize\u001b[0m\u001b[1;33m=\u001b[0m\u001b[1;36m15\u001b[0m\u001b[1;33m)\u001b[0m\u001b[1;33m\u001b[0m\u001b[1;33m\u001b[0m\u001b[0m\n",
      "\u001b[1;32m~\\anaconda3\\envs\\learn-env\\lib\\site-packages\\pandas\\core\\frame.py\u001b[0m in \u001b[0;36m__getitem__\u001b[1;34m(self, key)\u001b[0m\n\u001b[0;32m   2900\u001b[0m             \u001b[1;32mif\u001b[0m \u001b[0mself\u001b[0m\u001b[1;33m.\u001b[0m\u001b[0mcolumns\u001b[0m\u001b[1;33m.\u001b[0m\u001b[0mnlevels\u001b[0m \u001b[1;33m>\u001b[0m \u001b[1;36m1\u001b[0m\u001b[1;33m:\u001b[0m\u001b[1;33m\u001b[0m\u001b[1;33m\u001b[0m\u001b[0m\n\u001b[0;32m   2901\u001b[0m                 \u001b[1;32mreturn\u001b[0m \u001b[0mself\u001b[0m\u001b[1;33m.\u001b[0m\u001b[0m_getitem_multilevel\u001b[0m\u001b[1;33m(\u001b[0m\u001b[0mkey\u001b[0m\u001b[1;33m)\u001b[0m\u001b[1;33m\u001b[0m\u001b[1;33m\u001b[0m\u001b[0m\n\u001b[1;32m-> 2902\u001b[1;33m             \u001b[0mindexer\u001b[0m \u001b[1;33m=\u001b[0m \u001b[0mself\u001b[0m\u001b[1;33m.\u001b[0m\u001b[0mcolumns\u001b[0m\u001b[1;33m.\u001b[0m\u001b[0mget_loc\u001b[0m\u001b[1;33m(\u001b[0m\u001b[0mkey\u001b[0m\u001b[1;33m)\u001b[0m\u001b[1;33m\u001b[0m\u001b[1;33m\u001b[0m\u001b[0m\n\u001b[0m\u001b[0;32m   2903\u001b[0m             \u001b[1;32mif\u001b[0m \u001b[0mis_integer\u001b[0m\u001b[1;33m(\u001b[0m\u001b[0mindexer\u001b[0m\u001b[1;33m)\u001b[0m\u001b[1;33m:\u001b[0m\u001b[1;33m\u001b[0m\u001b[1;33m\u001b[0m\u001b[0m\n\u001b[0;32m   2904\u001b[0m                 \u001b[0mindexer\u001b[0m \u001b[1;33m=\u001b[0m \u001b[1;33m[\u001b[0m\u001b[0mindexer\u001b[0m\u001b[1;33m]\u001b[0m\u001b[1;33m\u001b[0m\u001b[1;33m\u001b[0m\u001b[0m\n",
      "\u001b[1;32m~\\anaconda3\\envs\\learn-env\\lib\\site-packages\\pandas\\core\\indexes\\base.py\u001b[0m in \u001b[0;36mget_loc\u001b[1;34m(self, key, method, tolerance)\u001b[0m\n\u001b[0;32m   2895\u001b[0m                 \u001b[1;32mreturn\u001b[0m \u001b[0mself\u001b[0m\u001b[1;33m.\u001b[0m\u001b[0m_engine\u001b[0m\u001b[1;33m.\u001b[0m\u001b[0mget_loc\u001b[0m\u001b[1;33m(\u001b[0m\u001b[0mcasted_key\u001b[0m\u001b[1;33m)\u001b[0m\u001b[1;33m\u001b[0m\u001b[1;33m\u001b[0m\u001b[0m\n\u001b[0;32m   2896\u001b[0m             \u001b[1;32mexcept\u001b[0m \u001b[0mKeyError\u001b[0m \u001b[1;32mas\u001b[0m \u001b[0merr\u001b[0m\u001b[1;33m:\u001b[0m\u001b[1;33m\u001b[0m\u001b[1;33m\u001b[0m\u001b[0m\n\u001b[1;32m-> 2897\u001b[1;33m                 \u001b[1;32mraise\u001b[0m \u001b[0mKeyError\u001b[0m\u001b[1;33m(\u001b[0m\u001b[0mkey\u001b[0m\u001b[1;33m)\u001b[0m \u001b[1;32mfrom\u001b[0m \u001b[0merr\u001b[0m\u001b[1;33m\u001b[0m\u001b[1;33m\u001b[0m\u001b[0m\n\u001b[0m\u001b[0;32m   2898\u001b[0m \u001b[1;33m\u001b[0m\u001b[0m\n\u001b[0;32m   2899\u001b[0m         \u001b[1;32mif\u001b[0m \u001b[0mtolerance\u001b[0m \u001b[1;32mis\u001b[0m \u001b[1;32mnot\u001b[0m \u001b[1;32mNone\u001b[0m\u001b[1;33m:\u001b[0m\u001b[1;33m\u001b[0m\u001b[1;33m\u001b[0m\u001b[0m\n",
      "\u001b[1;31mKeyError\u001b[0m: 'Condition'"
     ]
    },
    {
     "data": {
      "text/plain": [
       "<Figure size 720x504 with 0 Axes>"
      ]
     },
     "metadata": {},
     "output_type": "display_data"
    }
   ],
   "source": [
    "plt.figure(figsize=(10,7))\n",
    "sns.scatterplot(housing_info['Condition'], housing_info['SalePrice'])\n",
    "plt.title('Condition and Price', fontsize=15)"
   ]
  },
  {
   "cell_type": "markdown",
   "metadata": {},
   "source": [
    "This could be owed to the fact that conditions are relative to age and grade ( an evaluation of the construction materials and level of craftsmanship used to build houses). An expensive, impeccably designed new construction could be given an 'average' rating if some functional adjustments are required. As we can see in the scatterplot below, average condition houses also tend to have the highest grade rating."
   ]
  },
  {
   "cell_type": "code",
   "execution_count": 21,
   "metadata": {},
   "outputs": [
    {
     "name": "stdout",
     "output_type": "stream",
     "text": [
      "<class 'pandas.core.frame.DataFrame'>\n",
      "Int64Index: 242943 entries, 0 to 246654\n",
      "Data columns (total 46 columns):\n",
      " #   Column              Non-Null Count   Dtype  \n",
      "---  ------              --------------   -----  \n",
      " 0   ExciseTaxNbr        242943 non-null  int64  \n",
      " 1   Major               242943 non-null  int64  \n",
      " 2   Minor               242943 non-null  int64  \n",
      " 3   DocumentDate        242943 non-null  object \n",
      " 4   SalePrice           242943 non-null  int64  \n",
      " 5   RecordingNbr        242943 non-null  object \n",
      " 6   PropertyType        242943 non-null  int64  \n",
      " 7   PrincipalUse        242943 non-null  int64  \n",
      " 8   BldgNbr             242943 non-null  float64\n",
      " 9   NbrLivingUnits      242943 non-null  float64\n",
      " 10  Address             242943 non-null  object \n",
      " 11  BuildingNumber      242943 non-null  object \n",
      " 12  Stories             242943 non-null  float64\n",
      " 13  BldgGrade           242943 non-null  float64\n",
      " 14  SqFt1stFloor        242943 non-null  float64\n",
      " 15  SqFt2ndFloor        242943 non-null  float64\n",
      " 16  SqFtUpperFloor      242943 non-null  float64\n",
      " 17  SqFtUnfinFull       242943 non-null  float64\n",
      " 18  SqFtUnfinHalf       242943 non-null  float64\n",
      " 19  SqFtTotLiving       242943 non-null  float64\n",
      " 20  SqFtTotBasement     242943 non-null  float64\n",
      " 21  SqFtFinBasement     242943 non-null  float64\n",
      " 22  FinBasementGrade    242943 non-null  float64\n",
      " 23  SqFtGarageBasement  242943 non-null  float64\n",
      " 24  SqFtGarageAttached  242943 non-null  float64\n",
      " 25  DaylightBasement    242943 non-null  object \n",
      " 26  SqFtOpenPorch       242943 non-null  float64\n",
      " 27  SqFtEnclosedPorch   242943 non-null  float64\n",
      " 28  SqFtDeck            242943 non-null  float64\n",
      " 29  HeatSystem          242943 non-null  float64\n",
      " 30  HeatSource          242943 non-null  float64\n",
      " 31  Bedrooms            242943 non-null  float64\n",
      " 32  YrBuilt             242943 non-null  float64\n",
      " 33  SqFtLot             242943 non-null  int64  \n",
      " 34  View                242943 non-null  int64  \n",
      " 35  TrafficNoise        242943 non-null  int64  \n",
      " 36  OtherNuisances      242943 non-null  object \n",
      " 37  Bathrooms           242943 non-null  float64\n",
      " 38  2.0                 242943 non-null  uint8  \n",
      " 39  3.0                 242943 non-null  uint8  \n",
      " 40  4.0                 242943 non-null  uint8  \n",
      " 41  5.0                 242943 non-null  uint8  \n",
      " 42  two                 242943 non-null  uint8  \n",
      " 43  three               242943 non-null  uint8  \n",
      " 44  four                242943 non-null  uint8  \n",
      " 45  five                242943 non-null  uint8  \n",
      "dtypes: float64(23), int64(9), object(6), uint8(8)\n",
      "memory usage: 74.1+ MB\n"
     ]
    }
   ],
   "source": [
    "housing_info.info()"
   ]
  },
  {
   "cell_type": "code",
   "execution_count": 18,
   "metadata": {},
   "outputs": [
    {
     "ename": "KeyError",
     "evalue": "'Condition'",
     "output_type": "error",
     "traceback": [
      "\u001b[1;31m---------------------------------------------------------------------------\u001b[0m",
      "\u001b[1;31mKeyError\u001b[0m                                  Traceback (most recent call last)",
      "\u001b[1;32m~\\anaconda3\\envs\\learn-env\\lib\\site-packages\\pandas\\core\\indexes\\base.py\u001b[0m in \u001b[0;36mget_loc\u001b[1;34m(self, key, method, tolerance)\u001b[0m\n\u001b[0;32m   2894\u001b[0m             \u001b[1;32mtry\u001b[0m\u001b[1;33m:\u001b[0m\u001b[1;33m\u001b[0m\u001b[1;33m\u001b[0m\u001b[0m\n\u001b[1;32m-> 2895\u001b[1;33m                 \u001b[1;32mreturn\u001b[0m \u001b[0mself\u001b[0m\u001b[1;33m.\u001b[0m\u001b[0m_engine\u001b[0m\u001b[1;33m.\u001b[0m\u001b[0mget_loc\u001b[0m\u001b[1;33m(\u001b[0m\u001b[0mcasted_key\u001b[0m\u001b[1;33m)\u001b[0m\u001b[1;33m\u001b[0m\u001b[1;33m\u001b[0m\u001b[0m\n\u001b[0m\u001b[0;32m   2896\u001b[0m             \u001b[1;32mexcept\u001b[0m \u001b[0mKeyError\u001b[0m \u001b[1;32mas\u001b[0m \u001b[0merr\u001b[0m\u001b[1;33m:\u001b[0m\u001b[1;33m\u001b[0m\u001b[1;33m\u001b[0m\u001b[0m\n",
      "\u001b[1;32mpandas\\_libs\\index.pyx\u001b[0m in \u001b[0;36mpandas._libs.index.IndexEngine.get_loc\u001b[1;34m()\u001b[0m\n",
      "\u001b[1;32mpandas\\_libs\\index.pyx\u001b[0m in \u001b[0;36mpandas._libs.index.IndexEngine.get_loc\u001b[1;34m()\u001b[0m\n",
      "\u001b[1;32mpandas\\_libs\\hashtable_class_helper.pxi\u001b[0m in \u001b[0;36mpandas._libs.hashtable.PyObjectHashTable.get_item\u001b[1;34m()\u001b[0m\n",
      "\u001b[1;32mpandas\\_libs\\hashtable_class_helper.pxi\u001b[0m in \u001b[0;36mpandas._libs.hashtable.PyObjectHashTable.get_item\u001b[1;34m()\u001b[0m\n",
      "\u001b[1;31mKeyError\u001b[0m: 'Condition'",
      "\nThe above exception was the direct cause of the following exception:\n",
      "\u001b[1;31mKeyError\u001b[0m                                  Traceback (most recent call last)",
      "\u001b[1;32m<ipython-input-18-25fa299212fb>\u001b[0m in \u001b[0;36m<module>\u001b[1;34m\u001b[0m\n\u001b[0;32m      1\u001b[0m \u001b[0mplt\u001b[0m\u001b[1;33m.\u001b[0m\u001b[0mfigure\u001b[0m\u001b[1;33m(\u001b[0m\u001b[0mfigsize\u001b[0m\u001b[1;33m=\u001b[0m\u001b[1;33m(\u001b[0m\u001b[1;36m10\u001b[0m\u001b[1;33m,\u001b[0m\u001b[1;36m7\u001b[0m\u001b[1;33m)\u001b[0m\u001b[1;33m)\u001b[0m\u001b[1;33m\u001b[0m\u001b[1;33m\u001b[0m\u001b[0m\n\u001b[1;32m----> 2\u001b[1;33m \u001b[0msns\u001b[0m\u001b[1;33m.\u001b[0m\u001b[0mscatterplot\u001b[0m\u001b[1;33m(\u001b[0m\u001b[0mhousing_info\u001b[0m\u001b[1;33m[\u001b[0m\u001b[1;34m'Condition'\u001b[0m\u001b[1;33m]\u001b[0m\u001b[1;33m,\u001b[0m \u001b[0mhousing_info\u001b[0m\u001b[1;33m[\u001b[0m\u001b[1;34m'BldgGrade'\u001b[0m\u001b[1;33m]\u001b[0m\u001b[1;33m)\u001b[0m\u001b[1;33m\u001b[0m\u001b[1;33m\u001b[0m\u001b[0m\n\u001b[0m\u001b[0;32m      3\u001b[0m \u001b[0mplt\u001b[0m\u001b[1;33m.\u001b[0m\u001b[0mtitle\u001b[0m\u001b[1;33m(\u001b[0m\u001b[1;34m'House Condition and Grade'\u001b[0m\u001b[1;33m,\u001b[0m \u001b[0mfontsize\u001b[0m\u001b[1;33m=\u001b[0m\u001b[1;36m15\u001b[0m\u001b[1;33m)\u001b[0m\u001b[1;33m\u001b[0m\u001b[1;33m\u001b[0m\u001b[0m\n",
      "\u001b[1;32m~\\anaconda3\\envs\\learn-env\\lib\\site-packages\\pandas\\core\\frame.py\u001b[0m in \u001b[0;36m__getitem__\u001b[1;34m(self, key)\u001b[0m\n\u001b[0;32m   2900\u001b[0m             \u001b[1;32mif\u001b[0m \u001b[0mself\u001b[0m\u001b[1;33m.\u001b[0m\u001b[0mcolumns\u001b[0m\u001b[1;33m.\u001b[0m\u001b[0mnlevels\u001b[0m \u001b[1;33m>\u001b[0m \u001b[1;36m1\u001b[0m\u001b[1;33m:\u001b[0m\u001b[1;33m\u001b[0m\u001b[1;33m\u001b[0m\u001b[0m\n\u001b[0;32m   2901\u001b[0m                 \u001b[1;32mreturn\u001b[0m \u001b[0mself\u001b[0m\u001b[1;33m.\u001b[0m\u001b[0m_getitem_multilevel\u001b[0m\u001b[1;33m(\u001b[0m\u001b[0mkey\u001b[0m\u001b[1;33m)\u001b[0m\u001b[1;33m\u001b[0m\u001b[1;33m\u001b[0m\u001b[0m\n\u001b[1;32m-> 2902\u001b[1;33m             \u001b[0mindexer\u001b[0m \u001b[1;33m=\u001b[0m \u001b[0mself\u001b[0m\u001b[1;33m.\u001b[0m\u001b[0mcolumns\u001b[0m\u001b[1;33m.\u001b[0m\u001b[0mget_loc\u001b[0m\u001b[1;33m(\u001b[0m\u001b[0mkey\u001b[0m\u001b[1;33m)\u001b[0m\u001b[1;33m\u001b[0m\u001b[1;33m\u001b[0m\u001b[0m\n\u001b[0m\u001b[0;32m   2903\u001b[0m             \u001b[1;32mif\u001b[0m \u001b[0mis_integer\u001b[0m\u001b[1;33m(\u001b[0m\u001b[0mindexer\u001b[0m\u001b[1;33m)\u001b[0m\u001b[1;33m:\u001b[0m\u001b[1;33m\u001b[0m\u001b[1;33m\u001b[0m\u001b[0m\n\u001b[0;32m   2904\u001b[0m                 \u001b[0mindexer\u001b[0m \u001b[1;33m=\u001b[0m \u001b[1;33m[\u001b[0m\u001b[0mindexer\u001b[0m\u001b[1;33m]\u001b[0m\u001b[1;33m\u001b[0m\u001b[1;33m\u001b[0m\u001b[0m\n",
      "\u001b[1;32m~\\anaconda3\\envs\\learn-env\\lib\\site-packages\\pandas\\core\\indexes\\base.py\u001b[0m in \u001b[0;36mget_loc\u001b[1;34m(self, key, method, tolerance)\u001b[0m\n\u001b[0;32m   2895\u001b[0m                 \u001b[1;32mreturn\u001b[0m \u001b[0mself\u001b[0m\u001b[1;33m.\u001b[0m\u001b[0m_engine\u001b[0m\u001b[1;33m.\u001b[0m\u001b[0mget_loc\u001b[0m\u001b[1;33m(\u001b[0m\u001b[0mcasted_key\u001b[0m\u001b[1;33m)\u001b[0m\u001b[1;33m\u001b[0m\u001b[1;33m\u001b[0m\u001b[0m\n\u001b[0;32m   2896\u001b[0m             \u001b[1;32mexcept\u001b[0m \u001b[0mKeyError\u001b[0m \u001b[1;32mas\u001b[0m \u001b[0merr\u001b[0m\u001b[1;33m:\u001b[0m\u001b[1;33m\u001b[0m\u001b[1;33m\u001b[0m\u001b[0m\n\u001b[1;32m-> 2897\u001b[1;33m                 \u001b[1;32mraise\u001b[0m \u001b[0mKeyError\u001b[0m\u001b[1;33m(\u001b[0m\u001b[0mkey\u001b[0m\u001b[1;33m)\u001b[0m \u001b[1;32mfrom\u001b[0m \u001b[0merr\u001b[0m\u001b[1;33m\u001b[0m\u001b[1;33m\u001b[0m\u001b[0m\n\u001b[0m\u001b[0;32m   2898\u001b[0m \u001b[1;33m\u001b[0m\u001b[0m\n\u001b[0;32m   2899\u001b[0m         \u001b[1;32mif\u001b[0m \u001b[0mtolerance\u001b[0m \u001b[1;32mis\u001b[0m \u001b[1;32mnot\u001b[0m \u001b[1;32mNone\u001b[0m\u001b[1;33m:\u001b[0m\u001b[1;33m\u001b[0m\u001b[1;33m\u001b[0m\u001b[0m\n",
      "\u001b[1;31mKeyError\u001b[0m: 'Condition'"
     ]
    },
    {
     "data": {
      "text/plain": [
       "<Figure size 720x504 with 0 Axes>"
      ]
     },
     "metadata": {},
     "output_type": "display_data"
    }
   ],
   "source": [
    "plt.figure(figsize=(10,7))\n",
    "sns.scatterplot(housing_info['Condition'], housing_info['BldgGrade'])\n",
    "plt.title('House Condition and Grade', fontsize=15)"
   ]
  },
  {
   "cell_type": "markdown",
   "metadata": {},
   "source": [
    "Since there may be a clearer linear relationship between specific condition values and prices, I will explore more thoroughly by one-hot encoding the variable."
   ]
  },
  {
   "cell_type": "code",
   "execution_count": 10,
   "metadata": {},
   "outputs": [],
   "source": [
    "one_hot = pd.get_dummies(housing_info['Condition'], drop_first=True) #drop a column to avoid dummy variable trap\n",
    "housing_info = housing_info.drop('Condition',axis = 1) #drop the original column \n",
    "housing_info = housing_info.join(one_hot) #joins the new variables to the dataframe"
   ]
  },
  {
   "cell_type": "markdown",
   "metadata": {},
   "source": [
    "Now I will take a look to see if we get a clearer picture of linear relationships by drawing up a scatterplot."
   ]
  },
  {
   "cell_type": "code",
   "execution_count": 11,
   "metadata": {
    "scrolled": false
   },
   "outputs": [
    {
     "data": {
      "text/plain": [
       "<Figure size 432x288 with 0 Axes>"
      ]
     },
     "metadata": {},
     "output_type": "display_data"
    },
    {
     "data": {
      "image/png": "[encoded data removed]",
      "text/plain": [
       "<Figure size 720x360 with 4 Axes>"
      ]
     },
     "metadata": {
      "needs_background": "light"
     },
     "output_type": "display_data"
    }
   ],
   "source": [
    "price = housing_info['SalePrice']\n",
    "two = housing_info['two'] = housing_info[2] \n",
    "three = housing_info['three'] = housing_info[3] \n",
    "four = housing_info['four'] = housing_info[4] \n",
    "five = housing_info['five'] = housing_info[5] \n",
    "\n",
    "fig = plt.figure()\n",
    "fig, axes = plt.subplots(nrows = 2, ncols = 2, sharex=False, sharey = True, figsize=(10,5))\n",
    "\n",
    "fig.suptitle('House Condition and Price', fontsize=18, y=1.1)\n",
    "fig.text(0.0001, 0.56, 'Prices', va='center', rotation='vertical', fontsize=16)\n",
    "\n",
    "plot = axes[0][0].scatter(two, price, c = price, marker = \"o\")\n",
    "axes[0][0].set_xlabel('Condition 2')\n",
    "\n",
    "axes[0][1].scatter(three, price, c = price, marker = \"o\")\n",
    "axes[0][1].set_xlabel('Condition 3')\n",
    "\n",
    "axes[1][0].scatter(four, price, c = price, marker = \"o\")\n",
    "axes[1][0].set_xlabel('Condition 4')\n",
    "\n",
    "axes[1][1].scatter(five, price, c = price, marker = \"o\")\n",
    "axes[1][1].set_xlabel('Condition 5')\n",
    "\n",
    "\n",
    "fig.tight_layout()\n",
    "plt.show()"
   ]
  },
  {
   "cell_type": "markdown",
   "metadata": {},
   "source": [
    "There are linear relationships for each column as shown in the plot above."
   ]
  },
  {
   "cell_type": "markdown",
   "metadata": {},
   "source": [
    "To see which variables should be included in my model, I should investigate which variables are most strongly correlated with price. We want to make sure that there is no multicollinearity (meaning they can't be accurately predicted by other explanatory variables) among the explanatory variables. Below is a correlation matrix visualization of price and continuous variables in the dataset."
   ]
  },
  {
   "cell_type": "code",
   "execution_count": 12,
   "metadata": {},
   "outputs": [
    {
     "data": {
      "text/plain": [
       "0    10534\n",
       "1     3813\n",
       "2     3420\n",
       "3     3520\n",
       "4     4760\n",
       "Name: SqFtLot, dtype: int64"
      ]
     },
     "execution_count": 12,
     "metadata": {},
     "output_type": "execute_result"
    }
   ],
   "source": [
    "housing_info['SqFtLot'].head()"
   ]
  },
  {
   "cell_type": "code",
   "execution_count": 13,
   "metadata": {},
   "outputs": [
    {
     "ename": "KeyError",
     "evalue": "\"['BathFullCount', 'BathHalfCount'] not in index\"",
     "output_type": "error",
     "traceback": [
      "\u001b[1;31m---------------------------------------------------------------------------\u001b[0m",
      "\u001b[1;31mKeyError\u001b[0m                                  Traceback (most recent call last)",
      "\u001b[1;32m<ipython-input-13-d3c3e940b95e>\u001b[0m in \u001b[0;36m<module>\u001b[1;34m\u001b[0m\n\u001b[0;32m      4\u001b[0m \u001b[1;33m\u001b[0m\u001b[0m\n\u001b[0;32m      5\u001b[0m \u001b[1;31m#update dataframe to only include the above variables\u001b[0m\u001b[1;33m\u001b[0m\u001b[1;33m\u001b[0m\u001b[1;33m\u001b[0m\u001b[0m\n\u001b[1;32m----> 6\u001b[1;33m \u001b[0mdf_clean\u001b[0m \u001b[1;33m=\u001b[0m \u001b[0mhousing_info\u001b[0m\u001b[1;33m[\u001b[0m\u001b[0mx_columns\u001b[0m\u001b[1;33m]\u001b[0m\u001b[1;33m\u001b[0m\u001b[1;33m\u001b[0m\u001b[0m\n\u001b[0m\u001b[0;32m      7\u001b[0m \u001b[0mdf_clean\u001b[0m\u001b[1;33m[\u001b[0m\u001b[1;34m'Price'\u001b[0m\u001b[1;33m]\u001b[0m \u001b[1;33m=\u001b[0m \u001b[0mhousing_info\u001b[0m\u001b[1;33m[\u001b[0m\u001b[1;34m'SalePrice'\u001b[0m\u001b[1;33m]\u001b[0m\u001b[1;33m\u001b[0m\u001b[1;33m\u001b[0m\u001b[0m\n\u001b[0;32m      8\u001b[0m \u001b[0mhousing_info\u001b[0m \u001b[1;33m=\u001b[0m \u001b[0mdf_clean\u001b[0m\u001b[1;33m\u001b[0m\u001b[1;33m\u001b[0m\u001b[0m\n",
      "\u001b[1;32m~\\anaconda3\\envs\\learn-env\\lib\\site-packages\\pandas\\core\\frame.py\u001b[0m in \u001b[0;36m__getitem__\u001b[1;34m(self, key)\u001b[0m\n\u001b[0;32m   2906\u001b[0m             \u001b[1;32mif\u001b[0m \u001b[0mis_iterator\u001b[0m\u001b[1;33m(\u001b[0m\u001b[0mkey\u001b[0m\u001b[1;33m)\u001b[0m\u001b[1;33m:\u001b[0m\u001b[1;33m\u001b[0m\u001b[1;33m\u001b[0m\u001b[0m\n\u001b[0;32m   2907\u001b[0m                 \u001b[0mkey\u001b[0m \u001b[1;33m=\u001b[0m \u001b[0mlist\u001b[0m\u001b[1;33m(\u001b[0m\u001b[0mkey\u001b[0m\u001b[1;33m)\u001b[0m\u001b[1;33m\u001b[0m\u001b[1;33m\u001b[0m\u001b[0m\n\u001b[1;32m-> 2908\u001b[1;33m             \u001b[0mindexer\u001b[0m \u001b[1;33m=\u001b[0m \u001b[0mself\u001b[0m\u001b[1;33m.\u001b[0m\u001b[0mloc\u001b[0m\u001b[1;33m.\u001b[0m\u001b[0m_get_listlike_indexer\u001b[0m\u001b[1;33m(\u001b[0m\u001b[0mkey\u001b[0m\u001b[1;33m,\u001b[0m \u001b[0maxis\u001b[0m\u001b[1;33m=\u001b[0m\u001b[1;36m1\u001b[0m\u001b[1;33m,\u001b[0m \u001b[0mraise_missing\u001b[0m\u001b[1;33m=\u001b[0m\u001b[1;32mTrue\u001b[0m\u001b[1;33m)\u001b[0m\u001b[1;33m[\u001b[0m\u001b[1;36m1\u001b[0m\u001b[1;33m]\u001b[0m\u001b[1;33m\u001b[0m\u001b[1;33m\u001b[0m\u001b[0m\n\u001b[0m\u001b[0;32m   2909\u001b[0m \u001b[1;33m\u001b[0m\u001b[0m\n\u001b[0;32m   2910\u001b[0m         \u001b[1;31m# take() does not accept boolean indexers\u001b[0m\u001b[1;33m\u001b[0m\u001b[1;33m\u001b[0m\u001b[1;33m\u001b[0m\u001b[0m\n",
      "\u001b[1;32m~\\anaconda3\\envs\\learn-env\\lib\\site-packages\\pandas\\core\\indexing.py\u001b[0m in \u001b[0;36m_get_listlike_indexer\u001b[1;34m(self, key, axis, raise_missing)\u001b[0m\n\u001b[0;32m   1252\u001b[0m             \u001b[0mkeyarr\u001b[0m\u001b[1;33m,\u001b[0m \u001b[0mindexer\u001b[0m\u001b[1;33m,\u001b[0m \u001b[0mnew_indexer\u001b[0m \u001b[1;33m=\u001b[0m \u001b[0max\u001b[0m\u001b[1;33m.\u001b[0m\u001b[0m_reindex_non_unique\u001b[0m\u001b[1;33m(\u001b[0m\u001b[0mkeyarr\u001b[0m\u001b[1;33m)\u001b[0m\u001b[1;33m\u001b[0m\u001b[1;33m\u001b[0m\u001b[0m\n\u001b[0;32m   1253\u001b[0m \u001b[1;33m\u001b[0m\u001b[0m\n\u001b[1;32m-> 1254\u001b[1;33m         \u001b[0mself\u001b[0m\u001b[1;33m.\u001b[0m\u001b[0m_validate_read_indexer\u001b[0m\u001b[1;33m(\u001b[0m\u001b[0mkeyarr\u001b[0m\u001b[1;33m,\u001b[0m \u001b[0mindexer\u001b[0m\u001b[1;33m,\u001b[0m \u001b[0maxis\u001b[0m\u001b[1;33m,\u001b[0m \u001b[0mraise_missing\u001b[0m\u001b[1;33m=\u001b[0m\u001b[0mraise_missing\u001b[0m\u001b[1;33m)\u001b[0m\u001b[1;33m\u001b[0m\u001b[1;33m\u001b[0m\u001b[0m\n\u001b[0m\u001b[0;32m   1255\u001b[0m         \u001b[1;32mreturn\u001b[0m \u001b[0mkeyarr\u001b[0m\u001b[1;33m,\u001b[0m \u001b[0mindexer\u001b[0m\u001b[1;33m\u001b[0m\u001b[1;33m\u001b[0m\u001b[0m\n\u001b[0;32m   1256\u001b[0m \u001b[1;33m\u001b[0m\u001b[0m\n",
      "\u001b[1;32m~\\anaconda3\\envs\\learn-env\\lib\\site-packages\\pandas\\core\\indexing.py\u001b[0m in \u001b[0;36m_validate_read_indexer\u001b[1;34m(self, key, indexer, axis, raise_missing)\u001b[0m\n\u001b[0;32m   1302\u001b[0m             \u001b[1;32mif\u001b[0m \u001b[0mraise_missing\u001b[0m\u001b[1;33m:\u001b[0m\u001b[1;33m\u001b[0m\u001b[1;33m\u001b[0m\u001b[0m\n\u001b[0;32m   1303\u001b[0m                 \u001b[0mnot_found\u001b[0m \u001b[1;33m=\u001b[0m \u001b[0mlist\u001b[0m\u001b[1;33m(\u001b[0m\u001b[0mset\u001b[0m\u001b[1;33m(\u001b[0m\u001b[0mkey\u001b[0m\u001b[1;33m)\u001b[0m \u001b[1;33m-\u001b[0m \u001b[0mset\u001b[0m\u001b[1;33m(\u001b[0m\u001b[0max\u001b[0m\u001b[1;33m)\u001b[0m\u001b[1;33m)\u001b[0m\u001b[1;33m\u001b[0m\u001b[1;33m\u001b[0m\u001b[0m\n\u001b[1;32m-> 1304\u001b[1;33m                 \u001b[1;32mraise\u001b[0m \u001b[0mKeyError\u001b[0m\u001b[1;33m(\u001b[0m\u001b[1;34mf\"{not_found} not in index\"\u001b[0m\u001b[1;33m)\u001b[0m\u001b[1;33m\u001b[0m\u001b[1;33m\u001b[0m\u001b[0m\n\u001b[0m\u001b[0;32m   1305\u001b[0m \u001b[1;33m\u001b[0m\u001b[0m\n\u001b[0;32m   1306\u001b[0m             \u001b[1;31m# we skip the warning on Categorical\u001b[0m\u001b[1;33m\u001b[0m\u001b[1;33m\u001b[0m\u001b[1;33m\u001b[0m\u001b[0m\n",
      "\u001b[1;31mKeyError\u001b[0m: \"['BathFullCount', 'BathHalfCount'] not in index\""
     ]
    }
   ],
   "source": [
    "#create a list of meaningfully continuous x variables\n",
    "x_columns = ['Bedrooms', 'Bathrooms', 'SqFtTotLiving','SqFt1stFloor','SqFt2ndFloor',\n",
    "       'SqFtLot', 'SqFtUpperFloor','Stories', 'BldgGrade','View', 'YrBuilt', 2, 3, 4, 5]\n",
    "\n",
    "#update dataframe to only include the above variables\n",
    "df_clean = housing_info[x_columns]\n",
    "df_clean['Price'] = housing_info['SalePrice']\n",
    "housing_info = df_clean"
   ]
  },
  {
   "cell_type": "code",
   "execution_count": null,
   "metadata": {},
   "outputs": [],
   "source": [
    "corr = housing_info.corr().abs()\n",
    "fig, ax=plt.subplots(figsize=(17,12))\n",
    "fig.suptitle('Variable Correlations', fontsize=15, y=.95)\n",
    "heatmap = sns.heatmap(corr, cmap='Reds', annot=True)\n",
    "heatmap"
   ]
  },
  {
   "cell_type": "code",
   "execution_count": null,
   "metadata": {},
   "outputs": [],
   "source": [
    "housing_info['Bedrooms'].value_counts()"
   ]
  },
  {
   "cell_type": "code",
   "execution_count": null,
   "metadata": {},
   "outputs": [],
   "source": [
    "housing_info.info()"
   ]
  },
  {
   "cell_type": "code",
   "execution_count": null,
   "metadata": {},
   "outputs": [],
   "source": []
  }
 ],
 "metadata": {
  "kernelspec": {
   "display_name": "learn-env",
   "language": "python",
   "name": "learn-env"
  },
  "language_info": {
   "codemirror_mode": {
    "name": "ipython",
    "version": 3
   },
   "file_extension": ".py",
   "mimetype": "text/x-python",
   "name": "python",
   "nbconvert_exporter": "python",
   "pygments_lexer": "ipython3",
   "version": "3.8.5"
  }
 },
 "nbformat": 4,
 "nbformat_minor": 4
}
