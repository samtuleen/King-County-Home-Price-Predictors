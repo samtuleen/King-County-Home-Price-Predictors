{
 "cells": [
  {
   "cell_type": "markdown",
   "metadata": {},
   "source": [
    "![example]()"
   ]
  },
  {
   "cell_type": "markdown",
   "metadata": {},
   "source": [
    "# Predicting-Most-Valuable-Home-Projects-In-King-County-Analysis"
   ]
  },
  {
   "cell_type": "markdown",
   "metadata": {},
   "source": [
    "# Introduction"
   ]
  },
  {
   "cell_type": "markdown",
   "metadata": {},
   "source": [
    "The King County Housing Data Set contains information about the size, location, condition, and other features of houses in King County. A full description of the dataset's columns can be found below. The aim of this project is to develop a linear regression model than can predict a house's price as accurately as possible."
   ]
  },
  {
   "cell_type": "markdown",
   "metadata": {},
   "source": [
    "# Business Problem"
   ]
  },
  {
   "cell_type": "markdown",
   "metadata": {},
   "source": [
    "A client in King County, WA wants to advise homeowners on home improvement projects that will add to the sale value of their homes."
   ]
  },
  {
   "cell_type": "markdown",
   "metadata": {},
   "source": [
    "# Analysis Questions"
   ]
  },
  {
   "cell_type": "markdown",
   "metadata": {},
   "source": [
    "This analysis will seek to answer three questions about the data:\n",
    "\n",
    "Question 1: Will enclosing a porch increase the sale price of a home?\n",
    "\n",
    "Question 2: Is converting a garage to a bedroom a good way to increase the sale price of a home?\n",
    "\n",
    "Questin 3: Will upgrading to a forced-air heating system increase the sale price of a home?"
   ]
  },
  {
   "cell_type": "code",
   "execution_count": 2,
   "metadata": {},
   "outputs": [],
   "source": [
    "import numpy as np\n",
    "import pandas as pd\n",
    "import matplotlib.pyplot as plt\n",
    "%matplotlib inline\n",
    "import scipy.stats as stats\n",
    "import statsmodels.formula.api as smf\n",
    "import statsmodels.stats.api as sms\n",
    "import statsmodels.api as sm\n",
    "from statsmodels.formula.api import ols\n",
    "from sklearn import datasets, linear_model\n",
    "import seaborn as sns\n",
    "from sklearn import preprocessing\n",
    "from sklearn.preprocessing import LabelEncoder\n",
    "from sklearn import metrics\n",
    "from sklearn.metrics import r2_score\n",
    "from sklearn.metrics import mean_squared_error, make_scorer\n",
    "from sklearn.model_selection import cross_val_score\n",
    "from sklearn.feature_selection import RFE\n",
    "from sklearn.linear_model import LinearRegression\n",
    "from sklearn.model_selection import train_test_split"
   ]
  },
  {
   "cell_type": "code",
   "execution_count": null,
   "metadata": {
    "scrolled": false
   },
   "outputs": [],
   "source": [
    "df = pd.read_csv('../../data/raw/EXTR_RPSale.csv')\n",
    "df.head()"
   ]
  },
  {
   "cell_type": "code",
   "execution_count": null,
   "metadata": {},
   "outputs": [],
   "source": [
    "zerocontent = df['AFCurrentUseLand'].str.contains('N')\n",
    "zerocontent"
   ]
  },
  {
   "cell_type": "code",
   "execution_count": null,
   "metadata": {},
   "outputs": [],
   "source": [
    "forestland = zerocontent.loc[zerocontent != False]\n",
    "len(forestland)"
   ]
  },
  {
   "cell_type": "code",
   "execution_count": null,
   "metadata": {},
   "outputs": [],
   "source": [
    "len(zerocontent) - len(forestland)"
   ]
  },
  {
   "cell_type": "code",
   "execution_count": null,
   "metadata": {},
   "outputs": [],
   "source": [
    "details = df.apply(lambda x: True if \"N\" in df['AFForestLand'] else False , axis=1)\n",
    "details"
   ]
  },
  {
   "cell_type": "code",
   "execution_count": null,
   "metadata": {},
   "outputs": [],
   "source": [
    "to_drop = ['AFForestLand','AFCurrentUseLand','AFNonProfitUse', 'AFHistoricProperty']\n",
    "df = df.drop(to_drop, axis=1)"
   ]
  },
  {
   "cell_type": "code",
   "execution_count": null,
   "metadata": {
    "scrolled": true
   },
   "outputs": [],
   "source": [
    "df.head()"
   ]
  },
  {
   "cell_type": "code",
   "execution_count": null,
   "metadata": {},
   "outputs": [],
   "source": [
    "values=[9800, 10050]\n",
    "filtered_df = df[df.Major.isin(values)]\n",
    "filtered_df"
   ]
  },
  {
   "cell_type": "code",
   "execution_count": null,
   "metadata": {},
   "outputs": [],
   "source": [
    "df.tail(2)"
   ]
  },
  {
   "cell_type": "code",
   "execution_count": null,
   "metadata": {},
   "outputs": [],
   "source": [
    "to_drop = ['Volume','Page','PlatNbr', 'PlatType', 'PlatLot', 'PlatBlock']\n",
    "df = df.drop(to_drop, axis=1)"
   ]
  },
  {
   "cell_type": "code",
   "execution_count": null,
   "metadata": {},
   "outputs": [],
   "source": [
    "housing_data = pd.read_csv('../../data/raw/EXTR_ResBldg.csv')\n",
    "housing_data.head()"
   ]
  },
  {
   "cell_type": "code",
   "execution_count": null,
   "metadata": {},
   "outputs": [],
   "source": [
    "values=[9800, 10050]\n",
    "filtered_df = housing_data[housing_data.Major.isin(values)]\n",
    "filtered_df.head()"
   ]
  },
  {
   "cell_type": "code",
   "execution_count": null,
   "metadata": {},
   "outputs": [],
   "source": [
    "values=[9800, 10050]\n",
    "filtered_df = parcel[parcel.Major.isin(values)]\n",
    "filtered_df"
   ]
  },
  {
   "cell_type": "code",
   "execution_count": null,
   "metadata": {
    "scrolled": false
   },
   "outputs": [],
   "source": [
    "parcel = pd.read_csv('../../data/raw/EXTR_Parcel.csv')\n",
    "parcel.tail()"
   ]
  },
  {
   "cell_type": "code",
   "execution_count": null,
   "metadata": {},
   "outputs": [],
   "source": [
    "parcel.info()"
   ]
  },
  {
   "cell_type": "code",
   "execution_count": null,
   "metadata": {},
   "outputs": [],
   "source": [
    "df4 = pd.read_csv('../../data/raw/EXTR_LookUp.csv')\n",
    "df4.head()"
   ]
  },
  {
   "cell_type": "code",
   "execution_count": null,
   "metadata": {},
   "outputs": [],
   "source": [
    "df4['LUDescription'].value_counts()"
   ]
  },
  {
   "cell_type": "code",
   "execution_count": null,
   "metadata": {
    "scrolled": true
   },
   "outputs": [],
   "source": [
    "(df4.iloc[[3]])"
   ]
  },
  {
   "cell_type": "code",
   "execution_count": null,
   "metadata": {},
   "outputs": [],
   "source": [
    "display(df4.loc[2])"
   ]
  },
  {
   "cell_type": "code",
   "execution_count": null,
   "metadata": {},
   "outputs": [],
   "source": [
    "with pd.option_context('display.max_colwidth', None):\n",
    "  display(df4.head(10))"
   ]
  },
  {
   "cell_type": "code",
   "execution_count": null,
   "metadata": {},
   "outputs": [],
   "source": [
    "multiple = df4['LUDescription'].str.contains('Multiple')\n",
    "multiple"
   ]
  },
  {
   "cell_type": "code",
   "execution_count": null,
   "metadata": {},
   "outputs": [],
   "source": [
    "multiple = display(df4[multiple])\n",
    "multiple.head(2)"
   ]
  },
  {
   "cell_type": "code",
   "execution_count": null,
   "metadata": {},
   "outputs": [],
   "source": [
    "with pd.option_context('display.max_colwidth', None):\n",
    "  display(df4['LUDescription'].str.contains 'Multiple')"
   ]
  },
  {
   "cell_type": "code",
   "execution_count": null,
   "metadata": {},
   "outputs": [],
   "source": [
    "housing_data.head()"
   ]
  },
  {
   "cell_type": "code",
   "execution_count": null,
   "metadata": {
    "scrolled": false
   },
   "outputs": [],
   "source": [
    "housing_data.info()"
   ]
  },
  {
   "cell_type": "markdown",
   "metadata": {},
   "source": [
    "This is a large dataset, containing more than 181 thousand entries and 49 columns. Almost all of the columns contain numeric data, which is convenient for linear regression.\n",
    "A look at the distribution of variables in the dataset:"
   ]
  },
  {
   "cell_type": "code",
   "execution_count": null,
   "metadata": {},
   "outputs": [],
   "source": [
    "housing_data.hist(figsize=(20,20));"
   ]
  },
  {
   "cell_type": "markdown",
   "metadata": {},
   "source": [
    "A lot of the variables don't follow a normal distribution which may create issues with satisfying all regression assumptions, Regression does not require features to be normally distributed so I'll address those issues as they arise. "
   ]
  },
  {
   "cell_type": "markdown",
   "metadata": {},
   "source": [
    "# Preprocessing"
   ]
  },
  {
   "cell_type": "markdown",
   "metadata": {},
   "source": [
    "I'll take a look at missing values in each of the columns:"
   ]
  },
  {
   "cell_type": "code",
   "execution_count": null,
   "metadata": {},
   "outputs": [],
   "source": [
    "for column in housing_data.columns:\n",
    "    num_of_null = (sum(housing_data[column].isnull())/len(housing_data[column])) * 100 #<- to figure out the proportion\n",
    "    print(column, num_of_null)"
   ]
  },
  {
   "cell_type": "markdown",
   "metadata": {},
   "source": [
    "'DirectionPrefix', 'DirectionSuffix', and 'ZipCode' all contain null values. Upon further inspection of the dataframe, a number of columns contain empty values (indicated by '0') whilst others contain no values at all, all of which I will inspect further to see which should be dropped and which should be filled with a median:"
   ]
  },
  {
   "cell_type": "code",
   "execution_count": null,
   "metadata": {},
   "outputs": [],
   "source": [
    "housing_data['DirectionPrefix'].value_counts()"
   ]
  },
  {
   "cell_type": "code",
   "execution_count": null,
   "metadata": {},
   "outputs": [],
   "source": [
    "housing_data['DirectionSuffix'].value_counts()"
   ]
  },
  {
   "cell_type": "code",
   "execution_count": null,
   "metadata": {},
   "outputs": [],
   "source": [
    "housing_data['ZipCode'].value_counts()"
   ]
  },
  {
   "cell_type": "code",
   "execution_count": null,
   "metadata": {},
   "outputs": [],
   "source": [
    "housing_data['Fraction'].value_counts()"
   ]
  },
  {
   "cell_type": "code",
   "execution_count": null,
   "metadata": {},
   "outputs": [],
   "source": [
    "housing_data['FpMultiStory'].value_counts()"
   ]
  },
  {
   "cell_type": "code",
   "execution_count": null,
   "metadata": {},
   "outputs": [],
   "source": [
    "housing_data['FpFreestanding'].value_counts()"
   ]
  },
  {
   "cell_type": "code",
   "execution_count": null,
   "metadata": {},
   "outputs": [],
   "source": [
    "housing_data['FpAdditional'].value_counts()"
   ]
  },
  {
   "cell_type": "code",
   "execution_count": null,
   "metadata": {},
   "outputs": [],
   "source": [
    "housing_data['YrRenovated'].value_counts()"
   ]
  },
  {
   "cell_type": "code",
   "execution_count": null,
   "metadata": {},
   "outputs": [],
   "source": [
    "housing_data['PcntComplete'].value_counts()"
   ]
  },
  {
   "cell_type": "code",
   "execution_count": null,
   "metadata": {},
   "outputs": [],
   "source": [
    "housing_data['Obsolescence'].value_counts()"
   ]
  },
  {
   "cell_type": "code",
   "execution_count": null,
   "metadata": {},
   "outputs": [],
   "source": [
    "housing_data['PcntNetCondition'].value_counts()"
   ]
  },
  {
   "cell_type": "code",
   "execution_count": null,
   "metadata": {},
   "outputs": [],
   "source": [
    "housing_data['AddnlCost'].value_counts()"
   ]
  },
  {
   "cell_type": "markdown",
   "metadata": {},
   "source": [
    "After careful consideration, I've decided to remove the above columns as many of them contain null or empty values and removing them will not adversely affect the data outcomes."
   ]
  },
  {
   "cell_type": "code",
   "execution_count": null,
   "metadata": {},
   "outputs": [],
   "source": [
    "housing_data.head()"
   ]
  },
  {
   "cell_type": "code",
   "execution_count": null,
   "metadata": {},
   "outputs": [],
   "source": [
    "housing_data.drop(['DirectionPrefix', 'DirectionSuffix', 'ZipCode', 'Fraction'], axis= 1, inplace=True)"
   ]
  },
  {
   "cell_type": "code",
   "execution_count": null,
   "metadata": {},
   "outputs": [],
   "source": [
    "housing_data.drop(['FpFreestanding', 'FpAdditional', 'YrRenovated', 'PcntComplete'], axis= 1, inplace=True)"
   ]
  },
  {
   "cell_type": "code",
   "execution_count": null,
   "metadata": {},
   "outputs": [],
   "source": [
    "housing_data.drop(['PcntNetCondition', 'AddnlCost', 'FpMultiStory', 'Obsolescence'], axis= 1, inplace=True)"
   ]
  },
  {
   "cell_type": "code",
   "execution_count": null,
   "metadata": {},
   "outputs": [],
   "source": [
    "housing_data.drop(['ViewUtilization', 'BrickStone', 'FpSingleStory'], axis= 1, inplace=True)"
   ]
  },
  {
   "cell_type": "code",
   "execution_count": null,
   "metadata": {},
   "outputs": [],
   "source": [
    "housing_data.drop(['BrickStone', 'FpSingleStory', 'StreetName', 'StreetType'], axis= 1, inplace=True)"
   ]
  },
  {
   "cell_type": "code",
   "execution_count": null,
   "metadata": {},
   "outputs": [],
   "source": [
    "housing_data.drop(['DirectionPrefix', 'DirectionSuffix', 'ZipCode', 'Fraction', 'FpFreestanding', 'FpAdditional',\n",
    "                  'YrRenovated', 'PcntComplete', 'PcntNetCondition', 'AddnlCost','FpMultiStory', 'Obsolescence',\n",
    "                  'ViewUtilization', 'BrickStone', 'FpSingleStory','BrickStone', 'FpSingleStory',\n",
    "                   'StreetName', 'StreetType' ], axis= 1, inplace=True)"
   ]
  },
  {
   "cell_type": "code",
   "execution_count": null,
   "metadata": {},
   "outputs": [],
   "source": [
    "housing_data.head()"
   ]
  },
  {
   "cell_type": "code",
   "execution_count": null,
   "metadata": {
    "scrolled": true
   },
   "outputs": [],
   "source": [
    "housing_data['ViewUtilization'].value_counts()"
   ]
  },
  {
   "cell_type": "code",
   "execution_count": null,
   "metadata": {},
   "outputs": [],
   "source": [
    "housing_data['BrickStone'].value_counts()"
   ]
  },
  {
   "cell_type": "markdown",
   "metadata": {},
   "source": [
    "In addition, I will remove the 'StreetName' and 'StreetType' columns since this information is already listed in the address column."
   ]
  },
  {
   "cell_type": "code",
   "execution_count": null,
   "metadata": {},
   "outputs": [],
   "source": [
    "housing_data.drop(['StreetName', 'StreetType'], axis= 1, inplace=True)"
   ]
  },
  {
   "cell_type": "code",
   "execution_count": null,
   "metadata": {},
   "outputs": [],
   "source": [
    "housing_data.info()"
   ]
  },
  {
   "cell_type": "code",
   "execution_count": null,
   "metadata": {},
   "outputs": [],
   "source": [
    "new_df = pd.merge(housing_data, df,  how='left', left_on=['Major','Minor'], right_on = ['Major','Minor'])\n",
    "new_df.head()"
   ]
  },
  {
   "cell_type": "code",
   "execution_count": null,
   "metadata": {},
   "outputs": [],
   "source": [
    "new_df.info()"
   ]
  },
  {
   "cell_type": "code",
   "execution_count": null,
   "metadata": {},
   "outputs": [],
   "source": [
    "new_df['NbrLivingUnits'].value_counts()"
   ]
  },
  {
   "cell_type": "markdown",
   "metadata": {},
   "source": [
    "For the sake of this analysis, which is to determine which home improvement projects provide the most value to a home, I will only keep the data pertaining to single living units only, and remove those that have 2 or more."
   ]
  },
  {
   "cell_type": "code",
   "execution_count": null,
   "metadata": {},
   "outputs": [],
   "source": [
    "new_df.drop(['SellerName', 'BuyerName'], axis=1, inplace=True)"
   ]
  },
  {
   "cell_type": "code",
   "execution_count": null,
   "metadata": {},
   "outputs": [],
   "source": [
    "new_df.drop(['BldgNbr'], axis=1, inplace=True)"
   ]
  },
  {
   "cell_type": "code",
   "execution_count": null,
   "metadata": {},
   "outputs": [],
   "source": [
    "new_df.drop(['BldgGradeVar'], axis =1, inplace=True)"
   ]
  },
  {
   "cell_type": "code",
   "execution_count": null,
   "metadata": {},
   "outputs": [],
   "source": [
    "new_df.head()"
   ]
  },
  {
   "cell_type": "markdown",
   "metadata": {},
   "source": [
    "# Outliers"
   ]
  },
  {
   "cell_type": "markdown",
   "metadata": {},
   "source": [
    "Outliers should be kept if they have the potential to reveal useful information about relationships in our data. There is a variable in this dataset, however, whose outliers I will remove: multiple living units. If a residence in the dataset has more than 1  living unit, we're likely not dealing with single-family homes, but much larger units that would be better to analyze separately. For this reason, we'll remove all rows in the data that contain values greater than 1 for this column."
   ]
  },
  {
   "cell_type": "code",
   "execution_count": null,
   "metadata": {},
   "outputs": [],
   "source": [
    "prices = single_family_homes[single_family_homes['SalePrice'] > 0]\n",
    "prices.head()"
   ]
  },
  {
   "cell_type": "code",
   "execution_count": null,
   "metadata": {
    "scrolled": true
   },
   "outputs": [],
   "source": [
    "len(prices)"
   ]
  },
  {
   "cell_type": "markdown",
   "metadata": {},
   "source": [
    "I will replace the approximate 75 thousand missing price values with the median to avoid losing important data"
   ]
  },
  {
   "cell_type": "code",
   "execution_count": null,
   "metadata": {},
   "outputs": [],
   "source": [
    "pricing_mean = (np.mean(new_df['SalePrice']))"
   ]
  },
  {
   "cell_type": "code",
   "execution_count": null,
   "metadata": {},
   "outputs": [],
   "source": [
    "new_df['SalePrice']=new_df['SalePrice'].replace(0,df['SalePrice'].mean())"
   ]
  },
  {
   "cell_type": "code",
   "execution_count": null,
   "metadata": {
    "scrolled": true
   },
   "outputs": [],
   "source": [
    "new_df.SalePrice.apply('pricing_mean')"
   ]
  },
  {
   "cell_type": "code",
   "execution_count": null,
   "metadata": {},
   "outputs": [],
   "source": [
    "new_df.head()"
   ]
  },
  {
   "cell_type": "code",
   "execution_count": null,
   "metadata": {},
   "outputs": [],
   "source": [
    "new_df['SalePrice']= new_df['SalePrice'].astype(np.int64)"
   ]
  },
  {
   "cell_type": "code",
   "execution_count": null,
   "metadata": {},
   "outputs": [],
   "source": [
    "new_df.head()"
   ]
  },
  {
   "cell_type": "code",
   "execution_count": null,
   "metadata": {},
   "outputs": [],
   "source": [
    "single_family_homes = new_df[new_df['NbrLivingUnits'] == 1]\n",
    "single_family_homes"
   ]
  },
  {
   "cell_type": "code",
   "execution_count": null,
   "metadata": {},
   "outputs": [],
   "source": [
    "single_family_homes['SqFtHalfFloor'].value_counts()"
   ]
  },
  {
   "cell_type": "code",
   "execution_count": null,
   "metadata": {},
   "outputs": [],
   "source": [
    "new_df.drop(['SqFtHalfFloor'], axis=1, inplace=True)"
   ]
  },
  {
   "cell_type": "code",
   "execution_count": null,
   "metadata": {},
   "outputs": [],
   "source": [
    "new_df['SqFtEnclosedPorch'].value_counts()"
   ]
  },
  {
   "cell_type": "markdown",
   "metadata": {},
   "source": [
    "The main variable in the dataset that I would be focused on in relation to price is 'SqFtEnclosedPorch', which doesn't have a clear linear relationship. The values for this column are in feet. Interestingly, the below scatterplot shows that 'average' houses tend to perform the best overall in terms of price."
   ]
  },
  {
   "cell_type": "code",
   "execution_count": null,
   "metadata": {},
   "outputs": [],
   "source": [
    "single_family_homes.info()"
   ]
  },
  {
   "cell_type": "code",
   "execution_count": null,
   "metadata": {},
   "outputs": [],
   "source": [
    "single_family_homes = pd.DataFrame(single_family_homes)\n",
    "single_family_homes"
   ]
  },
  {
   "cell_type": "code",
   "execution_count": null,
   "metadata": {},
   "outputs": [],
   "source": [
    "single_family_homes['SqFtEnclosedPorch'].value_counts()"
   ]
  },
  {
   "cell_type": "code",
   "execution_count": null,
   "metadata": {},
   "outputs": [],
   "source": [
    "single_family_homes['SalePrice'].value_counts()"
   ]
  },
  {
   "cell_type": "code",
   "execution_count": null,
   "metadata": {},
   "outputs": [],
   "source": [
    "plt.figure(figsize=(10,7))\n",
    "sns.scatterplot(single_family_homes['SqFtEnclosedPorch'], single_family_homes['SalePrice'])\n",
    "plt.title('Sq Ft W/Enclosed Porch and Price', fontsize=15)"
   ]
  },
  {
   "cell_type": "markdown",
   "metadata": {},
   "source": [
    "This may be due to the fact that the condition values are relative to age and grade (i.e. the design/quality of construction rather than the utility/functionality of the building). A new, excellently designed, expensive home could be given an 'average' condition rating if some functional repairs are needed. As we can see in the scatterplot below, average condition houses also tend to do well with grade rating."
   ]
  },
  {
   "cell_type": "code",
   "execution_count": null,
   "metadata": {},
   "outputs": [],
   "source": [
    "plt.figure(figsize=(10,7))\n",
    "sns.scatterplot(single_family_homes['Condition'], single_family_homes['BldgGrade'])\n",
    "plt.title('House Condition and Grade', fontsize=15)"
   ]
  },
  {
   "cell_type": "markdown",
   "metadata": {},
   "source": [
    "A clearer linear relationship between price and specific condition values may be possible, which I will explore more effectively by one-hot encoding the variable. The below code creates a dummy variable for each condition value, drops the first value to avoid the dummy variable trap, drops the original column, and joins the new variables to the dataframe."
   ]
  },
  {
   "cell_type": "code",
   "execution_count": null,
   "metadata": {},
   "outputs": [],
   "source": [
    "one_hot = pd.get_dummies(single_family_homes['Condition'], drop_first=True) #drop a column to avoid dummy variable trap\n",
    "single_family_homes = single_family_homes.drop('Condition',axis = 1)\n",
    "single_family_homes = single_family_homes.join(one_hot)"
   ]
  },
  {
   "cell_type": "markdown",
   "metadata": {},
   "source": [
    "Now if I generate scatter plots the condition values, we should see a clearer linear relationship."
   ]
  },
  {
   "cell_type": "code",
   "execution_count": null,
   "metadata": {},
   "outputs": [],
   "source": [
    "price = single_family_homes['SalePrice']\n",
    "two = single_family_homes['two'] = single_family_homes[2] \n",
    "three = single_family_homes['three'] = single_family_homes[3] \n",
    "four = single_family_homes['four'] = single_family_homes[4] \n",
    "five = single_family_homes['five'] = single_family_homes[5] \n",
    "\n",
    "f = plt.figure()\n",
    "f, axes = plt.subplots(nrows = 2, ncols = 2, sharex=False, sharey = True, figsize=(10,5))\n",
    "\n",
    "f.suptitle('House Condition and Price', fontsize=18, y=1.1)\n",
    "f.text(0.0001, 0.56, 'Prices', va='center', rotation='vertical', fontsize=16)\n",
    "\n",
    "sc = axes[0][0].scatter(two, price, c = price, marker = \"*\")\n",
    "axes[0][0].set_xlabel('Condition 2')\n",
    "\n",
    "axes[0][1].scatter(three, price, c = price, marker = \"*\")\n",
    "axes[0][1].set_xlabel('Condition 3')\n",
    "\n",
    "axes[1][0].scatter(four, price, c = price, marker = \"*\")\n",
    "axes[1][0].set_xlabel('Condition 4')\n",
    "\n",
    "axes[1][1].scatter(five, price, c = price, marker = \"*\")\n",
    "axes[1][1].set_xlabel('Condition 5')\n",
    "\n",
    "\n",
    "f.tight_layout()\n",
    "plt.show()"
   ]
  },
  {
   "cell_type": "markdown",
   "metadata": {},
   "source": [
    "# Correlations and Multicollinearity"
   ]
  },
  {
   "cell_type": "markdown",
   "metadata": {},
   "source": [
    "To see which variables should be included in my model, I should investigate which variables are most strongly correlated with price\n",
    "We're interested in finding out which variables are most strongly correlated with price, as these variables will be good candidates for inclusion in our model. One of the assumptions of a multiple linear regression model, however, is that there is no multicollinearity among the explanatory variables (i.e., they can't be predicted by other explanatory variables with high accuracy). Below, we create a correlation matrix of price and continuous variables in the dataset to visualize correlations."
   ]
  },
  {
   "cell_type": "code",
   "execution_count": null,
   "metadata": {},
   "outputs": [],
   "source": []
  },
  {
   "cell_type": "code",
   "execution_count": null,
   "metadata": {},
   "outputs": [],
   "source": [
    "#create a list of meaningfully continuous x variables\n",
    "x_columns = ['Bedrooms', 'BathHalfCount', 'BathFullCount', 'SqFtTotLiving',\n",
    "       'sqft_lot', 'Stories','BldgGrade',\n",
    "       'sqft_above', 'YrBuilt', 2, 3, 4, 5]\n",
    "\n",
    "#update dataframe to only include the above variables\n",
    "df_clean = single_family_homes[x_columns]\n",
    "df_clean['price'] = single_family_homes['price']\n",
    "single_family_homes = df_clean"
   ]
  },
  {
   "cell_type": "code",
   "execution_count": 46,
   "metadata": {},
   "outputs": [
    {
     "name": "stdout",
     "output_type": "stream",
     "text": [
      "<class 'pandas.core.frame.DataFrame'>\n",
      "RangeIndex: 351067 entries, 0 to 351066\n",
      "Data columns (total 24 columns):\n",
      " #   Column              Non-Null Count   Dtype \n",
      "---  ------              --------------   ----- \n",
      " 0   ExciseTaxNbr        351067 non-null  int64 \n",
      " 1   Major               351067 non-null  int64 \n",
      " 2   Minor               351067 non-null  int64 \n",
      " 3   DocumentDate        351067 non-null  object\n",
      " 4   SalePrice           351067 non-null  int64 \n",
      " 5   RecordingNbr        351067 non-null  object\n",
      " 6   Volume              351067 non-null  object\n",
      " 7   Page                351067 non-null  object\n",
      " 8   PlatNbr             351067 non-null  object\n",
      " 9   PlatType            351067 non-null  object\n",
      " 10  PlatLot             351067 non-null  object\n",
      " 11  PlatBlock           351067 non-null  object\n",
      " 12  SellerName          351067 non-null  object\n",
      " 13  BuyerName           351067 non-null  object\n",
      " 14  PropertyType        351067 non-null  int64 \n",
      " 15  PrincipalUse        351067 non-null  int64 \n",
      " 16  SaleInstrument      351067 non-null  int64 \n",
      " 17  AFForestLand        351067 non-null  object\n",
      " 18  AFCurrentUseLand    351067 non-null  object\n",
      " 19  AFNonProfitUse      351067 non-null  object\n",
      " 20  AFHistoricProperty  351067 non-null  object\n",
      " 21  SaleReason          351067 non-null  int64 \n",
      " 22  PropertyClass       351067 non-null  int64 \n",
      " 23  SaleWarning         351067 non-null  object\n",
      "dtypes: int64(9), object(15)\n",
      "memory usage: 64.3+ MB\n"
     ]
    }
   ],
   "source": [
    "saleprices = pd.read_csv('../../data/raw/EXTR_RPSale.csv')\n",
    "saleprices.info()"
   ]
  },
  {
   "cell_type": "code",
   "execution_count": 45,
   "metadata": {
    "scrolled": true
   },
   "outputs": [
    {
     "name": "stdout",
     "output_type": "stream",
     "text": [
      "<class 'pandas.core.frame.DataFrame'>\n",
      "RangeIndex: 181510 entries, 0 to 181509\n",
      "Data columns (total 50 columns):\n",
      " #   Column              Non-Null Count   Dtype  \n",
      "---  ------              --------------   -----  \n",
      " 0   Major               181510 non-null  int64  \n",
      " 1   Minor               181510 non-null  int64  \n",
      " 2   BldgNbr             181510 non-null  int64  \n",
      " 3   NbrLivingUnits      181510 non-null  int64  \n",
      " 4   Address             181510 non-null  object \n",
      " 5   BuildingNumber      181510 non-null  object \n",
      " 6   Fraction            181510 non-null  object \n",
      " 7   DirectionPrefix     181146 non-null  object \n",
      " 8   StreetName          181510 non-null  object \n",
      " 9   StreetType          181510 non-null  object \n",
      " 10  DirectionSuffix     181146 non-null  object \n",
      " 11  ZipCode             154594 non-null  object \n",
      " 12  Stories             181510 non-null  float64\n",
      " 13  BldgGrade           181510 non-null  int64  \n",
      " 14  BldgGradeVar        181510 non-null  int64  \n",
      " 15  SqFt1stFloor        181510 non-null  int64  \n",
      " 16  SqFtHalfFloor       181510 non-null  int64  \n",
      " 17  SqFt2ndFloor        181510 non-null  int64  \n",
      " 18  SqFtUpperFloor      181510 non-null  int64  \n",
      " 19  SqFtUnfinFull       181510 non-null  int64  \n",
      " 20  SqFtUnfinHalf       181510 non-null  int64  \n",
      " 21  SqFtTotLiving       181510 non-null  int64  \n",
      " 22  SqFtTotBasement     181510 non-null  int64  \n",
      " 23  SqFtFinBasement     181510 non-null  int64  \n",
      " 24  FinBasementGrade    181510 non-null  int64  \n",
      " 25  SqFtGarageBasement  181510 non-null  int64  \n",
      " 26  SqFtGarageAttached  181510 non-null  int64  \n",
      " 27  DaylightBasement    181510 non-null  object \n",
      " 28  SqFtOpenPorch       181510 non-null  int64  \n",
      " 29  SqFtEnclosedPorch   181510 non-null  int64  \n",
      " 30  SqFtDeck            181510 non-null  int64  \n",
      " 31  HeatSystem          181510 non-null  int64  \n",
      " 32  HeatSource          181510 non-null  int64  \n",
      " 33  BrickStone          181510 non-null  int64  \n",
      " 34  ViewUtilization     181510 non-null  object \n",
      " 35  Bedrooms            181510 non-null  int64  \n",
      " 36  BathHalfCount       181510 non-null  int64  \n",
      " 37  Bath3qtrCount       181510 non-null  int64  \n",
      " 38  BathFullCount       181510 non-null  int64  \n",
      " 39  FpSingleStory       181510 non-null  int64  \n",
      " 40  FpMultiStory        181510 non-null  int64  \n",
      " 41  FpFreestanding      181510 non-null  int64  \n",
      " 42  FpAdditional        181510 non-null  int64  \n",
      " 43  YrBuilt             181510 non-null  int64  \n",
      " 44  YrRenovated         181510 non-null  int64  \n",
      " 45  PcntComplete        181510 non-null  int64  \n",
      " 46  Obsolescence        181510 non-null  int64  \n",
      " 47  PcntNetCondition    181510 non-null  int64  \n",
      " 48  Condition           181510 non-null  int64  \n",
      " 49  AddnlCost           181510 non-null  int64  \n",
      "dtypes: float64(1), int64(39), object(10)\n",
      "memory usage: 69.2+ MB\n"
     ]
    }
   ],
   "source": [
    "housing_data = pd.read_csv('../../data/raw/EXTR_ResBldg.csv')\n",
    "housing_data.info()"
   ]
  },
  {
   "cell_type": "code",
   "execution_count": 42,
   "metadata": {},
   "outputs": [
    {
     "data": {
      "text/plain": [
       "     89647\n",
       "N    88008\n",
       "Y     3846\n",
       "y        8\n",
       "0        1\n",
       "Name: ViewUtilization, dtype: int64"
      ]
     },
     "execution_count": 42,
     "metadata": {},
     "output_type": "execute_result"
    }
   ],
   "source": [
    "housing_data['ViewUtilization'].value_counts()"
   ]
  },
  {
   "cell_type": "code",
   "execution_count": 44,
   "metadata": {},
   "outputs": [
    {
     "data": {
      "text/plain": [
       "1300    1095\n",
       "1800    1086\n",
       "1440    1069\n",
       "1560    1024\n",
       "1600    1002\n",
       "        ... \n",
       "3235       1\n",
       "9510       1\n",
       "3491       1\n",
       "3538       1\n",
       "0          1\n",
       "Name: SqFtTotLiving, Length: 3232, dtype: int64"
      ]
     },
     "execution_count": 44,
     "metadata": {},
     "output_type": "execute_result"
    }
   ],
   "source": [
    "housing_data['SqFtTotLiving'].value_counts()"
   ]
  },
  {
   "cell_type": "code",
   "execution_count": 48,
   "metadata": {},
   "outputs": [
    {
     "name": "stdout",
     "output_type": "stream",
     "text": [
      "<class 'pandas.core.frame.DataFrame'>\n",
      "RangeIndex: 246655 entries, 0 to 246654\n",
      "Data columns (total 42 columns):\n",
      " #   Column              Non-Null Count   Dtype  \n",
      "---  ------              --------------   -----  \n",
      " 0   Unnamed: 0          246655 non-null  int64  \n",
      " 1   ExciseTaxNbr        246655 non-null  int64  \n",
      " 2   Major               246655 non-null  int64  \n",
      " 3   Minor               246655 non-null  int64  \n",
      " 4   DocumentDate        246655 non-null  object \n",
      " 5   SalePrice           246655 non-null  int64  \n",
      " 6   RecordingNbr        246655 non-null  object \n",
      " 7   PropertyType        246655 non-null  int64  \n",
      " 8   PrincipalUse        246655 non-null  int64  \n",
      " 9   SaleInstrument      246655 non-null  int64  \n",
      " 10  SaleReason          246655 non-null  int64  \n",
      " 11  PropertyClass       246655 non-null  int64  \n",
      " 12  SaleWarning         246655 non-null  object \n",
      " 13  BldgNbr             246655 non-null  float64\n",
      " 14  NbrLivingUnits      246655 non-null  float64\n",
      " 15  Address             246655 non-null  object \n",
      " 16  BuildingNumber      246655 non-null  object \n",
      " 17  Stories             246655 non-null  float64\n",
      " 18  BldgGrade           246655 non-null  float64\n",
      " 19  SqFt1stFloor        246655 non-null  float64\n",
      " 20  SqFt2ndFloor        246655 non-null  float64\n",
      " 21  SqFtUpperFloor      246655 non-null  float64\n",
      " 22  SqFtUnfinFull       246655 non-null  float64\n",
      " 23  SqFtUnfinHalf       246655 non-null  float64\n",
      " 24  SqFtTotLiving       246655 non-null  float64\n",
      " 25  SqFtTotBasement     246655 non-null  float64\n",
      " 26  SqFtFinBasement     246655 non-null  float64\n",
      " 27  FinBasementGrade    246655 non-null  float64\n",
      " 28  SqFtGarageBasement  246655 non-null  float64\n",
      " 29  SqFtGarageAttached  246655 non-null  float64\n",
      " 30  DaylightBasement    246655 non-null  object \n",
      " 31  SqFtOpenPorch       246655 non-null  float64\n",
      " 32  SqFtEnclosedPorch   246655 non-null  float64\n",
      " 33  SqFtDeck            246655 non-null  float64\n",
      " 34  HeatSystem          246655 non-null  float64\n",
      " 35  HeatSource          246655 non-null  float64\n",
      " 36  Bedrooms            246655 non-null  float64\n",
      " 37  BathHalfCount       246655 non-null  float64\n",
      " 38  Bath3qtrCount       246655 non-null  float64\n",
      " 39  BathFullCount       246655 non-null  float64\n",
      " 40  YrBuilt             246655 non-null  float64\n",
      " 41  Condition           246655 non-null  float64\n",
      "dtypes: float64(26), int64(10), object(6)\n",
      "memory usage: 79.0+ MB\n"
     ]
    }
   ],
   "source": [
    "housing_sales = pd.read_csv('../../data/processed/housing_sales.csv')\n",
    "housing_sales.info()"
   ]
  },
  {
   "cell_type": "code",
   "execution_count": 73,
   "metadata": {},
   "outputs": [
    {
     "name": "stdout",
     "output_type": "stream",
     "text": [
      "\n",
      "CSV String:\n",
      " None\n"
     ]
    }
   ],
   "source": [
    "housing_info = housing_info.to_csv('housing_info.csv', index = True) \n",
    "print('\\nCSV String:\\n', housing_info) "
   ]
  },
  {
   "cell_type": "code",
   "execution_count": 74,
   "metadata": {},
   "outputs": [
    {
     "ename": "AttributeError",
     "evalue": "'NoneType' object has no attribute 'head'",
     "output_type": "error",
     "traceback": [
      "\u001b[1;31m---------------------------------------------------------------------------\u001b[0m",
      "\u001b[1;31mAttributeError\u001b[0m                            Traceback (most recent call last)",
      "\u001b[1;32m<ipython-input-74-f3d1c3cce8e3>\u001b[0m in \u001b[0;36m<module>\u001b[1;34m\u001b[0m\n\u001b[1;32m----> 1\u001b[1;33m \u001b[0mhousing_info\u001b[0m\u001b[1;33m.\u001b[0m\u001b[0mhead\u001b[0m\u001b[1;33m(\u001b[0m\u001b[1;33m)\u001b[0m\u001b[1;33m\u001b[0m\u001b[1;33m\u001b[0m\u001b[0m\n\u001b[0m",
      "\u001b[1;31mAttributeError\u001b[0m: 'NoneType' object has no attribute 'head'"
     ]
    }
   ],
   "source": [
    "housing_info.head()"
   ]
  },
  {
   "cell_type": "code",
   "execution_count": 75,
   "metadata": {},
   "outputs": [
    {
     "data": {
      "text/html": [
       "<div>\n",
       "<style scoped>\n",
       "    .dataframe tbody tr th:only-of-type {\n",
       "        vertical-align: middle;\n",
       "    }\n",
       "\n",
       "    .dataframe tbody tr th {\n",
       "        vertical-align: top;\n",
       "    }\n",
       "\n",
       "    .dataframe thead th {\n",
       "        text-align: right;\n",
       "    }\n",
       "</style>\n",
       "<table border=\"1\" class=\"dataframe\">\n",
       "  <thead>\n",
       "    <tr style=\"text-align: right;\">\n",
       "      <th></th>\n",
       "      <th>Unnamed: 0</th>\n",
       "      <th>ExciseTaxNbr</th>\n",
       "      <th>Major</th>\n",
       "      <th>Minor</th>\n",
       "      <th>DocumentDate</th>\n",
       "      <th>SalePrice</th>\n",
       "      <th>RecordingNbr</th>\n",
       "      <th>PropertyType</th>\n",
       "      <th>PrincipalUse</th>\n",
       "      <th>BldgNbr</th>\n",
       "      <th>...</th>\n",
       "      <th>Bedrooms</th>\n",
       "      <th>BathHalfCount</th>\n",
       "      <th>Bath3qtrCount</th>\n",
       "      <th>BathFullCount</th>\n",
       "      <th>YrBuilt</th>\n",
       "      <th>Condition</th>\n",
       "      <th>SqFtLot</th>\n",
       "      <th>OtherView</th>\n",
       "      <th>TrafficNoise</th>\n",
       "      <th>OtherNuisances</th>\n",
       "    </tr>\n",
       "  </thead>\n",
       "  <tbody>\n",
       "    <tr>\n",
       "      <th>0</th>\n",
       "      <td>0</td>\n",
       "      <td>2743355</td>\n",
       "      <td>638580</td>\n",
       "      <td>110</td>\n",
       "      <td>07/14/2015</td>\n",
       "      <td>190000</td>\n",
       "      <td>20150715002686</td>\n",
       "      <td>3</td>\n",
       "      <td>6</td>\n",
       "      <td>1.0</td>\n",
       "      <td>...</td>\n",
       "      <td>4.0</td>\n",
       "      <td>1.0</td>\n",
       "      <td>0.0</td>\n",
       "      <td>1.0</td>\n",
       "      <td>1963.0</td>\n",
       "      <td>3.0</td>\n",
       "      <td>10534</td>\n",
       "      <td>0</td>\n",
       "      <td>0</td>\n",
       "      <td>N</td>\n",
       "    </tr>\n",
       "    <tr>\n",
       "      <th>1</th>\n",
       "      <td>1</td>\n",
       "      <td>2841697</td>\n",
       "      <td>894677</td>\n",
       "      <td>240</td>\n",
       "      <td>12/21/2016</td>\n",
       "      <td>818161</td>\n",
       "      <td>20161228000896</td>\n",
       "      <td>2</td>\n",
       "      <td>6</td>\n",
       "      <td>1.0</td>\n",
       "      <td>...</td>\n",
       "      <td>4.0</td>\n",
       "      <td>0.0</td>\n",
       "      <td>1.0</td>\n",
       "      <td>2.0</td>\n",
       "      <td>2016.0</td>\n",
       "      <td>3.0</td>\n",
       "      <td>3813</td>\n",
       "      <td>0</td>\n",
       "      <td>0</td>\n",
       "      <td>N</td>\n",
       "    </tr>\n",
       "    <tr>\n",
       "      <th>2</th>\n",
       "      <td>2</td>\n",
       "      <td>2860712</td>\n",
       "      <td>408330</td>\n",
       "      <td>4150</td>\n",
       "      <td>03/15/2017</td>\n",
       "      <td>1069300</td>\n",
       "      <td>20170426000922</td>\n",
       "      <td>3</td>\n",
       "      <td>6</td>\n",
       "      <td>1.0</td>\n",
       "      <td>...</td>\n",
       "      <td>5.0</td>\n",
       "      <td>1.0</td>\n",
       "      <td>1.0</td>\n",
       "      <td>1.0</td>\n",
       "      <td>1906.0</td>\n",
       "      <td>4.0</td>\n",
       "      <td>3420</td>\n",
       "      <td>0</td>\n",
       "      <td>0</td>\n",
       "      <td>N</td>\n",
       "    </tr>\n",
       "    <tr>\n",
       "      <th>3</th>\n",
       "      <td>3</td>\n",
       "      <td>2813396</td>\n",
       "      <td>510140</td>\n",
       "      <td>4256</td>\n",
       "      <td>07/25/2016</td>\n",
       "      <td>1069300</td>\n",
       "      <td>20160802000964</td>\n",
       "      <td>2</td>\n",
       "      <td>6</td>\n",
       "      <td>1.0</td>\n",
       "      <td>...</td>\n",
       "      <td>3.0</td>\n",
       "      <td>0.0</td>\n",
       "      <td>0.0</td>\n",
       "      <td>1.0</td>\n",
       "      <td>1949.0</td>\n",
       "      <td>3.0</td>\n",
       "      <td>3520</td>\n",
       "      <td>0</td>\n",
       "      <td>0</td>\n",
       "      <td>N</td>\n",
       "    </tr>\n",
       "    <tr>\n",
       "      <th>4</th>\n",
       "      <td>4</td>\n",
       "      <td>2899303</td>\n",
       "      <td>126320</td>\n",
       "      <td>110</td>\n",
       "      <td>10/30/2017</td>\n",
       "      <td>375000</td>\n",
       "      <td></td>\n",
       "      <td>3</td>\n",
       "      <td>6</td>\n",
       "      <td>1.0</td>\n",
       "      <td>...</td>\n",
       "      <td>3.0</td>\n",
       "      <td>0.0</td>\n",
       "      <td>0.0</td>\n",
       "      <td>1.0</td>\n",
       "      <td>1919.0</td>\n",
       "      <td>3.0</td>\n",
       "      <td>4760</td>\n",
       "      <td>0</td>\n",
       "      <td>0</td>\n",
       "      <td>N</td>\n",
       "    </tr>\n",
       "  </tbody>\n",
       "</table>\n",
       "<p>5 rows × 42 columns</p>\n",
       "</div>"
      ],
      "text/plain": [
       "   Unnamed: 0  ExciseTaxNbr   Major  Minor DocumentDate  SalePrice  \\\n",
       "0           0       2743355  638580    110   07/14/2015     190000   \n",
       "1           1       2841697  894677    240   12/21/2016     818161   \n",
       "2           2       2860712  408330   4150   03/15/2017    1069300   \n",
       "3           3       2813396  510140   4256   07/25/2016    1069300   \n",
       "4           4       2899303  126320    110   10/30/2017     375000   \n",
       "\n",
       "     RecordingNbr  PropertyType  PrincipalUse  BldgNbr  ...  Bedrooms  \\\n",
       "0  20150715002686             3             6      1.0  ...       4.0   \n",
       "1  20161228000896             2             6      1.0  ...       4.0   \n",
       "2  20170426000922             3             6      1.0  ...       5.0   \n",
       "3  20160802000964             2             6      1.0  ...       3.0   \n",
       "4                             3             6      1.0  ...       3.0   \n",
       "\n",
       "  BathHalfCount Bath3qtrCount  BathFullCount  YrBuilt  Condition  SqFtLot  \\\n",
       "0           1.0           0.0            1.0   1963.0        3.0    10534   \n",
       "1           0.0           1.0            2.0   2016.0        3.0     3813   \n",
       "2           1.0           1.0            1.0   1906.0        4.0     3420   \n",
       "3           0.0           0.0            1.0   1949.0        3.0     3520   \n",
       "4           0.0           0.0            1.0   1919.0        3.0     4760   \n",
       "\n",
       "   OtherView  TrafficNoise  OtherNuisances  \n",
       "0          0             0               N  \n",
       "1          0             0               N  \n",
       "2          0             0               N  \n",
       "3          0             0               N  \n",
       "4          0             0               N  \n",
       "\n",
       "[5 rows x 42 columns]"
      ]
     },
     "execution_count": 75,
     "metadata": {},
     "output_type": "execute_result"
    }
   ],
   "source": [
    "housing_info = pd.read_csv('../../data/processed/housing_info.csv')\n",
    "housing_info.head()"
   ]
  },
  {
   "cell_type": "code",
   "execution_count": 71,
   "metadata": {},
   "outputs": [
    {
     "data": {
      "text/html": [
       "<div>\n",
       "<style scoped>\n",
       "    .dataframe tbody tr th:only-of-type {\n",
       "        vertical-align: middle;\n",
       "    }\n",
       "\n",
       "    .dataframe tbody tr th {\n",
       "        vertical-align: top;\n",
       "    }\n",
       "\n",
       "    .dataframe thead th {\n",
       "        text-align: right;\n",
       "    }\n",
       "</style>\n",
       "<table border=\"1\" class=\"dataframe\">\n",
       "  <thead>\n",
       "    <tr style=\"text-align: right;\">\n",
       "      <th></th>\n",
       "      <th>ExciseTaxNbr</th>\n",
       "      <th>Major</th>\n",
       "      <th>Minor</th>\n",
       "      <th>DocumentDate</th>\n",
       "      <th>SalePrice</th>\n",
       "      <th>RecordingNbr</th>\n",
       "      <th>PropertyType</th>\n",
       "      <th>PrincipalUse</th>\n",
       "      <th>SaleInstrument</th>\n",
       "      <th>SaleReason</th>\n",
       "      <th>...</th>\n",
       "      <th>Bedrooms</th>\n",
       "      <th>BathHalfCount</th>\n",
       "      <th>Bath3qtrCount</th>\n",
       "      <th>BathFullCount</th>\n",
       "      <th>YrBuilt</th>\n",
       "      <th>Condition</th>\n",
       "      <th>SqFtLot</th>\n",
       "      <th>OtherView</th>\n",
       "      <th>TrafficNoise</th>\n",
       "      <th>OtherNuisances</th>\n",
       "    </tr>\n",
       "  </thead>\n",
       "  <tbody>\n",
       "    <tr>\n",
       "      <th>0</th>\n",
       "      <td>2743355</td>\n",
       "      <td>638580</td>\n",
       "      <td>110</td>\n",
       "      <td>07/14/2015</td>\n",
       "      <td>190000</td>\n",
       "      <td>20150715002686</td>\n",
       "      <td>3</td>\n",
       "      <td>6</td>\n",
       "      <td>3</td>\n",
       "      <td>1</td>\n",
       "      <td>...</td>\n",
       "      <td>4.0</td>\n",
       "      <td>1.0</td>\n",
       "      <td>0.0</td>\n",
       "      <td>1.0</td>\n",
       "      <td>1963.0</td>\n",
       "      <td>3.0</td>\n",
       "      <td>10534</td>\n",
       "      <td>0</td>\n",
       "      <td>0</td>\n",
       "      <td>N</td>\n",
       "    </tr>\n",
       "    <tr>\n",
       "      <th>1</th>\n",
       "      <td>2841697</td>\n",
       "      <td>894677</td>\n",
       "      <td>240</td>\n",
       "      <td>12/21/2016</td>\n",
       "      <td>818161</td>\n",
       "      <td>20161228000896</td>\n",
       "      <td>2</td>\n",
       "      <td>6</td>\n",
       "      <td>3</td>\n",
       "      <td>1</td>\n",
       "      <td>...</td>\n",
       "      <td>4.0</td>\n",
       "      <td>0.0</td>\n",
       "      <td>1.0</td>\n",
       "      <td>2.0</td>\n",
       "      <td>2016.0</td>\n",
       "      <td>3.0</td>\n",
       "      <td>3813</td>\n",
       "      <td>0</td>\n",
       "      <td>0</td>\n",
       "      <td>N</td>\n",
       "    </tr>\n",
       "    <tr>\n",
       "      <th>2</th>\n",
       "      <td>2860712</td>\n",
       "      <td>408330</td>\n",
       "      <td>4150</td>\n",
       "      <td>03/15/2017</td>\n",
       "      <td>1069300</td>\n",
       "      <td>20170426000922</td>\n",
       "      <td>3</td>\n",
       "      <td>6</td>\n",
       "      <td>15</td>\n",
       "      <td>11</td>\n",
       "      <td>...</td>\n",
       "      <td>5.0</td>\n",
       "      <td>1.0</td>\n",
       "      <td>1.0</td>\n",
       "      <td>1.0</td>\n",
       "      <td>1906.0</td>\n",
       "      <td>4.0</td>\n",
       "      <td>3420</td>\n",
       "      <td>0</td>\n",
       "      <td>0</td>\n",
       "      <td>N</td>\n",
       "    </tr>\n",
       "    <tr>\n",
       "      <th>3</th>\n",
       "      <td>2813396</td>\n",
       "      <td>510140</td>\n",
       "      <td>4256</td>\n",
       "      <td>07/25/2016</td>\n",
       "      <td>1069300</td>\n",
       "      <td>20160802000964</td>\n",
       "      <td>2</td>\n",
       "      <td>6</td>\n",
       "      <td>15</td>\n",
       "      <td>13</td>\n",
       "      <td>...</td>\n",
       "      <td>3.0</td>\n",
       "      <td>0.0</td>\n",
       "      <td>0.0</td>\n",
       "      <td>1.0</td>\n",
       "      <td>1949.0</td>\n",
       "      <td>3.0</td>\n",
       "      <td>3520</td>\n",
       "      <td>0</td>\n",
       "      <td>0</td>\n",
       "      <td>N</td>\n",
       "    </tr>\n",
       "    <tr>\n",
       "      <th>4</th>\n",
       "      <td>2899303</td>\n",
       "      <td>126320</td>\n",
       "      <td>110</td>\n",
       "      <td>10/30/2017</td>\n",
       "      <td>375000</td>\n",
       "      <td></td>\n",
       "      <td>3</td>\n",
       "      <td>6</td>\n",
       "      <td>3</td>\n",
       "      <td>1</td>\n",
       "      <td>...</td>\n",
       "      <td>3.0</td>\n",
       "      <td>0.0</td>\n",
       "      <td>0.0</td>\n",
       "      <td>1.0</td>\n",
       "      <td>1919.0</td>\n",
       "      <td>3.0</td>\n",
       "      <td>4760</td>\n",
       "      <td>0</td>\n",
       "      <td>0</td>\n",
       "      <td>N</td>\n",
       "    </tr>\n",
       "  </tbody>\n",
       "</table>\n",
       "<p>5 rows × 45 columns</p>\n",
       "</div>"
      ],
      "text/plain": [
       "   ExciseTaxNbr   Major  Minor DocumentDate  SalePrice    RecordingNbr  \\\n",
       "0       2743355  638580    110   07/14/2015     190000  20150715002686   \n",
       "1       2841697  894677    240   12/21/2016     818161  20161228000896   \n",
       "2       2860712  408330   4150   03/15/2017    1069300  20170426000922   \n",
       "3       2813396  510140   4256   07/25/2016    1069300  20160802000964   \n",
       "4       2899303  126320    110   10/30/2017     375000                   \n",
       "\n",
       "   PropertyType  PrincipalUse  SaleInstrument  SaleReason  ...  Bedrooms  \\\n",
       "0             3             6               3           1  ...       4.0   \n",
       "1             2             6               3           1  ...       4.0   \n",
       "2             3             6              15          11  ...       5.0   \n",
       "3             2             6              15          13  ...       3.0   \n",
       "4             3             6               3           1  ...       3.0   \n",
       "\n",
       "  BathHalfCount  Bath3qtrCount  BathFullCount YrBuilt Condition  SqFtLot  \\\n",
       "0           1.0            0.0            1.0  1963.0       3.0    10534   \n",
       "1           0.0            1.0            2.0  2016.0       3.0     3813   \n",
       "2           1.0            1.0            1.0  1906.0       4.0     3420   \n",
       "3           0.0            0.0            1.0  1949.0       3.0     3520   \n",
       "4           0.0            0.0            1.0  1919.0       3.0     4760   \n",
       "\n",
       "   OtherView  TrafficNoise  OtherNuisances  \n",
       "0          0             0               N  \n",
       "1          0             0               N  \n",
       "2          0             0               N  \n",
       "3          0             0               N  \n",
       "4          0             0               N  \n",
       "\n",
       "[5 rows x 45 columns]"
      ]
     },
     "execution_count": 71,
     "metadata": {},
     "output_type": "execute_result"
    }
   ],
   "source": [
    "to_drop3 = ['Unnamed: 0.1', 'Unnamed: 0']\n",
    "housing_info.drop(to_drop3, axis=1, inplace=True)\n",
    "housing_info.head()"
   ]
  },
  {
   "cell_type": "code",
   "execution_count": 72,
   "metadata": {},
   "outputs": [
    {
     "data": {
      "text/html": [
       "<div>\n",
       "<style scoped>\n",
       "    .dataframe tbody tr th:only-of-type {\n",
       "        vertical-align: middle;\n",
       "    }\n",
       "\n",
       "    .dataframe tbody tr th {\n",
       "        vertical-align: top;\n",
       "    }\n",
       "\n",
       "    .dataframe thead th {\n",
       "        text-align: right;\n",
       "    }\n",
       "</style>\n",
       "<table border=\"1\" class=\"dataframe\">\n",
       "  <thead>\n",
       "    <tr style=\"text-align: right;\">\n",
       "      <th></th>\n",
       "      <th>ExciseTaxNbr</th>\n",
       "      <th>Major</th>\n",
       "      <th>Minor</th>\n",
       "      <th>DocumentDate</th>\n",
       "      <th>SalePrice</th>\n",
       "      <th>RecordingNbr</th>\n",
       "      <th>PropertyType</th>\n",
       "      <th>PrincipalUse</th>\n",
       "      <th>BldgNbr</th>\n",
       "      <th>NbrLivingUnits</th>\n",
       "      <th>...</th>\n",
       "      <th>Bedrooms</th>\n",
       "      <th>BathHalfCount</th>\n",
       "      <th>Bath3qtrCount</th>\n",
       "      <th>BathFullCount</th>\n",
       "      <th>YrBuilt</th>\n",
       "      <th>Condition</th>\n",
       "      <th>SqFtLot</th>\n",
       "      <th>OtherView</th>\n",
       "      <th>TrafficNoise</th>\n",
       "      <th>OtherNuisances</th>\n",
       "    </tr>\n",
       "  </thead>\n",
       "  <tbody>\n",
       "    <tr>\n",
       "      <th>0</th>\n",
       "      <td>2743355</td>\n",
       "      <td>638580</td>\n",
       "      <td>110</td>\n",
       "      <td>07/14/2015</td>\n",
       "      <td>190000</td>\n",
       "      <td>20150715002686</td>\n",
       "      <td>3</td>\n",
       "      <td>6</td>\n",
       "      <td>1.0</td>\n",
       "      <td>1.0</td>\n",
       "      <td>...</td>\n",
       "      <td>4.0</td>\n",
       "      <td>1.0</td>\n",
       "      <td>0.0</td>\n",
       "      <td>1.0</td>\n",
       "      <td>1963.0</td>\n",
       "      <td>3.0</td>\n",
       "      <td>10534</td>\n",
       "      <td>0</td>\n",
       "      <td>0</td>\n",
       "      <td>N</td>\n",
       "    </tr>\n",
       "    <tr>\n",
       "      <th>1</th>\n",
       "      <td>2841697</td>\n",
       "      <td>894677</td>\n",
       "      <td>240</td>\n",
       "      <td>12/21/2016</td>\n",
       "      <td>818161</td>\n",
       "      <td>20161228000896</td>\n",
       "      <td>2</td>\n",
       "      <td>6</td>\n",
       "      <td>1.0</td>\n",
       "      <td>1.0</td>\n",
       "      <td>...</td>\n",
       "      <td>4.0</td>\n",
       "      <td>0.0</td>\n",
       "      <td>1.0</td>\n",
       "      <td>2.0</td>\n",
       "      <td>2016.0</td>\n",
       "      <td>3.0</td>\n",
       "      <td>3813</td>\n",
       "      <td>0</td>\n",
       "      <td>0</td>\n",
       "      <td>N</td>\n",
       "    </tr>\n",
       "    <tr>\n",
       "      <th>2</th>\n",
       "      <td>2860712</td>\n",
       "      <td>408330</td>\n",
       "      <td>4150</td>\n",
       "      <td>03/15/2017</td>\n",
       "      <td>1069300</td>\n",
       "      <td>20170426000922</td>\n",
       "      <td>3</td>\n",
       "      <td>6</td>\n",
       "      <td>1.0</td>\n",
       "      <td>1.0</td>\n",
       "      <td>...</td>\n",
       "      <td>5.0</td>\n",
       "      <td>1.0</td>\n",
       "      <td>1.0</td>\n",
       "      <td>1.0</td>\n",
       "      <td>1906.0</td>\n",
       "      <td>4.0</td>\n",
       "      <td>3420</td>\n",
       "      <td>0</td>\n",
       "      <td>0</td>\n",
       "      <td>N</td>\n",
       "    </tr>\n",
       "    <tr>\n",
       "      <th>3</th>\n",
       "      <td>2813396</td>\n",
       "      <td>510140</td>\n",
       "      <td>4256</td>\n",
       "      <td>07/25/2016</td>\n",
       "      <td>1069300</td>\n",
       "      <td>20160802000964</td>\n",
       "      <td>2</td>\n",
       "      <td>6</td>\n",
       "      <td>1.0</td>\n",
       "      <td>1.0</td>\n",
       "      <td>...</td>\n",
       "      <td>3.0</td>\n",
       "      <td>0.0</td>\n",
       "      <td>0.0</td>\n",
       "      <td>1.0</td>\n",
       "      <td>1949.0</td>\n",
       "      <td>3.0</td>\n",
       "      <td>3520</td>\n",
       "      <td>0</td>\n",
       "      <td>0</td>\n",
       "      <td>N</td>\n",
       "    </tr>\n",
       "    <tr>\n",
       "      <th>4</th>\n",
       "      <td>2899303</td>\n",
       "      <td>126320</td>\n",
       "      <td>110</td>\n",
       "      <td>10/30/2017</td>\n",
       "      <td>375000</td>\n",
       "      <td></td>\n",
       "      <td>3</td>\n",
       "      <td>6</td>\n",
       "      <td>1.0</td>\n",
       "      <td>1.0</td>\n",
       "      <td>...</td>\n",
       "      <td>3.0</td>\n",
       "      <td>0.0</td>\n",
       "      <td>0.0</td>\n",
       "      <td>1.0</td>\n",
       "      <td>1919.0</td>\n",
       "      <td>3.0</td>\n",
       "      <td>4760</td>\n",
       "      <td>0</td>\n",
       "      <td>0</td>\n",
       "      <td>N</td>\n",
       "    </tr>\n",
       "  </tbody>\n",
       "</table>\n",
       "<p>5 rows × 41 columns</p>\n",
       "</div>"
      ],
      "text/plain": [
       "   ExciseTaxNbr   Major  Minor DocumentDate  SalePrice    RecordingNbr  \\\n",
       "0       2743355  638580    110   07/14/2015     190000  20150715002686   \n",
       "1       2841697  894677    240   12/21/2016     818161  20161228000896   \n",
       "2       2860712  408330   4150   03/15/2017    1069300  20170426000922   \n",
       "3       2813396  510140   4256   07/25/2016    1069300  20160802000964   \n",
       "4       2899303  126320    110   10/30/2017     375000                   \n",
       "\n",
       "   PropertyType  PrincipalUse  BldgNbr  NbrLivingUnits  ... Bedrooms  \\\n",
       "0             3             6      1.0             1.0  ...      4.0   \n",
       "1             2             6      1.0             1.0  ...      4.0   \n",
       "2             3             6      1.0             1.0  ...      5.0   \n",
       "3             2             6      1.0             1.0  ...      3.0   \n",
       "4             3             6      1.0             1.0  ...      3.0   \n",
       "\n",
       "  BathHalfCount  Bath3qtrCount  BathFullCount  YrBuilt  Condition  SqFtLot  \\\n",
       "0           1.0            0.0            1.0   1963.0        3.0    10534   \n",
       "1           0.0            1.0            2.0   2016.0        3.0     3813   \n",
       "2           1.0            1.0            1.0   1906.0        4.0     3420   \n",
       "3           0.0            0.0            1.0   1949.0        3.0     3520   \n",
       "4           0.0            0.0            1.0   1919.0        3.0     4760   \n",
       "\n",
       "   OtherView  TrafficNoise  OtherNuisances  \n",
       "0          0             0               N  \n",
       "1          0             0               N  \n",
       "2          0             0               N  \n",
       "3          0             0               N  \n",
       "4          0             0               N  \n",
       "\n",
       "[5 rows x 41 columns]"
      ]
     },
     "execution_count": 72,
     "metadata": {},
     "output_type": "execute_result"
    }
   ],
   "source": [
    "to_drop2 = ['SaleInstrument', 'SaleReason', 'PropertyClass', 'SaleWarning']\n",
    "housing_info.drop(to_drop2, axis=1, inplace=True)\n",
    "housing_info.head()"
   ]
  },
  {
   "cell_type": "code",
   "execution_count": 58,
   "metadata": {
    "scrolled": false
   },
   "outputs": [
    {
     "data": {
      "text/html": [
       "<div>\n",
       "<style scoped>\n",
       "    .dataframe tbody tr th:only-of-type {\n",
       "        vertical-align: middle;\n",
       "    }\n",
       "\n",
       "    .dataframe tbody tr th {\n",
       "        vertical-align: top;\n",
       "    }\n",
       "\n",
       "    .dataframe thead th {\n",
       "        text-align: right;\n",
       "    }\n",
       "</style>\n",
       "<table border=\"1\" class=\"dataframe\">\n",
       "  <thead>\n",
       "    <tr style=\"text-align: right;\">\n",
       "      <th></th>\n",
       "      <th>Unnamed: 0</th>\n",
       "      <th>ExciseTaxNbr</th>\n",
       "      <th>Major</th>\n",
       "      <th>Minor</th>\n",
       "      <th>DocumentDate</th>\n",
       "      <th>SalePrice</th>\n",
       "      <th>RecordingNbr</th>\n",
       "      <th>PropertyType</th>\n",
       "      <th>PrincipalUse</th>\n",
       "      <th>SaleInstrument</th>\n",
       "      <th>...</th>\n",
       "      <th>Bedrooms</th>\n",
       "      <th>BathHalfCount</th>\n",
       "      <th>Bath3qtrCount</th>\n",
       "      <th>BathFullCount</th>\n",
       "      <th>YrBuilt</th>\n",
       "      <th>Condition</th>\n",
       "      <th>SqFtLot</th>\n",
       "      <th>OtherView</th>\n",
       "      <th>TrafficNoise</th>\n",
       "      <th>OtherNuisances</th>\n",
       "    </tr>\n",
       "  </thead>\n",
       "  <tbody>\n",
       "    <tr>\n",
       "      <th>0</th>\n",
       "      <td>1</td>\n",
       "      <td>2743355</td>\n",
       "      <td>638580</td>\n",
       "      <td>110</td>\n",
       "      <td>07/14/2015</td>\n",
       "      <td>190000</td>\n",
       "      <td>20150715002686</td>\n",
       "      <td>3</td>\n",
       "      <td>6</td>\n",
       "      <td>3</td>\n",
       "      <td>...</td>\n",
       "      <td>4.0</td>\n",
       "      <td>1.0</td>\n",
       "      <td>0.0</td>\n",
       "      <td>1.0</td>\n",
       "      <td>1963.0</td>\n",
       "      <td>3.0</td>\n",
       "      <td>10534</td>\n",
       "      <td>0</td>\n",
       "      <td>0</td>\n",
       "      <td>N</td>\n",
       "    </tr>\n",
       "    <tr>\n",
       "      <th>1</th>\n",
       "      <td>3</td>\n",
       "      <td>2841697</td>\n",
       "      <td>894677</td>\n",
       "      <td>240</td>\n",
       "      <td>12/21/2016</td>\n",
       "      <td>818161</td>\n",
       "      <td>20161228000896</td>\n",
       "      <td>2</td>\n",
       "      <td>6</td>\n",
       "      <td>3</td>\n",
       "      <td>...</td>\n",
       "      <td>4.0</td>\n",
       "      <td>0.0</td>\n",
       "      <td>1.0</td>\n",
       "      <td>2.0</td>\n",
       "      <td>2016.0</td>\n",
       "      <td>3.0</td>\n",
       "      <td>3813</td>\n",
       "      <td>0</td>\n",
       "      <td>0</td>\n",
       "      <td>N</td>\n",
       "    </tr>\n",
       "    <tr>\n",
       "      <th>2</th>\n",
       "      <td>5</td>\n",
       "      <td>2860712</td>\n",
       "      <td>408330</td>\n",
       "      <td>4150</td>\n",
       "      <td>03/15/2017</td>\n",
       "      <td>1069300</td>\n",
       "      <td>20170426000922</td>\n",
       "      <td>3</td>\n",
       "      <td>6</td>\n",
       "      <td>15</td>\n",
       "      <td>...</td>\n",
       "      <td>5.0</td>\n",
       "      <td>1.0</td>\n",
       "      <td>1.0</td>\n",
       "      <td>1.0</td>\n",
       "      <td>1906.0</td>\n",
       "      <td>4.0</td>\n",
       "      <td>3420</td>\n",
       "      <td>0</td>\n",
       "      <td>0</td>\n",
       "      <td>N</td>\n",
       "    </tr>\n",
       "    <tr>\n",
       "      <th>3</th>\n",
       "      <td>6</td>\n",
       "      <td>2813396</td>\n",
       "      <td>510140</td>\n",
       "      <td>4256</td>\n",
       "      <td>07/25/2016</td>\n",
       "      <td>1069300</td>\n",
       "      <td>20160802000964</td>\n",
       "      <td>2</td>\n",
       "      <td>6</td>\n",
       "      <td>15</td>\n",
       "      <td>...</td>\n",
       "      <td>3.0</td>\n",
       "      <td>0.0</td>\n",
       "      <td>0.0</td>\n",
       "      <td>1.0</td>\n",
       "      <td>1949.0</td>\n",
       "      <td>3.0</td>\n",
       "      <td>3520</td>\n",
       "      <td>0</td>\n",
       "      <td>0</td>\n",
       "      <td>N</td>\n",
       "    </tr>\n",
       "    <tr>\n",
       "      <th>4</th>\n",
       "      <td>7</td>\n",
       "      <td>2899303</td>\n",
       "      <td>126320</td>\n",
       "      <td>110</td>\n",
       "      <td>10/30/2017</td>\n",
       "      <td>375000</td>\n",
       "      <td></td>\n",
       "      <td>3</td>\n",
       "      <td>6</td>\n",
       "      <td>3</td>\n",
       "      <td>...</td>\n",
       "      <td>3.0</td>\n",
       "      <td>0.0</td>\n",
       "      <td>0.0</td>\n",
       "      <td>1.0</td>\n",
       "      <td>1919.0</td>\n",
       "      <td>3.0</td>\n",
       "      <td>4760</td>\n",
       "      <td>0</td>\n",
       "      <td>0</td>\n",
       "      <td>N</td>\n",
       "    </tr>\n",
       "  </tbody>\n",
       "</table>\n",
       "<p>5 rows × 46 columns</p>\n",
       "</div>"
      ],
      "text/plain": [
       "   Unnamed: 0  ExciseTaxNbr   Major  Minor DocumentDate  SalePrice  \\\n",
       "0           1       2743355  638580    110   07/14/2015     190000   \n",
       "1           3       2841697  894677    240   12/21/2016     818161   \n",
       "2           5       2860712  408330   4150   03/15/2017    1069300   \n",
       "3           6       2813396  510140   4256   07/25/2016    1069300   \n",
       "4           7       2899303  126320    110   10/30/2017     375000   \n",
       "\n",
       "     RecordingNbr  PropertyType  PrincipalUse  SaleInstrument  ...  Bedrooms  \\\n",
       "0  20150715002686             3             6               3  ...       4.0   \n",
       "1  20161228000896             2             6               3  ...       4.0   \n",
       "2  20170426000922             3             6              15  ...       5.0   \n",
       "3  20160802000964             2             6              15  ...       3.0   \n",
       "4                             3             6               3  ...       3.0   \n",
       "\n",
       "   BathHalfCount Bath3qtrCount  BathFullCount  YrBuilt Condition SqFtLot  \\\n",
       "0            1.0           0.0            1.0   1963.0       3.0   10534   \n",
       "1            0.0           1.0            2.0   2016.0       3.0    3813   \n",
       "2            1.0           1.0            1.0   1906.0       4.0    3420   \n",
       "3            0.0           0.0            1.0   1949.0       3.0    3520   \n",
       "4            0.0           0.0            1.0   1919.0       3.0    4760   \n",
       "\n",
       "   OtherView  TrafficNoise  OtherNuisances  \n",
       "0          0             0               N  \n",
       "1          0             0               N  \n",
       "2          0             0               N  \n",
       "3          0             0               N  \n",
       "4          0             0               N  \n",
       "\n",
       "[5 rows x 46 columns]"
      ]
     },
     "execution_count": 58,
     "metadata": {},
     "output_type": "execute_result"
    }
   ],
   "source": [
    "housing_info = pd.merge(housing_sales, parcel_info,  how='left', left_on=['Major','Minor'], right_on = ['Major','Minor'])\n",
    "housing_info.head()"
   ]
  },
  {
   "cell_type": "code",
   "execution_count": 66,
   "metadata": {},
   "outputs": [
    {
     "name": "stdout",
     "output_type": "stream",
     "text": [
      "<class 'pandas.core.frame.DataFrame'>\n",
      "RangeIndex: 246655 entries, 0 to 246654\n",
      "Data columns (total 45 columns):\n",
      " #   Column              Non-Null Count   Dtype  \n",
      "---  ------              --------------   -----  \n",
      " 0   ExciseTaxNbr        246655 non-null  int64  \n",
      " 1   Major               246655 non-null  int64  \n",
      " 2   Minor               246655 non-null  int64  \n",
      " 3   DocumentDate        246655 non-null  object \n",
      " 4   SalePrice           246655 non-null  int64  \n",
      " 5   RecordingNbr        246655 non-null  object \n",
      " 6   PropertyType        246655 non-null  int64  \n",
      " 7   PrincipalUse        246655 non-null  int64  \n",
      " 8   SaleInstrument      246655 non-null  int64  \n",
      " 9   SaleReason          246655 non-null  int64  \n",
      " 10  PropertyClass       246655 non-null  int64  \n",
      " 11  SaleWarning         246655 non-null  object \n",
      " 12  BldgNbr             246655 non-null  float64\n",
      " 13  NbrLivingUnits      246655 non-null  float64\n",
      " 14  Address             246655 non-null  object \n",
      " 15  BuildingNumber      246655 non-null  object \n",
      " 16  Stories             246655 non-null  float64\n",
      " 17  BldgGrade           246655 non-null  float64\n",
      " 18  SqFt1stFloor        246655 non-null  float64\n",
      " 19  SqFt2ndFloor        246655 non-null  float64\n",
      " 20  SqFtUpperFloor      246655 non-null  float64\n",
      " 21  SqFtUnfinFull       246655 non-null  float64\n",
      " 22  SqFtUnfinHalf       246655 non-null  float64\n",
      " 23  SqFtTotLiving       246655 non-null  float64\n",
      " 24  SqFtTotBasement     246655 non-null  float64\n",
      " 25  SqFtFinBasement     246655 non-null  float64\n",
      " 26  FinBasementGrade    246655 non-null  float64\n",
      " 27  SqFtGarageBasement  246655 non-null  float64\n",
      " 28  SqFtGarageAttached  246655 non-null  float64\n",
      " 29  DaylightBasement    246655 non-null  object \n",
      " 30  SqFtOpenPorch       246655 non-null  float64\n",
      " 31  SqFtEnclosedPorch   246655 non-null  float64\n",
      " 32  SqFtDeck            246655 non-null  float64\n",
      " 33  HeatSystem          246655 non-null  float64\n",
      " 34  HeatSource          246655 non-null  float64\n",
      " 35  Bedrooms            246655 non-null  float64\n",
      " 36  BathHalfCount       246655 non-null  float64\n",
      " 37  Bath3qtrCount       246655 non-null  float64\n",
      " 38  BathFullCount       246655 non-null  float64\n",
      " 39  YrBuilt             246655 non-null  float64\n",
      " 40  Condition           246655 non-null  float64\n",
      " 41  SqFtLot             246655 non-null  int64  \n",
      " 42  OtherView           246655 non-null  int64  \n",
      " 43  TrafficNoise        246655 non-null  int64  \n",
      " 44  OtherNuisances      246655 non-null  object \n",
      "dtypes: float64(26), int64(12), object(7)\n",
      "memory usage: 84.7+ MB\n"
     ]
    }
   ],
   "source": [
    "housing_info.info()"
   ]
  },
  {
   "cell_type": "code",
   "execution_count": null,
   "metadata": {},
   "outputs": [],
   "source": [
    "to_drop = ['Volume','Page','PlatNbr', 'PlatType', 'PlatLot', 'PlatBlock', 'AFForestLand','AFCurrentUseLand',\n",
    "          'AFNonProfitUse', 'AFHistoricProperty', 'SellerName', 'BuyerName']\n",
    "parcel.drop(to_drop, axis=1, inplace=True)"
   ]
  },
  {
   "cell_type": "code",
   "execution_count": 57,
   "metadata": {},
   "outputs": [
    {
     "data": {
      "text/html": [
       "<div>\n",
       "<style scoped>\n",
       "    .dataframe tbody tr th:only-of-type {\n",
       "        vertical-align: middle;\n",
       "    }\n",
       "\n",
       "    .dataframe tbody tr th {\n",
       "        vertical-align: top;\n",
       "    }\n",
       "\n",
       "    .dataframe thead th {\n",
       "        text-align: right;\n",
       "    }\n",
       "</style>\n",
       "<table border=\"1\" class=\"dataframe\">\n",
       "  <thead>\n",
       "    <tr style=\"text-align: right;\">\n",
       "      <th></th>\n",
       "      <th>Major</th>\n",
       "      <th>Minor</th>\n",
       "      <th>SqFtLot</th>\n",
       "      <th>OtherView</th>\n",
       "      <th>TrafficNoise</th>\n",
       "      <th>OtherNuisances</th>\n",
       "    </tr>\n",
       "  </thead>\n",
       "  <tbody>\n",
       "    <tr>\n",
       "      <th>0</th>\n",
       "      <td>807841</td>\n",
       "      <td>410</td>\n",
       "      <td>7424</td>\n",
       "      <td>0</td>\n",
       "      <td>0</td>\n",
       "      <td>N</td>\n",
       "    </tr>\n",
       "    <tr>\n",
       "      <th>1</th>\n",
       "      <td>755080</td>\n",
       "      <td>15</td>\n",
       "      <td>5000</td>\n",
       "      <td>0</td>\n",
       "      <td>0</td>\n",
       "      <td>N</td>\n",
       "    </tr>\n",
       "    <tr>\n",
       "      <th>2</th>\n",
       "      <td>888600</td>\n",
       "      <td>135</td>\n",
       "      <td>277041</td>\n",
       "      <td>0</td>\n",
       "      <td>0</td>\n",
       "      <td>N</td>\n",
       "    </tr>\n",
       "    <tr>\n",
       "      <th>3</th>\n",
       "      <td>22603</td>\n",
       "      <td>9181</td>\n",
       "      <td>10560</td>\n",
       "      <td>0</td>\n",
       "      <td>0</td>\n",
       "      <td>N</td>\n",
       "    </tr>\n",
       "    <tr>\n",
       "      <th>4</th>\n",
       "      <td>229670</td>\n",
       "      <td>160</td>\n",
       "      <td>9853</td>\n",
       "      <td>0</td>\n",
       "      <td>0</td>\n",
       "      <td>N</td>\n",
       "    </tr>\n",
       "  </tbody>\n",
       "</table>\n",
       "</div>"
      ],
      "text/plain": [
       "    Major  Minor  SqFtLot  OtherView  TrafficNoise OtherNuisances\n",
       "0  807841    410     7424          0             0              N\n",
       "1  755080     15     5000          0             0              N\n",
       "2  888600    135   277041          0             0              N\n",
       "3   22603   9181    10560          0             0              N\n",
       "4  229670    160     9853          0             0              N"
      ]
     },
     "execution_count": 57,
     "metadata": {},
     "output_type": "execute_result"
    }
   ],
   "source": [
    "parcel_info = parcel[['Major', 'Minor', 'SqFtLot', 'OtherView', 'TrafficNoise','OtherNuisances']]\n",
    "parcel_info.head()"
   ]
  },
  {
   "cell_type": "code",
   "execution_count": 56,
   "metadata": {},
   "outputs": [
    {
     "data": {
      "text/plain": [
       "0    204026\n",
       "2       907\n",
       "3       221\n",
       "4        45\n",
       "Name: OtherView, dtype: int64"
      ]
     },
     "execution_count": 56,
     "metadata": {},
     "output_type": "execute_result"
    }
   ],
   "source": [
    "parcel['OtherView'].value_counts()"
   ]
  },
  {
   "cell_type": "code",
   "execution_count": 47,
   "metadata": {},
   "outputs": [
    {
     "name": "stdout",
     "output_type": "stream",
     "text": [
      "<class 'pandas.core.frame.DataFrame'>\n",
      "RangeIndex: 205199 entries, 0 to 205198\n",
      "Data columns (total 82 columns):\n",
      " #   Column                  Non-Null Count   Dtype  \n",
      "---  ------                  --------------   -----  \n",
      " 0   Unnamed: 0              205199 non-null  int64  \n",
      " 1   Major                   205199 non-null  int64  \n",
      " 2   Minor                   205199 non-null  int64  \n",
      " 3   PropName                196088 non-null  object \n",
      " 4   PlatName                176654 non-null  object \n",
      " 5   PlatLot                 205199 non-null  object \n",
      " 6   PlatBlock               205199 non-null  object \n",
      " 7   Range                   205199 non-null  int64  \n",
      " 8   Township                205199 non-null  int64  \n",
      " 9   Section                 205199 non-null  int64  \n",
      " 10  QuarterSection          205199 non-null  object \n",
      " 11  PropType                205199 non-null  object \n",
      " 12  Area                    205193 non-null  float64\n",
      " 13  SubArea                 205193 non-null  float64\n",
      " 14  SpecArea                4864 non-null    float64\n",
      " 15  SpecSubArea             4864 non-null    float64\n",
      " 16  DistrictName            205199 non-null  object \n",
      " 17  LevyCode                205199 non-null  int64  \n",
      " 18  CurrentZoning           205199 non-null  object \n",
      " 19  HBUAsIfVacant           205199 non-null  int64  \n",
      " 20  HBUAsImproved           205199 non-null  int64  \n",
      " 21  PresentUse              205199 non-null  int64  \n",
      " 22  SqFtLot                 205199 non-null  int64  \n",
      " 23  WaterSystem             205199 non-null  int64  \n",
      " 24  SewerSystem             205199 non-null  int64  \n",
      " 25  Access                  205199 non-null  int64  \n",
      " 26  Topography              205199 non-null  int64  \n",
      " 27  StreetSurface           205199 non-null  int64  \n",
      " 28  RestrictiveSzShape      205199 non-null  int64  \n",
      " 29  InadequateParking       205199 non-null  int64  \n",
      " 30  PcntUnusable            205199 non-null  int64  \n",
      " 31  Unbuildable             205199 non-null  bool   \n",
      " 32  MtRainier               205199 non-null  int64  \n",
      " 33  Olympics                205199 non-null  int64  \n",
      " 34  Cascades                205199 non-null  int64  \n",
      " 35  Territorial             205199 non-null  int64  \n",
      " 36  SeattleSkyline          205199 non-null  int64  \n",
      " 37  PugetSound              205199 non-null  int64  \n",
      " 38  LakeWashington          205199 non-null  int64  \n",
      " 39  LakeSammamish           205199 non-null  int64  \n",
      " 40  SmallLakeRiverCreek     205199 non-null  int64  \n",
      " 41  OtherView               205199 non-null  int64  \n",
      " 42  WfntLocation            205199 non-null  int64  \n",
      " 43  WfntFootage             205199 non-null  int64  \n",
      " 44  WfntBank                205199 non-null  int64  \n",
      " 45  WfntPoorQuality         205199 non-null  int64  \n",
      " 46  WfntRestrictedAccess    205199 non-null  int64  \n",
      " 47  WfntAccessRights        205199 non-null  object \n",
      " 48  WfntProximityInfluence  205199 non-null  object \n",
      " 49  TidelandShoreland       205199 non-null  int64  \n",
      " 50  LotDepthFactor          205199 non-null  int64  \n",
      " 51  TrafficNoise            205199 non-null  int64  \n",
      " 52  AirportNoise            205199 non-null  int64  \n",
      " 53  PowerLines              205199 non-null  object \n",
      " 54  OtherNuisances          205199 non-null  object \n",
      " 55  NbrBldgSites            205199 non-null  int64  \n",
      " 56  Contamination           205199 non-null  int64  \n",
      " 57  DNRLease                205199 non-null  object \n",
      " 58  AdjacentGolfFairway     205199 non-null  object \n",
      " 59  AdjacentGreenbelt       205199 non-null  object \n",
      " 60  HistoricSite            205199 non-null  int64  \n",
      " 61  CurrentUseDesignation   205199 non-null  int64  \n",
      " 62  NativeGrowthProtEsmt    205199 non-null  object \n",
      " 63  Easements               205199 non-null  object \n",
      " 64  OtherDesignation        205199 non-null  object \n",
      " 65  DeedRestrictions        205199 non-null  object \n",
      " 66  DevelopmentRightsPurch  205199 non-null  object \n",
      " 67  CoalMineHazard          205199 non-null  object \n",
      " 68  CriticalDrainage        205199 non-null  object \n",
      " 69  ErosionHazard           205199 non-null  object \n",
      " 70  LandfillBuffer          205199 non-null  object \n",
      " 71  HundredYrFloodPlain     205199 non-null  object \n",
      " 72  SeismicHazard           205199 non-null  object \n",
      " 73  LandslideHazard         205199 non-null  object \n",
      " 74  SteepSlopeHazard        205199 non-null  object \n",
      " 75  Stream                  205199 non-null  object \n",
      " 76  Wetland                 205199 non-null  object \n",
      " 77  SpeciesOfConcern        205199 non-null  object \n",
      " 78  SensitiveAreaTract      205199 non-null  object \n",
      " 79  WaterProblems           205199 non-null  object \n",
      " 80  TranspConcurrency       205199 non-null  object \n",
      " 81  OtherProblems           205199 non-null  object \n",
      "dtypes: bool(1), float64(4), int64(42), object(35)\n",
      "memory usage: 127.0+ MB\n"
     ]
    }
   ],
   "source": [
    "parcel = pd.read_csv('../../data/raw/EXTR_Parcel.csv')\n",
    "parcel.info()"
   ]
  },
  {
   "cell_type": "code",
   "execution_count": 17,
   "metadata": {},
   "outputs": [],
   "source": [
    "to_drop = ['Volume','Page','PlatNbr', 'PlatType', 'PlatLot', 'PlatBlock', 'AFForestLand','AFCurrentUseLand',\n",
    "          'AFNonProfitUse', 'AFHistoricProperty', 'SellerName', 'BuyerName']\n",
    "saleprices.drop(to_drop, axis=1, inplace=True)"
   ]
  },
  {
   "cell_type": "code",
   "execution_count": 30,
   "metadata": {},
   "outputs": [],
   "source": [
    "housing_data.drop(['DirectionPrefix', 'DirectionSuffix', 'ZipCode', 'Fraction', 'FpFreestanding', 'FpAdditional',\n",
    "                  'YrRenovated', 'PcntComplete', 'PcntNetCondition', 'AddnlCost','FpMultiStory', 'Obsolescence',\n",
    "                  'ViewUtilization', 'BrickStone', 'FpSingleStory','BrickStone', 'FpSingleStory',\n",
    "                   'StreetName', 'StreetType', 'BldgGradeVar', 'SqFtHalfFloor'], axis= 1, inplace=True)"
   ]
  },
  {
   "cell_type": "code",
   "execution_count": 18,
   "metadata": {},
   "outputs": [
    {
     "data": {
      "text/html": [
       "<div>\n",
       "<style scoped>\n",
       "    .dataframe tbody tr th:only-of-type {\n",
       "        vertical-align: middle;\n",
       "    }\n",
       "\n",
       "    .dataframe tbody tr th {\n",
       "        vertical-align: top;\n",
       "    }\n",
       "\n",
       "    .dataframe thead th {\n",
       "        text-align: right;\n",
       "    }\n",
       "</style>\n",
       "<table border=\"1\" class=\"dataframe\">\n",
       "  <thead>\n",
       "    <tr style=\"text-align: right;\">\n",
       "      <th></th>\n",
       "      <th>ExciseTaxNbr</th>\n",
       "      <th>Major</th>\n",
       "      <th>Minor</th>\n",
       "      <th>DocumentDate</th>\n",
       "      <th>SalePrice</th>\n",
       "      <th>RecordingNbr</th>\n",
       "      <th>PropertyType</th>\n",
       "      <th>PrincipalUse</th>\n",
       "      <th>SaleInstrument</th>\n",
       "      <th>SaleReason</th>\n",
       "      <th>PropertyClass</th>\n",
       "      <th>SaleWarning</th>\n",
       "    </tr>\n",
       "  </thead>\n",
       "  <tbody>\n",
       "    <tr>\n",
       "      <th>0</th>\n",
       "      <td>2857854</td>\n",
       "      <td>198920</td>\n",
       "      <td>1430</td>\n",
       "      <td>03/28/2017</td>\n",
       "      <td>0</td>\n",
       "      <td>20170410000541</td>\n",
       "      <td>3</td>\n",
       "      <td>7</td>\n",
       "      <td>15</td>\n",
       "      <td>16</td>\n",
       "      <td>2</td>\n",
       "      <td>20 31</td>\n",
       "    </tr>\n",
       "    <tr>\n",
       "      <th>1</th>\n",
       "      <td>2743355</td>\n",
       "      <td>638580</td>\n",
       "      <td>110</td>\n",
       "      <td>07/14/2015</td>\n",
       "      <td>190000</td>\n",
       "      <td>20150715002686</td>\n",
       "      <td>3</td>\n",
       "      <td>6</td>\n",
       "      <td>3</td>\n",
       "      <td>1</td>\n",
       "      <td>8</td>\n",
       "      <td>15</td>\n",
       "    </tr>\n",
       "    <tr>\n",
       "      <th>2</th>\n",
       "      <td>2999169</td>\n",
       "      <td>919715</td>\n",
       "      <td>200</td>\n",
       "      <td>07/08/2019</td>\n",
       "      <td>192000</td>\n",
       "      <td>20190712001080</td>\n",
       "      <td>3</td>\n",
       "      <td>2</td>\n",
       "      <td>3</td>\n",
       "      <td>1</td>\n",
       "      <td>3</td>\n",
       "      <td></td>\n",
       "    </tr>\n",
       "    <tr>\n",
       "      <th>3</th>\n",
       "      <td>2841697</td>\n",
       "      <td>894677</td>\n",
       "      <td>240</td>\n",
       "      <td>12/21/2016</td>\n",
       "      <td>818161</td>\n",
       "      <td>20161228000896</td>\n",
       "      <td>2</td>\n",
       "      <td>6</td>\n",
       "      <td>3</td>\n",
       "      <td>1</td>\n",
       "      <td>8</td>\n",
       "      <td></td>\n",
       "    </tr>\n",
       "    <tr>\n",
       "      <th>4</th>\n",
       "      <td>2826129</td>\n",
       "      <td>445872</td>\n",
       "      <td>260</td>\n",
       "      <td>10/03/2016</td>\n",
       "      <td>0</td>\n",
       "      <td>20161004000511</td>\n",
       "      <td>3</td>\n",
       "      <td>2</td>\n",
       "      <td>15</td>\n",
       "      <td>18</td>\n",
       "      <td>3</td>\n",
       "      <td>18 31</td>\n",
       "    </tr>\n",
       "  </tbody>\n",
       "</table>\n",
       "</div>"
      ],
      "text/plain": [
       "   ExciseTaxNbr   Major  Minor DocumentDate  SalePrice    RecordingNbr  \\\n",
       "0       2857854  198920   1430   03/28/2017          0  20170410000541   \n",
       "1       2743355  638580    110   07/14/2015     190000  20150715002686   \n",
       "2       2999169  919715    200   07/08/2019     192000  20190712001080   \n",
       "3       2841697  894677    240   12/21/2016     818161  20161228000896   \n",
       "4       2826129  445872    260   10/03/2016          0  20161004000511   \n",
       "\n",
       "   PropertyType  PrincipalUse  SaleInstrument  SaleReason  PropertyClass  \\\n",
       "0             3             7              15          16              2   \n",
       "1             3             6               3           1              8   \n",
       "2             3             2               3           1              3   \n",
       "3             2             6               3           1              8   \n",
       "4             3             2              15          18              3   \n",
       "\n",
       "  SaleWarning  \n",
       "0       20 31  \n",
       "1          15  \n",
       "2              \n",
       "3              \n",
       "4       18 31  "
      ]
     },
     "execution_count": 18,
     "metadata": {},
     "output_type": "execute_result"
    }
   ],
   "source": [
    "saleprices.head()"
   ]
  },
  {
   "cell_type": "code",
   "execution_count": 20,
   "metadata": {},
   "outputs": [],
   "source": [
    "saleprices['SalePrice']=saleprices['SalePrice'].replace(0,saleprices['SalePrice'].mean())"
   ]
  },
  {
   "cell_type": "code",
   "execution_count": 21,
   "metadata": {},
   "outputs": [
    {
     "data": {
      "text/html": [
       "<div>\n",
       "<style scoped>\n",
       "    .dataframe tbody tr th:only-of-type {\n",
       "        vertical-align: middle;\n",
       "    }\n",
       "\n",
       "    .dataframe tbody tr th {\n",
       "        vertical-align: top;\n",
       "    }\n",
       "\n",
       "    .dataframe thead th {\n",
       "        text-align: right;\n",
       "    }\n",
       "</style>\n",
       "<table border=\"1\" class=\"dataframe\">\n",
       "  <thead>\n",
       "    <tr style=\"text-align: right;\">\n",
       "      <th></th>\n",
       "      <th>ExciseTaxNbr</th>\n",
       "      <th>Major</th>\n",
       "      <th>Minor</th>\n",
       "      <th>DocumentDate</th>\n",
       "      <th>SalePrice</th>\n",
       "      <th>RecordingNbr</th>\n",
       "      <th>PropertyType</th>\n",
       "      <th>PrincipalUse</th>\n",
       "      <th>SaleInstrument</th>\n",
       "      <th>SaleReason</th>\n",
       "      <th>PropertyClass</th>\n",
       "      <th>SaleWarning</th>\n",
       "    </tr>\n",
       "  </thead>\n",
       "  <tbody>\n",
       "    <tr>\n",
       "      <th>0</th>\n",
       "      <td>2857854</td>\n",
       "      <td>198920</td>\n",
       "      <td>1430</td>\n",
       "      <td>03/28/2017</td>\n",
       "      <td>1.069300e+06</td>\n",
       "      <td>20170410000541</td>\n",
       "      <td>3</td>\n",
       "      <td>7</td>\n",
       "      <td>15</td>\n",
       "      <td>16</td>\n",
       "      <td>2</td>\n",
       "      <td>20 31</td>\n",
       "    </tr>\n",
       "    <tr>\n",
       "      <th>1</th>\n",
       "      <td>2743355</td>\n",
       "      <td>638580</td>\n",
       "      <td>110</td>\n",
       "      <td>07/14/2015</td>\n",
       "      <td>1.900000e+05</td>\n",
       "      <td>20150715002686</td>\n",
       "      <td>3</td>\n",
       "      <td>6</td>\n",
       "      <td>3</td>\n",
       "      <td>1</td>\n",
       "      <td>8</td>\n",
       "      <td>15</td>\n",
       "    </tr>\n",
       "    <tr>\n",
       "      <th>2</th>\n",
       "      <td>2999169</td>\n",
       "      <td>919715</td>\n",
       "      <td>200</td>\n",
       "      <td>07/08/2019</td>\n",
       "      <td>1.920000e+05</td>\n",
       "      <td>20190712001080</td>\n",
       "      <td>3</td>\n",
       "      <td>2</td>\n",
       "      <td>3</td>\n",
       "      <td>1</td>\n",
       "      <td>3</td>\n",
       "      <td></td>\n",
       "    </tr>\n",
       "    <tr>\n",
       "      <th>3</th>\n",
       "      <td>2841697</td>\n",
       "      <td>894677</td>\n",
       "      <td>240</td>\n",
       "      <td>12/21/2016</td>\n",
       "      <td>8.181610e+05</td>\n",
       "      <td>20161228000896</td>\n",
       "      <td>2</td>\n",
       "      <td>6</td>\n",
       "      <td>3</td>\n",
       "      <td>1</td>\n",
       "      <td>8</td>\n",
       "      <td></td>\n",
       "    </tr>\n",
       "    <tr>\n",
       "      <th>4</th>\n",
       "      <td>2826129</td>\n",
       "      <td>445872</td>\n",
       "      <td>260</td>\n",
       "      <td>10/03/2016</td>\n",
       "      <td>1.069300e+06</td>\n",
       "      <td>20161004000511</td>\n",
       "      <td>3</td>\n",
       "      <td>2</td>\n",
       "      <td>15</td>\n",
       "      <td>18</td>\n",
       "      <td>3</td>\n",
       "      <td>18 31</td>\n",
       "    </tr>\n",
       "  </tbody>\n",
       "</table>\n",
       "</div>"
      ],
      "text/plain": [
       "   ExciseTaxNbr   Major  Minor DocumentDate     SalePrice    RecordingNbr  \\\n",
       "0       2857854  198920   1430   03/28/2017  1.069300e+06  20170410000541   \n",
       "1       2743355  638580    110   07/14/2015  1.900000e+05  20150715002686   \n",
       "2       2999169  919715    200   07/08/2019  1.920000e+05  20190712001080   \n",
       "3       2841697  894677    240   12/21/2016  8.181610e+05  20161228000896   \n",
       "4       2826129  445872    260   10/03/2016  1.069300e+06  20161004000511   \n",
       "\n",
       "   PropertyType  PrincipalUse  SaleInstrument  SaleReason  PropertyClass  \\\n",
       "0             3             7              15          16              2   \n",
       "1             3             6               3           1              8   \n",
       "2             3             2               3           1              3   \n",
       "3             2             6               3           1              8   \n",
       "4             3             2              15          18              3   \n",
       "\n",
       "  SaleWarning  \n",
       "0       20 31  \n",
       "1          15  \n",
       "2              \n",
       "3              \n",
       "4       18 31  "
      ]
     },
     "execution_count": 21,
     "metadata": {},
     "output_type": "execute_result"
    }
   ],
   "source": [
    "saleprices.head()"
   ]
  },
  {
   "cell_type": "code",
   "execution_count": 22,
   "metadata": {},
   "outputs": [
    {
     "data": {
      "text/html": [
       "<div>\n",
       "<style scoped>\n",
       "    .dataframe tbody tr th:only-of-type {\n",
       "        vertical-align: middle;\n",
       "    }\n",
       "\n",
       "    .dataframe tbody tr th {\n",
       "        vertical-align: top;\n",
       "    }\n",
       "\n",
       "    .dataframe thead th {\n",
       "        text-align: right;\n",
       "    }\n",
       "</style>\n",
       "<table border=\"1\" class=\"dataframe\">\n",
       "  <thead>\n",
       "    <tr style=\"text-align: right;\">\n",
       "      <th></th>\n",
       "      <th>ExciseTaxNbr</th>\n",
       "      <th>Major</th>\n",
       "      <th>Minor</th>\n",
       "      <th>DocumentDate</th>\n",
       "      <th>SalePrice</th>\n",
       "      <th>RecordingNbr</th>\n",
       "      <th>PropertyType</th>\n",
       "      <th>PrincipalUse</th>\n",
       "      <th>SaleInstrument</th>\n",
       "      <th>SaleReason</th>\n",
       "      <th>PropertyClass</th>\n",
       "      <th>SaleWarning</th>\n",
       "    </tr>\n",
       "  </thead>\n",
       "  <tbody>\n",
       "    <tr>\n",
       "      <th>0</th>\n",
       "      <td>2857854</td>\n",
       "      <td>198920</td>\n",
       "      <td>1430</td>\n",
       "      <td>03/28/2017</td>\n",
       "      <td>1069300</td>\n",
       "      <td>20170410000541</td>\n",
       "      <td>3</td>\n",
       "      <td>7</td>\n",
       "      <td>15</td>\n",
       "      <td>16</td>\n",
       "      <td>2</td>\n",
       "      <td>20 31</td>\n",
       "    </tr>\n",
       "    <tr>\n",
       "      <th>1</th>\n",
       "      <td>2743355</td>\n",
       "      <td>638580</td>\n",
       "      <td>110</td>\n",
       "      <td>07/14/2015</td>\n",
       "      <td>190000</td>\n",
       "      <td>20150715002686</td>\n",
       "      <td>3</td>\n",
       "      <td>6</td>\n",
       "      <td>3</td>\n",
       "      <td>1</td>\n",
       "      <td>8</td>\n",
       "      <td>15</td>\n",
       "    </tr>\n",
       "    <tr>\n",
       "      <th>2</th>\n",
       "      <td>2999169</td>\n",
       "      <td>919715</td>\n",
       "      <td>200</td>\n",
       "      <td>07/08/2019</td>\n",
       "      <td>192000</td>\n",
       "      <td>20190712001080</td>\n",
       "      <td>3</td>\n",
       "      <td>2</td>\n",
       "      <td>3</td>\n",
       "      <td>1</td>\n",
       "      <td>3</td>\n",
       "      <td></td>\n",
       "    </tr>\n",
       "    <tr>\n",
       "      <th>3</th>\n",
       "      <td>2841697</td>\n",
       "      <td>894677</td>\n",
       "      <td>240</td>\n",
       "      <td>12/21/2016</td>\n",
       "      <td>818161</td>\n",
       "      <td>20161228000896</td>\n",
       "      <td>2</td>\n",
       "      <td>6</td>\n",
       "      <td>3</td>\n",
       "      <td>1</td>\n",
       "      <td>8</td>\n",
       "      <td></td>\n",
       "    </tr>\n",
       "    <tr>\n",
       "      <th>4</th>\n",
       "      <td>2826129</td>\n",
       "      <td>445872</td>\n",
       "      <td>260</td>\n",
       "      <td>10/03/2016</td>\n",
       "      <td>1069300</td>\n",
       "      <td>20161004000511</td>\n",
       "      <td>3</td>\n",
       "      <td>2</td>\n",
       "      <td>15</td>\n",
       "      <td>18</td>\n",
       "      <td>3</td>\n",
       "      <td>18 31</td>\n",
       "    </tr>\n",
       "  </tbody>\n",
       "</table>\n",
       "</div>"
      ],
      "text/plain": [
       "   ExciseTaxNbr   Major  Minor DocumentDate  SalePrice    RecordingNbr  \\\n",
       "0       2857854  198920   1430   03/28/2017    1069300  20170410000541   \n",
       "1       2743355  638580    110   07/14/2015     190000  20150715002686   \n",
       "2       2999169  919715    200   07/08/2019     192000  20190712001080   \n",
       "3       2841697  894677    240   12/21/2016     818161  20161228000896   \n",
       "4       2826129  445872    260   10/03/2016    1069300  20161004000511   \n",
       "\n",
       "   PropertyType  PrincipalUse  SaleInstrument  SaleReason  PropertyClass  \\\n",
       "0             3             7              15          16              2   \n",
       "1             3             6               3           1              8   \n",
       "2             3             2               3           1              3   \n",
       "3             2             6               3           1              8   \n",
       "4             3             2              15          18              3   \n",
       "\n",
       "  SaleWarning  \n",
       "0       20 31  \n",
       "1          15  \n",
       "2              \n",
       "3              \n",
       "4       18 31  "
      ]
     },
     "execution_count": 22,
     "metadata": {},
     "output_type": "execute_result"
    }
   ],
   "source": [
    "saleprices['SalePrice']=saleprices['SalePrice'].astype(np.int64)\n",
    "saleprices.head()"
   ]
  },
  {
   "cell_type": "code",
   "execution_count": 31,
   "metadata": {},
   "outputs": [
    {
     "data": {
      "text/html": [
       "<div>\n",
       "<style scoped>\n",
       "    .dataframe tbody tr th:only-of-type {\n",
       "        vertical-align: middle;\n",
       "    }\n",
       "\n",
       "    .dataframe tbody tr th {\n",
       "        vertical-align: top;\n",
       "    }\n",
       "\n",
       "    .dataframe thead th {\n",
       "        text-align: right;\n",
       "    }\n",
       "</style>\n",
       "<table border=\"1\" class=\"dataframe\">\n",
       "  <thead>\n",
       "    <tr style=\"text-align: right;\">\n",
       "      <th></th>\n",
       "      <th>ExciseTaxNbr</th>\n",
       "      <th>Major</th>\n",
       "      <th>Minor</th>\n",
       "      <th>DocumentDate</th>\n",
       "      <th>SalePrice</th>\n",
       "      <th>RecordingNbr</th>\n",
       "      <th>PropertyType</th>\n",
       "      <th>PrincipalUse</th>\n",
       "      <th>SaleInstrument</th>\n",
       "      <th>SaleReason</th>\n",
       "      <th>...</th>\n",
       "      <th>SqFtEnclosedPorch</th>\n",
       "      <th>SqFtDeck</th>\n",
       "      <th>HeatSystem</th>\n",
       "      <th>HeatSource</th>\n",
       "      <th>Bedrooms</th>\n",
       "      <th>BathHalfCount</th>\n",
       "      <th>Bath3qtrCount</th>\n",
       "      <th>BathFullCount</th>\n",
       "      <th>YrBuilt</th>\n",
       "      <th>Condition</th>\n",
       "    </tr>\n",
       "  </thead>\n",
       "  <tbody>\n",
       "    <tr>\n",
       "      <th>0</th>\n",
       "      <td>2857854</td>\n",
       "      <td>198920</td>\n",
       "      <td>1430</td>\n",
       "      <td>03/28/2017</td>\n",
       "      <td>1069300</td>\n",
       "      <td>20170410000541</td>\n",
       "      <td>3</td>\n",
       "      <td>7</td>\n",
       "      <td>15</td>\n",
       "      <td>16</td>\n",
       "      <td>...</td>\n",
       "      <td>NaN</td>\n",
       "      <td>NaN</td>\n",
       "      <td>NaN</td>\n",
       "      <td>NaN</td>\n",
       "      <td>NaN</td>\n",
       "      <td>NaN</td>\n",
       "      <td>NaN</td>\n",
       "      <td>NaN</td>\n",
       "      <td>NaN</td>\n",
       "      <td>NaN</td>\n",
       "    </tr>\n",
       "    <tr>\n",
       "      <th>1</th>\n",
       "      <td>2743355</td>\n",
       "      <td>638580</td>\n",
       "      <td>110</td>\n",
       "      <td>07/14/2015</td>\n",
       "      <td>190000</td>\n",
       "      <td>20150715002686</td>\n",
       "      <td>3</td>\n",
       "      <td>6</td>\n",
       "      <td>3</td>\n",
       "      <td>1</td>\n",
       "      <td>...</td>\n",
       "      <td>0.0</td>\n",
       "      <td>300.0</td>\n",
       "      <td>5.0</td>\n",
       "      <td>2.0</td>\n",
       "      <td>4.0</td>\n",
       "      <td>1.0</td>\n",
       "      <td>0.0</td>\n",
       "      <td>1.0</td>\n",
       "      <td>1963.0</td>\n",
       "      <td>3.0</td>\n",
       "    </tr>\n",
       "    <tr>\n",
       "      <th>2</th>\n",
       "      <td>2999169</td>\n",
       "      <td>919715</td>\n",
       "      <td>200</td>\n",
       "      <td>07/08/2019</td>\n",
       "      <td>192000</td>\n",
       "      <td>20190712001080</td>\n",
       "      <td>3</td>\n",
       "      <td>2</td>\n",
       "      <td>3</td>\n",
       "      <td>1</td>\n",
       "      <td>...</td>\n",
       "      <td>NaN</td>\n",
       "      <td>NaN</td>\n",
       "      <td>NaN</td>\n",
       "      <td>NaN</td>\n",
       "      <td>NaN</td>\n",
       "      <td>NaN</td>\n",
       "      <td>NaN</td>\n",
       "      <td>NaN</td>\n",
       "      <td>NaN</td>\n",
       "      <td>NaN</td>\n",
       "    </tr>\n",
       "    <tr>\n",
       "      <th>3</th>\n",
       "      <td>2841697</td>\n",
       "      <td>894677</td>\n",
       "      <td>240</td>\n",
       "      <td>12/21/2016</td>\n",
       "      <td>818161</td>\n",
       "      <td>20161228000896</td>\n",
       "      <td>2</td>\n",
       "      <td>6</td>\n",
       "      <td>3</td>\n",
       "      <td>1</td>\n",
       "      <td>...</td>\n",
       "      <td>0.0</td>\n",
       "      <td>60.0</td>\n",
       "      <td>5.0</td>\n",
       "      <td>2.0</td>\n",
       "      <td>4.0</td>\n",
       "      <td>0.0</td>\n",
       "      <td>1.0</td>\n",
       "      <td>2.0</td>\n",
       "      <td>2016.0</td>\n",
       "      <td>3.0</td>\n",
       "    </tr>\n",
       "    <tr>\n",
       "      <th>4</th>\n",
       "      <td>2826129</td>\n",
       "      <td>445872</td>\n",
       "      <td>260</td>\n",
       "      <td>10/03/2016</td>\n",
       "      <td>1069300</td>\n",
       "      <td>20161004000511</td>\n",
       "      <td>3</td>\n",
       "      <td>2</td>\n",
       "      <td>15</td>\n",
       "      <td>18</td>\n",
       "      <td>...</td>\n",
       "      <td>NaN</td>\n",
       "      <td>NaN</td>\n",
       "      <td>NaN</td>\n",
       "      <td>NaN</td>\n",
       "      <td>NaN</td>\n",
       "      <td>NaN</td>\n",
       "      <td>NaN</td>\n",
       "      <td>NaN</td>\n",
       "      <td>NaN</td>\n",
       "      <td>NaN</td>\n",
       "    </tr>\n",
       "  </tbody>\n",
       "</table>\n",
       "<p>5 rows × 41 columns</p>\n",
       "</div>"
      ],
      "text/plain": [
       "   ExciseTaxNbr   Major  Minor DocumentDate  SalePrice    RecordingNbr  \\\n",
       "0       2857854  198920   1430   03/28/2017    1069300  20170410000541   \n",
       "1       2743355  638580    110   07/14/2015     190000  20150715002686   \n",
       "2       2999169  919715    200   07/08/2019     192000  20190712001080   \n",
       "3       2841697  894677    240   12/21/2016     818161  20161228000896   \n",
       "4       2826129  445872    260   10/03/2016    1069300  20161004000511   \n",
       "\n",
       "   PropertyType  PrincipalUse  SaleInstrument  SaleReason  ...  \\\n",
       "0             3             7              15          16  ...   \n",
       "1             3             6               3           1  ...   \n",
       "2             3             2               3           1  ...   \n",
       "3             2             6               3           1  ...   \n",
       "4             3             2              15          18  ...   \n",
       "\n",
       "   SqFtEnclosedPorch SqFtDeck  HeatSystem  HeatSource Bedrooms BathHalfCount  \\\n",
       "0                NaN      NaN         NaN         NaN      NaN           NaN   \n",
       "1                0.0    300.0         5.0         2.0      4.0           1.0   \n",
       "2                NaN      NaN         NaN         NaN      NaN           NaN   \n",
       "3                0.0     60.0         5.0         2.0      4.0           0.0   \n",
       "4                NaN      NaN         NaN         NaN      NaN           NaN   \n",
       "\n",
       "   Bath3qtrCount  BathFullCount  YrBuilt  Condition  \n",
       "0            NaN            NaN      NaN        NaN  \n",
       "1            0.0            1.0   1963.0        3.0  \n",
       "2            NaN            NaN      NaN        NaN  \n",
       "3            1.0            2.0   2016.0        3.0  \n",
       "4            NaN            NaN      NaN        NaN  \n",
       "\n",
       "[5 rows x 41 columns]"
      ]
     },
     "execution_count": 31,
     "metadata": {},
     "output_type": "execute_result"
    }
   ],
   "source": [
    "housing_sales = pd.merge(saleprices, housing_data,  how='left', left_on=['Major','Minor'], right_on = ['Major','Minor'])\n",
    "housing_sales.head()"
   ]
  },
  {
   "cell_type": "code",
   "execution_count": 32,
   "metadata": {},
   "outputs": [
    {
     "data": {
      "text/html": [
       "<div>\n",
       "<style scoped>\n",
       "    .dataframe tbody tr th:only-of-type {\n",
       "        vertical-align: middle;\n",
       "    }\n",
       "\n",
       "    .dataframe tbody tr th {\n",
       "        vertical-align: top;\n",
       "    }\n",
       "\n",
       "    .dataframe thead th {\n",
       "        text-align: right;\n",
       "    }\n",
       "</style>\n",
       "<table border=\"1\" class=\"dataframe\">\n",
       "  <thead>\n",
       "    <tr style=\"text-align: right;\">\n",
       "      <th></th>\n",
       "      <th>ExciseTaxNbr</th>\n",
       "      <th>Major</th>\n",
       "      <th>Minor</th>\n",
       "      <th>DocumentDate</th>\n",
       "      <th>SalePrice</th>\n",
       "      <th>RecordingNbr</th>\n",
       "      <th>PropertyType</th>\n",
       "      <th>PrincipalUse</th>\n",
       "      <th>SaleInstrument</th>\n",
       "      <th>SaleReason</th>\n",
       "      <th>...</th>\n",
       "      <th>SqFtEnclosedPorch</th>\n",
       "      <th>SqFtDeck</th>\n",
       "      <th>HeatSystem</th>\n",
       "      <th>HeatSource</th>\n",
       "      <th>Bedrooms</th>\n",
       "      <th>BathHalfCount</th>\n",
       "      <th>Bath3qtrCount</th>\n",
       "      <th>BathFullCount</th>\n",
       "      <th>YrBuilt</th>\n",
       "      <th>Condition</th>\n",
       "    </tr>\n",
       "  </thead>\n",
       "  <tbody>\n",
       "    <tr>\n",
       "      <th>1</th>\n",
       "      <td>2743355</td>\n",
       "      <td>638580</td>\n",
       "      <td>110</td>\n",
       "      <td>07/14/2015</td>\n",
       "      <td>190000</td>\n",
       "      <td>20150715002686</td>\n",
       "      <td>3</td>\n",
       "      <td>6</td>\n",
       "      <td>3</td>\n",
       "      <td>1</td>\n",
       "      <td>...</td>\n",
       "      <td>0.0</td>\n",
       "      <td>300.0</td>\n",
       "      <td>5.0</td>\n",
       "      <td>2.0</td>\n",
       "      <td>4.0</td>\n",
       "      <td>1.0</td>\n",
       "      <td>0.0</td>\n",
       "      <td>1.0</td>\n",
       "      <td>1963.0</td>\n",
       "      <td>3.0</td>\n",
       "    </tr>\n",
       "    <tr>\n",
       "      <th>3</th>\n",
       "      <td>2841697</td>\n",
       "      <td>894677</td>\n",
       "      <td>240</td>\n",
       "      <td>12/21/2016</td>\n",
       "      <td>818161</td>\n",
       "      <td>20161228000896</td>\n",
       "      <td>2</td>\n",
       "      <td>6</td>\n",
       "      <td>3</td>\n",
       "      <td>1</td>\n",
       "      <td>...</td>\n",
       "      <td>0.0</td>\n",
       "      <td>60.0</td>\n",
       "      <td>5.0</td>\n",
       "      <td>2.0</td>\n",
       "      <td>4.0</td>\n",
       "      <td>0.0</td>\n",
       "      <td>1.0</td>\n",
       "      <td>2.0</td>\n",
       "      <td>2016.0</td>\n",
       "      <td>3.0</td>\n",
       "    </tr>\n",
       "    <tr>\n",
       "      <th>5</th>\n",
       "      <td>2860712</td>\n",
       "      <td>408330</td>\n",
       "      <td>4150</td>\n",
       "      <td>03/15/2017</td>\n",
       "      <td>1069300</td>\n",
       "      <td>20170426000922</td>\n",
       "      <td>3</td>\n",
       "      <td>6</td>\n",
       "      <td>15</td>\n",
       "      <td>11</td>\n",
       "      <td>...</td>\n",
       "      <td>0.0</td>\n",
       "      <td>0.0</td>\n",
       "      <td>5.0</td>\n",
       "      <td>2.0</td>\n",
       "      <td>5.0</td>\n",
       "      <td>1.0</td>\n",
       "      <td>1.0</td>\n",
       "      <td>1.0</td>\n",
       "      <td>1906.0</td>\n",
       "      <td>4.0</td>\n",
       "    </tr>\n",
       "    <tr>\n",
       "      <th>6</th>\n",
       "      <td>2813396</td>\n",
       "      <td>510140</td>\n",
       "      <td>4256</td>\n",
       "      <td>07/25/2016</td>\n",
       "      <td>1069300</td>\n",
       "      <td>20160802000964</td>\n",
       "      <td>2</td>\n",
       "      <td>6</td>\n",
       "      <td>15</td>\n",
       "      <td>13</td>\n",
       "      <td>...</td>\n",
       "      <td>0.0</td>\n",
       "      <td>0.0</td>\n",
       "      <td>5.0</td>\n",
       "      <td>2.0</td>\n",
       "      <td>3.0</td>\n",
       "      <td>0.0</td>\n",
       "      <td>0.0</td>\n",
       "      <td>1.0</td>\n",
       "      <td>1949.0</td>\n",
       "      <td>3.0</td>\n",
       "    </tr>\n",
       "    <tr>\n",
       "      <th>7</th>\n",
       "      <td>2899303</td>\n",
       "      <td>126320</td>\n",
       "      <td>110</td>\n",
       "      <td>10/30/2017</td>\n",
       "      <td>375000</td>\n",
       "      <td></td>\n",
       "      <td>3</td>\n",
       "      <td>6</td>\n",
       "      <td>3</td>\n",
       "      <td>1</td>\n",
       "      <td>...</td>\n",
       "      <td>0.0</td>\n",
       "      <td>0.0</td>\n",
       "      <td>4.0</td>\n",
       "      <td>3.0</td>\n",
       "      <td>3.0</td>\n",
       "      <td>0.0</td>\n",
       "      <td>0.0</td>\n",
       "      <td>1.0</td>\n",
       "      <td>1919.0</td>\n",
       "      <td>3.0</td>\n",
       "    </tr>\n",
       "  </tbody>\n",
       "</table>\n",
       "<p>5 rows × 41 columns</p>\n",
       "</div>"
      ],
      "text/plain": [
       "   ExciseTaxNbr   Major  Minor DocumentDate  SalePrice    RecordingNbr  \\\n",
       "1       2743355  638580    110   07/14/2015     190000  20150715002686   \n",
       "3       2841697  894677    240   12/21/2016     818161  20161228000896   \n",
       "5       2860712  408330   4150   03/15/2017    1069300  20170426000922   \n",
       "6       2813396  510140   4256   07/25/2016    1069300  20160802000964   \n",
       "7       2899303  126320    110   10/30/2017     375000                   \n",
       "\n",
       "   PropertyType  PrincipalUse  SaleInstrument  SaleReason  ...  \\\n",
       "1             3             6               3           1  ...   \n",
       "3             2             6               3           1  ...   \n",
       "5             3             6              15          11  ...   \n",
       "6             2             6              15          13  ...   \n",
       "7             3             6               3           1  ...   \n",
       "\n",
       "   SqFtEnclosedPorch SqFtDeck  HeatSystem  HeatSource Bedrooms BathHalfCount  \\\n",
       "1                0.0    300.0         5.0         2.0      4.0           1.0   \n",
       "3                0.0     60.0         5.0         2.0      4.0           0.0   \n",
       "5                0.0      0.0         5.0         2.0      5.0           1.0   \n",
       "6                0.0      0.0         5.0         2.0      3.0           0.0   \n",
       "7                0.0      0.0         4.0         3.0      3.0           0.0   \n",
       "\n",
       "   Bath3qtrCount  BathFullCount  YrBuilt  Condition  \n",
       "1            0.0            1.0   1963.0        3.0  \n",
       "3            1.0            2.0   2016.0        3.0  \n",
       "5            1.0            1.0   1906.0        4.0  \n",
       "6            0.0            1.0   1949.0        3.0  \n",
       "7            0.0            1.0   1919.0        3.0  \n",
       "\n",
       "[5 rows x 41 columns]"
      ]
     },
     "execution_count": 32,
     "metadata": {},
     "output_type": "execute_result"
    }
   ],
   "source": [
    "housing_sales = housing_sales.dropna(how='any',axis=0)\n",
    "housing_sales.head()"
   ]
  },
  {
   "cell_type": "code",
   "execution_count": 33,
   "metadata": {},
   "outputs": [
    {
     "data": {
      "text/plain": [
       "251300"
      ]
     },
     "execution_count": 33,
     "metadata": {},
     "output_type": "execute_result"
    }
   ],
   "source": [
    "len(housing_sales)"
   ]
  },
  {
   "cell_type": "code",
   "execution_count": 34,
   "metadata": {
    "scrolled": true
   },
   "outputs": [
    {
     "name": "stdout",
     "output_type": "stream",
     "text": [
      "<class 'pandas.core.frame.DataFrame'>\n",
      "Int64Index: 251300 entries, 1 to 354489\n",
      "Data columns (total 41 columns):\n",
      " #   Column              Non-Null Count   Dtype  \n",
      "---  ------              --------------   -----  \n",
      " 0   ExciseTaxNbr        251300 non-null  int64  \n",
      " 1   Major               251300 non-null  int64  \n",
      " 2   Minor               251300 non-null  int64  \n",
      " 3   DocumentDate        251300 non-null  object \n",
      " 4   SalePrice           251300 non-null  int64  \n",
      " 5   RecordingNbr        251300 non-null  object \n",
      " 6   PropertyType        251300 non-null  int64  \n",
      " 7   PrincipalUse        251300 non-null  int64  \n",
      " 8   SaleInstrument      251300 non-null  int64  \n",
      " 9   SaleReason          251300 non-null  int64  \n",
      " 10  PropertyClass       251300 non-null  int64  \n",
      " 11  SaleWarning         251300 non-null  object \n",
      " 12  BldgNbr             251300 non-null  float64\n",
      " 13  NbrLivingUnits      251300 non-null  float64\n",
      " 14  Address             251300 non-null  object \n",
      " 15  BuildingNumber      251300 non-null  object \n",
      " 16  Stories             251300 non-null  float64\n",
      " 17  BldgGrade           251300 non-null  float64\n",
      " 18  SqFt1stFloor        251300 non-null  float64\n",
      " 19  SqFt2ndFloor        251300 non-null  float64\n",
      " 20  SqFtUpperFloor      251300 non-null  float64\n",
      " 21  SqFtUnfinFull       251300 non-null  float64\n",
      " 22  SqFtUnfinHalf       251300 non-null  float64\n",
      " 23  SqFtTotLiving       251300 non-null  float64\n",
      " 24  SqFtTotBasement     251300 non-null  float64\n",
      " 25  SqFtFinBasement     251300 non-null  float64\n",
      " 26  FinBasementGrade    251300 non-null  float64\n",
      " 27  SqFtGarageBasement  251300 non-null  float64\n",
      " 28  SqFtGarageAttached  251300 non-null  float64\n",
      " 29  DaylightBasement    251300 non-null  object \n",
      " 30  SqFtOpenPorch       251300 non-null  float64\n",
      " 31  SqFtEnclosedPorch   251300 non-null  float64\n",
      " 32  SqFtDeck            251300 non-null  float64\n",
      " 33  HeatSystem          251300 non-null  float64\n",
      " 34  HeatSource          251300 non-null  float64\n",
      " 35  Bedrooms            251300 non-null  float64\n",
      " 36  BathHalfCount       251300 non-null  float64\n",
      " 37  Bath3qtrCount       251300 non-null  float64\n",
      " 38  BathFullCount       251300 non-null  float64\n",
      " 39  YrBuilt             251300 non-null  float64\n",
      " 40  Condition           251300 non-null  float64\n",
      "dtypes: float64(26), int64(9), object(6)\n",
      "memory usage: 80.5+ MB\n"
     ]
    }
   ],
   "source": [
    "housing_sales.info()"
   ]
  },
  {
   "cell_type": "code",
   "execution_count": 35,
   "metadata": {},
   "outputs": [
    {
     "data": {
      "text/html": [
       "<div>\n",
       "<style scoped>\n",
       "    .dataframe tbody tr th:only-of-type {\n",
       "        vertical-align: middle;\n",
       "    }\n",
       "\n",
       "    .dataframe tbody tr th {\n",
       "        vertical-align: top;\n",
       "    }\n",
       "\n",
       "    .dataframe thead th {\n",
       "        text-align: right;\n",
       "    }\n",
       "</style>\n",
       "<table border=\"1\" class=\"dataframe\">\n",
       "  <thead>\n",
       "    <tr style=\"text-align: right;\">\n",
       "      <th></th>\n",
       "      <th>ExciseTaxNbr</th>\n",
       "      <th>Major</th>\n",
       "      <th>Minor</th>\n",
       "      <th>DocumentDate</th>\n",
       "      <th>SalePrice</th>\n",
       "      <th>RecordingNbr</th>\n",
       "      <th>PropertyType</th>\n",
       "      <th>PrincipalUse</th>\n",
       "      <th>SaleInstrument</th>\n",
       "      <th>SaleReason</th>\n",
       "      <th>...</th>\n",
       "      <th>SqFtEnclosedPorch</th>\n",
       "      <th>SqFtDeck</th>\n",
       "      <th>HeatSystem</th>\n",
       "      <th>HeatSource</th>\n",
       "      <th>Bedrooms</th>\n",
       "      <th>BathHalfCount</th>\n",
       "      <th>Bath3qtrCount</th>\n",
       "      <th>BathFullCount</th>\n",
       "      <th>YrBuilt</th>\n",
       "      <th>Condition</th>\n",
       "    </tr>\n",
       "  </thead>\n",
       "  <tbody>\n",
       "    <tr>\n",
       "      <th>1</th>\n",
       "      <td>2743355</td>\n",
       "      <td>638580</td>\n",
       "      <td>110</td>\n",
       "      <td>07/14/2015</td>\n",
       "      <td>190000</td>\n",
       "      <td>20150715002686</td>\n",
       "      <td>3</td>\n",
       "      <td>6</td>\n",
       "      <td>3</td>\n",
       "      <td>1</td>\n",
       "      <td>...</td>\n",
       "      <td>0.0</td>\n",
       "      <td>300.0</td>\n",
       "      <td>5.0</td>\n",
       "      <td>2.0</td>\n",
       "      <td>4.0</td>\n",
       "      <td>1.0</td>\n",
       "      <td>0.0</td>\n",
       "      <td>1.0</td>\n",
       "      <td>1963.0</td>\n",
       "      <td>3.0</td>\n",
       "    </tr>\n",
       "    <tr>\n",
       "      <th>3</th>\n",
       "      <td>2841697</td>\n",
       "      <td>894677</td>\n",
       "      <td>240</td>\n",
       "      <td>12/21/2016</td>\n",
       "      <td>818161</td>\n",
       "      <td>20161228000896</td>\n",
       "      <td>2</td>\n",
       "      <td>6</td>\n",
       "      <td>3</td>\n",
       "      <td>1</td>\n",
       "      <td>...</td>\n",
       "      <td>0.0</td>\n",
       "      <td>60.0</td>\n",
       "      <td>5.0</td>\n",
       "      <td>2.0</td>\n",
       "      <td>4.0</td>\n",
       "      <td>0.0</td>\n",
       "      <td>1.0</td>\n",
       "      <td>2.0</td>\n",
       "      <td>2016.0</td>\n",
       "      <td>3.0</td>\n",
       "    </tr>\n",
       "    <tr>\n",
       "      <th>5</th>\n",
       "      <td>2860712</td>\n",
       "      <td>408330</td>\n",
       "      <td>4150</td>\n",
       "      <td>03/15/2017</td>\n",
       "      <td>1069300</td>\n",
       "      <td>20170426000922</td>\n",
       "      <td>3</td>\n",
       "      <td>6</td>\n",
       "      <td>15</td>\n",
       "      <td>11</td>\n",
       "      <td>...</td>\n",
       "      <td>0.0</td>\n",
       "      <td>0.0</td>\n",
       "      <td>5.0</td>\n",
       "      <td>2.0</td>\n",
       "      <td>5.0</td>\n",
       "      <td>1.0</td>\n",
       "      <td>1.0</td>\n",
       "      <td>1.0</td>\n",
       "      <td>1906.0</td>\n",
       "      <td>4.0</td>\n",
       "    </tr>\n",
       "    <tr>\n",
       "      <th>6</th>\n",
       "      <td>2813396</td>\n",
       "      <td>510140</td>\n",
       "      <td>4256</td>\n",
       "      <td>07/25/2016</td>\n",
       "      <td>1069300</td>\n",
       "      <td>20160802000964</td>\n",
       "      <td>2</td>\n",
       "      <td>6</td>\n",
       "      <td>15</td>\n",
       "      <td>13</td>\n",
       "      <td>...</td>\n",
       "      <td>0.0</td>\n",
       "      <td>0.0</td>\n",
       "      <td>5.0</td>\n",
       "      <td>2.0</td>\n",
       "      <td>3.0</td>\n",
       "      <td>0.0</td>\n",
       "      <td>0.0</td>\n",
       "      <td>1.0</td>\n",
       "      <td>1949.0</td>\n",
       "      <td>3.0</td>\n",
       "    </tr>\n",
       "    <tr>\n",
       "      <th>7</th>\n",
       "      <td>2899303</td>\n",
       "      <td>126320</td>\n",
       "      <td>110</td>\n",
       "      <td>10/30/2017</td>\n",
       "      <td>375000</td>\n",
       "      <td></td>\n",
       "      <td>3</td>\n",
       "      <td>6</td>\n",
       "      <td>3</td>\n",
       "      <td>1</td>\n",
       "      <td>...</td>\n",
       "      <td>0.0</td>\n",
       "      <td>0.0</td>\n",
       "      <td>4.0</td>\n",
       "      <td>3.0</td>\n",
       "      <td>3.0</td>\n",
       "      <td>0.0</td>\n",
       "      <td>0.0</td>\n",
       "      <td>1.0</td>\n",
       "      <td>1919.0</td>\n",
       "      <td>3.0</td>\n",
       "    </tr>\n",
       "  </tbody>\n",
       "</table>\n",
       "<p>5 rows × 41 columns</p>\n",
       "</div>"
      ],
      "text/plain": [
       "   ExciseTaxNbr   Major  Minor DocumentDate  SalePrice    RecordingNbr  \\\n",
       "1       2743355  638580    110   07/14/2015     190000  20150715002686   \n",
       "3       2841697  894677    240   12/21/2016     818161  20161228000896   \n",
       "5       2860712  408330   4150   03/15/2017    1069300  20170426000922   \n",
       "6       2813396  510140   4256   07/25/2016    1069300  20160802000964   \n",
       "7       2899303  126320    110   10/30/2017     375000                   \n",
       "\n",
       "   PropertyType  PrincipalUse  SaleInstrument  SaleReason  ...  \\\n",
       "1             3             6               3           1  ...   \n",
       "3             2             6               3           1  ...   \n",
       "5             3             6              15          11  ...   \n",
       "6             2             6              15          13  ...   \n",
       "7             3             6               3           1  ...   \n",
       "\n",
       "   SqFtEnclosedPorch SqFtDeck  HeatSystem  HeatSource Bedrooms BathHalfCount  \\\n",
       "1                0.0    300.0         5.0         2.0      4.0           1.0   \n",
       "3                0.0     60.0         5.0         2.0      4.0           0.0   \n",
       "5                0.0      0.0         5.0         2.0      5.0           1.0   \n",
       "6                0.0      0.0         5.0         2.0      3.0           0.0   \n",
       "7                0.0      0.0         4.0         3.0      3.0           0.0   \n",
       "\n",
       "   Bath3qtrCount  BathFullCount  YrBuilt  Condition  \n",
       "1            0.0            1.0   1963.0        3.0  \n",
       "3            1.0            2.0   2016.0        3.0  \n",
       "5            1.0            1.0   1906.0        4.0  \n",
       "6            0.0            1.0   1949.0        3.0  \n",
       "7            0.0            1.0   1919.0        3.0  \n",
       "\n",
       "[5 rows x 41 columns]"
      ]
     },
     "execution_count": 35,
     "metadata": {},
     "output_type": "execute_result"
    }
   ],
   "source": [
    "housing_sales = housing_sales[housing_sales['NbrLivingUnits'] == 1]\n",
    "housing_sales.head()"
   ]
  },
  {
   "cell_type": "code",
   "execution_count": 37,
   "metadata": {},
   "outputs": [
    {
     "data": {
      "text/plain": [
       "1.0    246655\n",
       "Name: NbrLivingUnits, dtype: int64"
      ]
     },
     "execution_count": 37,
     "metadata": {},
     "output_type": "execute_result"
    }
   ],
   "source": [
    "housing_sales['NbrLivingUnits'].value_counts()"
   ]
  },
  {
   "cell_type": "code",
   "execution_count": 38,
   "metadata": {},
   "outputs": [
    {
     "name": "stdout",
     "output_type": "stream",
     "text": [
      "\n",
      "CSV String:\n",
      " None\n"
     ]
    }
   ],
   "source": [
    "housing_sales = housing_sales.to_csv('housing_sales.csv', index = True) \n",
    "print('\\nCSV String:\\n', housing_sales) "
   ]
  },
  {
   "cell_type": "code",
   "execution_count": null,
   "metadata": {},
   "outputs": [],
   "source": []
  }
 ],
 "metadata": {
  "kernelspec": {
   "display_name": "learn-env",
   "language": "python",
   "name": "learn-env"
  },
  "language_info": {
   "codemirror_mode": {
    "name": "ipython",
    "version": 3
   },
   "file_extension": ".py",
   "mimetype": "text/x-python",
   "name": "python",
   "nbconvert_exporter": "python",
   "pygments_lexer": "ipython3",
   "version": "3.8.5"
  }
 },
 "nbformat": 4,
 "nbformat_minor": 4
}
