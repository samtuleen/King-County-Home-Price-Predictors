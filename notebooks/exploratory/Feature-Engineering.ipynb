{
 "cells": [
  {
   "cell_type": "code",
   "execution_count": 43,
   "metadata": {},
   "outputs": [],
   "source": [
    "import numpy as np\n",
    "import pandas as pd\n",
    "import scipy.stats as stats\n",
    "import matplotlib.pyplot as plt\n",
    "import seaborn as sns\n",
    "import statsmodels.api as sm\n",
    "from statsmodels.formula.api import ols\n",
    "%matplotlib inline"
   ]
  },
  {
   "cell_type": "code",
   "execution_count": 2,
   "metadata": {},
   "outputs": [
    {
     "data": {
      "text/html": [
       "<div>\n",
       "<style scoped>\n",
       "    .dataframe tbody tr th:only-of-type {\n",
       "        vertical-align: middle;\n",
       "    }\n",
       "\n",
       "    .dataframe tbody tr th {\n",
       "        vertical-align: top;\n",
       "    }\n",
       "\n",
       "    .dataframe thead th {\n",
       "        text-align: right;\n",
       "    }\n",
       "</style>\n",
       "<table border=\"1\" class=\"dataframe\">\n",
       "  <thead>\n",
       "    <tr style=\"text-align: right;\">\n",
       "      <th></th>\n",
       "      <th>Major</th>\n",
       "      <th>Minor</th>\n",
       "      <th>SalePrice</th>\n",
       "      <th>DocumentDate</th>\n",
       "      <th>ZipCode</th>\n",
       "      <th>Stories</th>\n",
       "      <th>BldgGrade</th>\n",
       "      <th>Condition</th>\n",
       "      <th>Bedrooms</th>\n",
       "      <th>Bathrooms</th>\n",
       "      <th>...</th>\n",
       "      <th>SqFtOpenPorch</th>\n",
       "      <th>SqFtEnclosedPorch</th>\n",
       "      <th>SqFtDeck</th>\n",
       "      <th>HeatSystem</th>\n",
       "      <th>YrBuilt</th>\n",
       "      <th>YrRenovated</th>\n",
       "      <th>SqFtLot</th>\n",
       "      <th>Township</th>\n",
       "      <th>AirportNoise</th>\n",
       "      <th>WfntFootage</th>\n",
       "    </tr>\n",
       "  </thead>\n",
       "  <tbody>\n",
       "    <tr>\n",
       "      <th>0</th>\n",
       "      <td>638580</td>\n",
       "      <td>110</td>\n",
       "      <td>190000</td>\n",
       "      <td>07/14/2015</td>\n",
       "      <td>98188</td>\n",
       "      <td>1.0</td>\n",
       "      <td>7.0</td>\n",
       "      <td>3.0</td>\n",
       "      <td>4.0</td>\n",
       "      <td>2.0</td>\n",
       "      <td>...</td>\n",
       "      <td>0.0</td>\n",
       "      <td>0.0</td>\n",
       "      <td>300.0</td>\n",
       "      <td>5.0</td>\n",
       "      <td>1963.0</td>\n",
       "      <td>0.0</td>\n",
       "      <td>10534.0</td>\n",
       "      <td>23.0</td>\n",
       "      <td>0.0</td>\n",
       "      <td>0.0</td>\n",
       "    </tr>\n",
       "    <tr>\n",
       "      <th>1</th>\n",
       "      <td>126320</td>\n",
       "      <td>110</td>\n",
       "      <td>375000</td>\n",
       "      <td>10/30/2017</td>\n",
       "      <td>98106</td>\n",
       "      <td>2.0</td>\n",
       "      <td>6.0</td>\n",
       "      <td>3.0</td>\n",
       "      <td>3.0</td>\n",
       "      <td>1.0</td>\n",
       "      <td>...</td>\n",
       "      <td>0.0</td>\n",
       "      <td>0.0</td>\n",
       "      <td>0.0</td>\n",
       "      <td>4.0</td>\n",
       "      <td>1919.0</td>\n",
       "      <td>0.0</td>\n",
       "      <td>4760.0</td>\n",
       "      <td>24.0</td>\n",
       "      <td>0.0</td>\n",
       "      <td>0.0</td>\n",
       "    </tr>\n",
       "    <tr>\n",
       "      <th>2</th>\n",
       "      <td>213043</td>\n",
       "      <td>120</td>\n",
       "      <td>560000</td>\n",
       "      <td>12/20/2019</td>\n",
       "      <td>98019</td>\n",
       "      <td>1.0</td>\n",
       "      <td>7.0</td>\n",
       "      <td>3.0</td>\n",
       "      <td>3.0</td>\n",
       "      <td>2.0</td>\n",
       "      <td>...</td>\n",
       "      <td>180.0</td>\n",
       "      <td>0.0</td>\n",
       "      <td>0.0</td>\n",
       "      <td>5.0</td>\n",
       "      <td>1989.0</td>\n",
       "      <td>0.0</td>\n",
       "      <td>10523.0</td>\n",
       "      <td>26.0</td>\n",
       "      <td>0.0</td>\n",
       "      <td>0.0</td>\n",
       "    </tr>\n",
       "    <tr>\n",
       "      <th>3</th>\n",
       "      <td>940652</td>\n",
       "      <td>630</td>\n",
       "      <td>435000</td>\n",
       "      <td>07/22/2019</td>\n",
       "      <td>98038</td>\n",
       "      <td>2.0</td>\n",
       "      <td>7.0</td>\n",
       "      <td>3.0</td>\n",
       "      <td>3.0</td>\n",
       "      <td>3.0</td>\n",
       "      <td>...</td>\n",
       "      <td>45.0</td>\n",
       "      <td>0.0</td>\n",
       "      <td>0.0</td>\n",
       "      <td>5.0</td>\n",
       "      <td>1994.0</td>\n",
       "      <td>0.0</td>\n",
       "      <td>7392.0</td>\n",
       "      <td>22.0</td>\n",
       "      <td>0.0</td>\n",
       "      <td>0.0</td>\n",
       "    </tr>\n",
       "    <tr>\n",
       "      <th>4</th>\n",
       "      <td>322303</td>\n",
       "      <td>9088</td>\n",
       "      <td>133000</td>\n",
       "      <td>12/05/2016</td>\n",
       "      <td>98070</td>\n",
       "      <td>1.5</td>\n",
       "      <td>6.0</td>\n",
       "      <td>3.0</td>\n",
       "      <td>1.0</td>\n",
       "      <td>2.0</td>\n",
       "      <td>...</td>\n",
       "      <td>0.0</td>\n",
       "      <td>70.0</td>\n",
       "      <td>480.0</td>\n",
       "      <td>4.0</td>\n",
       "      <td>1918.0</td>\n",
       "      <td>1980.0</td>\n",
       "      <td>136060.0</td>\n",
       "      <td>23.0</td>\n",
       "      <td>0.0</td>\n",
       "      <td>242.0</td>\n",
       "    </tr>\n",
       "  </tbody>\n",
       "</table>\n",
       "<p>5 rows × 22 columns</p>\n",
       "</div>"
      ],
      "text/plain": [
       "    Major  Minor  SalePrice DocumentDate  ZipCode  Stories  BldgGrade  \\\n",
       "0  638580    110     190000   07/14/2015    98188      1.0        7.0   \n",
       "1  126320    110     375000   10/30/2017    98106      2.0        6.0   \n",
       "2  213043    120     560000   12/20/2019    98019      1.0        7.0   \n",
       "3  940652    630     435000   07/22/2019    98038      2.0        7.0   \n",
       "4  322303   9088     133000   12/05/2016    98070      1.5        6.0   \n",
       "\n",
       "   Condition  Bedrooms  Bathrooms  ...  SqFtOpenPorch  SqFtEnclosedPorch  \\\n",
       "0        3.0       4.0        2.0  ...            0.0                0.0   \n",
       "1        3.0       3.0        1.0  ...            0.0                0.0   \n",
       "2        3.0       3.0        2.0  ...          180.0                0.0   \n",
       "3        3.0       3.0        3.0  ...           45.0                0.0   \n",
       "4        3.0       1.0        2.0  ...            0.0               70.0   \n",
       "\n",
       "   SqFtDeck  HeatSystem  YrBuilt  YrRenovated   SqFtLot  Township  \\\n",
       "0     300.0         5.0   1963.0          0.0   10534.0      23.0   \n",
       "1       0.0         4.0   1919.0          0.0    4760.0      24.0   \n",
       "2       0.0         5.0   1989.0          0.0   10523.0      26.0   \n",
       "3       0.0         5.0   1994.0          0.0    7392.0      22.0   \n",
       "4     480.0         4.0   1918.0       1980.0  136060.0      23.0   \n",
       "\n",
       "   AirportNoise  WfntFootage  \n",
       "0           0.0          0.0  \n",
       "1           0.0          0.0  \n",
       "2           0.0          0.0  \n",
       "3           0.0          0.0  \n",
       "4           0.0        242.0  \n",
       "\n",
       "[5 rows x 22 columns]"
      ]
     },
     "execution_count": 2,
     "metadata": {},
     "output_type": "execute_result"
    }
   ],
   "source": [
    "data = pd.read_csv('../../data/processed/data.csv', index_col=0) #<-Load w/out the unnecessary 'Unnamed:0' column.\n",
    "data.head()"
   ]
  },
  {
   "cell_type": "code",
   "execution_count": 18,
   "metadata": {},
   "outputs": [
    {
     "name": "stdout",
     "output_type": "stream",
     "text": [
      "<class 'pandas.core.frame.DataFrame'>\n",
      "Int64Index: 141545 entries, 0 to 141547\n",
      "Data columns (total 22 columns):\n",
      " #   Column             Non-Null Count   Dtype  \n",
      "---  ------             --------------   -----  \n",
      " 0   Major              141545 non-null  int64  \n",
      " 1   Minor              141545 non-null  int64  \n",
      " 2   SalePrice          141545 non-null  int64  \n",
      " 3   DocumentDate       141545 non-null  object \n",
      " 4   ZipCode            141545 non-null  int64  \n",
      " 5   Stories            141545 non-null  float64\n",
      " 6   BldgGrade          141545 non-null  float64\n",
      " 7   Condition          141545 non-null  float64\n",
      " 8   Bedrooms           141545 non-null  float64\n",
      " 9   Bathrooms          141545 non-null  float64\n",
      " 10  SqFtTotLiving      141545 non-null  float64\n",
      " 11  SqFtTotBasement    141545 non-null  float64\n",
      " 12  SqFtOpenPorch      141545 non-null  float64\n",
      " 13  SqFtEnclosedPorch  141545 non-null  float64\n",
      " 14  SqFtDeck           141545 non-null  float64\n",
      " 15  HeatSystem         141545 non-null  float64\n",
      " 16  YrBuilt            141545 non-null  float64\n",
      " 17  YrRenovated        141545 non-null  float64\n",
      " 18  SqFtLot            141545 non-null  float64\n",
      " 19  Township           141545 non-null  float64\n",
      " 20  AirportNoise       141545 non-null  float64\n",
      " 21  WfntFootage        141545 non-null  float64\n",
      "dtypes: float64(17), int64(4), object(1)\n",
      "memory usage: 29.8+ MB\n"
     ]
    }
   ],
   "source": [
    "data.info()"
   ]
  },
  {
   "cell_type": "code",
   "execution_count": 6,
   "metadata": {
    "scrolled": true
   },
   "outputs": [
    {
     "data": {
      "text/html": [
       "<div>\n",
       "<style scoped>\n",
       "    .dataframe tbody tr th:only-of-type {\n",
       "        vertical-align: middle;\n",
       "    }\n",
       "\n",
       "    .dataframe tbody tr th {\n",
       "        vertical-align: top;\n",
       "    }\n",
       "\n",
       "    .dataframe thead th {\n",
       "        text-align: right;\n",
       "    }\n",
       "</style>\n",
       "<table border=\"1\" class=\"dataframe\">\n",
       "  <thead>\n",
       "    <tr style=\"text-align: right;\">\n",
       "      <th></th>\n",
       "      <th>Major</th>\n",
       "      <th>Minor</th>\n",
       "      <th>SalePrice</th>\n",
       "      <th>ZipCode</th>\n",
       "      <th>Stories</th>\n",
       "      <th>BldgGrade</th>\n",
       "      <th>Condition</th>\n",
       "      <th>Bedrooms</th>\n",
       "      <th>Bathrooms</th>\n",
       "      <th>SqFtTotLiving</th>\n",
       "      <th>...</th>\n",
       "      <th>SqFtOpenPorch</th>\n",
       "      <th>SqFtEnclosedPorch</th>\n",
       "      <th>SqFtDeck</th>\n",
       "      <th>HeatSystem</th>\n",
       "      <th>YrBuilt</th>\n",
       "      <th>YrRenovated</th>\n",
       "      <th>SqFtLot</th>\n",
       "      <th>Township</th>\n",
       "      <th>AirportNoise</th>\n",
       "      <th>WfntFootage</th>\n",
       "    </tr>\n",
       "  </thead>\n",
       "  <tbody>\n",
       "    <tr>\n",
       "      <th>count</th>\n",
       "      <td>141545.000000</td>\n",
       "      <td>141545.000000</td>\n",
       "      <td>1.415450e+05</td>\n",
       "      <td>1.415450e+05</td>\n",
       "      <td>141545.000000</td>\n",
       "      <td>141545.000000</td>\n",
       "      <td>141545.000000</td>\n",
       "      <td>141545.000000</td>\n",
       "      <td>141545.000000</td>\n",
       "      <td>141545.000000</td>\n",
       "      <td>...</td>\n",
       "      <td>141545.000000</td>\n",
       "      <td>141545.000000</td>\n",
       "      <td>141545.000000</td>\n",
       "      <td>141545.000000</td>\n",
       "      <td>141545.000000</td>\n",
       "      <td>141545.000000</td>\n",
       "      <td>1.415450e+05</td>\n",
       "      <td>141545.000000</td>\n",
       "      <td>141545.0</td>\n",
       "      <td>141545.000000</td>\n",
       "    </tr>\n",
       "    <tr>\n",
       "      <th>mean</th>\n",
       "      <td>448728.218736</td>\n",
       "      <td>1562.838405</td>\n",
       "      <td>6.942912e+05</td>\n",
       "      <td>1.050155e+05</td>\n",
       "      <td>1.440351</td>\n",
       "      <td>7.577541</td>\n",
       "      <td>3.565227</td>\n",
       "      <td>3.402049</td>\n",
       "      <td>2.495871</td>\n",
       "      <td>2089.849596</td>\n",
       "      <td>...</td>\n",
       "      <td>65.869031</td>\n",
       "      <td>6.481691</td>\n",
       "      <td>140.719750</td>\n",
       "      <td>4.912925</td>\n",
       "      <td>1969.382493</td>\n",
       "      <td>116.526278</td>\n",
       "      <td>4.588788e+04</td>\n",
       "      <td>23.792412</td>\n",
       "      <td>0.0</td>\n",
       "      <td>8.071666</td>\n",
       "    </tr>\n",
       "    <tr>\n",
       "      <th>std</th>\n",
       "      <td>286620.447904</td>\n",
       "      <td>2851.067000</td>\n",
       "      <td>8.054475e+05</td>\n",
       "      <td>2.607710e+06</td>\n",
       "      <td>0.507238</td>\n",
       "      <td>1.190614</td>\n",
       "      <td>0.744951</td>\n",
       "      <td>0.950776</td>\n",
       "      <td>1.006218</td>\n",
       "      <td>956.901555</td>\n",
       "      <td>...</td>\n",
       "      <td>121.868734</td>\n",
       "      <td>42.291230</td>\n",
       "      <td>218.450465</td>\n",
       "      <td>1.044588</td>\n",
       "      <td>29.042281</td>\n",
       "      <td>468.617484</td>\n",
       "      <td>8.046268e+05</td>\n",
       "      <td>1.650141</td>\n",
       "      <td>0.0</td>\n",
       "      <td>183.441218</td>\n",
       "    </tr>\n",
       "    <tr>\n",
       "      <th>min</th>\n",
       "      <td>100.000000</td>\n",
       "      <td>1.000000</td>\n",
       "      <td>5.000000e+00</td>\n",
       "      <td>3.000000e+00</td>\n",
       "      <td>1.000000</td>\n",
       "      <td>1.000000</td>\n",
       "      <td>1.000000</td>\n",
       "      <td>0.000000</td>\n",
       "      <td>0.000000</td>\n",
       "      <td>2.000000</td>\n",
       "      <td>...</td>\n",
       "      <td>0.000000</td>\n",
       "      <td>0.000000</td>\n",
       "      <td>0.000000</td>\n",
       "      <td>0.000000</td>\n",
       "      <td>1900.000000</td>\n",
       "      <td>0.000000</td>\n",
       "      <td>3.750000e+02</td>\n",
       "      <td>19.000000</td>\n",
       "      <td>0.0</td>\n",
       "      <td>0.000000</td>\n",
       "    </tr>\n",
       "    <tr>\n",
       "      <th>25%</th>\n",
       "      <td>202504.000000</td>\n",
       "      <td>115.000000</td>\n",
       "      <td>3.790000e+05</td>\n",
       "      <td>9.803200e+04</td>\n",
       "      <td>1.000000</td>\n",
       "      <td>7.000000</td>\n",
       "      <td>3.000000</td>\n",
       "      <td>3.000000</td>\n",
       "      <td>2.000000</td>\n",
       "      <td>1420.000000</td>\n",
       "      <td>...</td>\n",
       "      <td>0.000000</td>\n",
       "      <td>0.000000</td>\n",
       "      <td>0.000000</td>\n",
       "      <td>5.000000</td>\n",
       "      <td>1951.000000</td>\n",
       "      <td>0.000000</td>\n",
       "      <td>5.500000e+03</td>\n",
       "      <td>23.000000</td>\n",
       "      <td>0.0</td>\n",
       "      <td>0.000000</td>\n",
       "    </tr>\n",
       "    <tr>\n",
       "      <th>50%</th>\n",
       "      <td>383206.000000</td>\n",
       "      <td>326.000000</td>\n",
       "      <td>5.560000e+05</td>\n",
       "      <td>9.805900e+04</td>\n",
       "      <td>1.000000</td>\n",
       "      <td>7.000000</td>\n",
       "      <td>3.000000</td>\n",
       "      <td>3.000000</td>\n",
       "      <td>3.000000</td>\n",
       "      <td>1910.000000</td>\n",
       "      <td>...</td>\n",
       "      <td>0.000000</td>\n",
       "      <td>0.000000</td>\n",
       "      <td>0.000000</td>\n",
       "      <td>5.000000</td>\n",
       "      <td>1970.000000</td>\n",
       "      <td>0.000000</td>\n",
       "      <td>7.980000e+03</td>\n",
       "      <td>24.000000</td>\n",
       "      <td>0.0</td>\n",
       "      <td>0.000000</td>\n",
       "    </tr>\n",
       "    <tr>\n",
       "      <th>75%</th>\n",
       "      <td>722921.000000</td>\n",
       "      <td>1017.000000</td>\n",
       "      <td>8.000000e+05</td>\n",
       "      <td>9.811800e+04</td>\n",
       "      <td>2.000000</td>\n",
       "      <td>8.000000</td>\n",
       "      <td>4.000000</td>\n",
       "      <td>4.000000</td>\n",
       "      <td>3.000000</td>\n",
       "      <td>2550.000000</td>\n",
       "      <td>...</td>\n",
       "      <td>90.000000</td>\n",
       "      <td>0.000000</td>\n",
       "      <td>220.000000</td>\n",
       "      <td>5.000000</td>\n",
       "      <td>1992.000000</td>\n",
       "      <td>0.000000</td>\n",
       "      <td>1.140000e+04</td>\n",
       "      <td>25.000000</td>\n",
       "      <td>0.0</td>\n",
       "      <td>0.000000</td>\n",
       "    </tr>\n",
       "    <tr>\n",
       "      <th>max</th>\n",
       "      <td>990600.000000</td>\n",
       "      <td>9689.000000</td>\n",
       "      <td>6.250000e+07</td>\n",
       "      <td>9.811820e+08</td>\n",
       "      <td>4.000000</td>\n",
       "      <td>13.000000</td>\n",
       "      <td>5.000000</td>\n",
       "      <td>15.000000</td>\n",
       "      <td>16.000000</td>\n",
       "      <td>14980.000000</td>\n",
       "      <td>...</td>\n",
       "      <td>11570.000000</td>\n",
       "      <td>2330.000000</td>\n",
       "      <td>4290.000000</td>\n",
       "      <td>8.000000</td>\n",
       "      <td>2020.000000</td>\n",
       "      <td>2020.000000</td>\n",
       "      <td>2.330525e+07</td>\n",
       "      <td>26.000000</td>\n",
       "      <td>0.0</td>\n",
       "      <td>5300.000000</td>\n",
       "    </tr>\n",
       "  </tbody>\n",
       "</table>\n",
       "<p>8 rows × 21 columns</p>\n",
       "</div>"
      ],
      "text/plain": [
       "               Major          Minor     SalePrice       ZipCode  \\\n",
       "count  141545.000000  141545.000000  1.415450e+05  1.415450e+05   \n",
       "mean   448728.218736    1562.838405  6.942912e+05  1.050155e+05   \n",
       "std    286620.447904    2851.067000  8.054475e+05  2.607710e+06   \n",
       "min       100.000000       1.000000  5.000000e+00  3.000000e+00   \n",
       "25%    202504.000000     115.000000  3.790000e+05  9.803200e+04   \n",
       "50%    383206.000000     326.000000  5.560000e+05  9.805900e+04   \n",
       "75%    722921.000000    1017.000000  8.000000e+05  9.811800e+04   \n",
       "max    990600.000000    9689.000000  6.250000e+07  9.811820e+08   \n",
       "\n",
       "             Stories      BldgGrade      Condition       Bedrooms  \\\n",
       "count  141545.000000  141545.000000  141545.000000  141545.000000   \n",
       "mean        1.440351       7.577541       3.565227       3.402049   \n",
       "std         0.507238       1.190614       0.744951       0.950776   \n",
       "min         1.000000       1.000000       1.000000       0.000000   \n",
       "25%         1.000000       7.000000       3.000000       3.000000   \n",
       "50%         1.000000       7.000000       3.000000       3.000000   \n",
       "75%         2.000000       8.000000       4.000000       4.000000   \n",
       "max         4.000000      13.000000       5.000000      15.000000   \n",
       "\n",
       "           Bathrooms  SqFtTotLiving  ...  SqFtOpenPorch  SqFtEnclosedPorch  \\\n",
       "count  141545.000000  141545.000000  ...  141545.000000      141545.000000   \n",
       "mean        2.495871    2089.849596  ...      65.869031           6.481691   \n",
       "std         1.006218     956.901555  ...     121.868734          42.291230   \n",
       "min         0.000000       2.000000  ...       0.000000           0.000000   \n",
       "25%         2.000000    1420.000000  ...       0.000000           0.000000   \n",
       "50%         3.000000    1910.000000  ...       0.000000           0.000000   \n",
       "75%         3.000000    2550.000000  ...      90.000000           0.000000   \n",
       "max        16.000000   14980.000000  ...   11570.000000        2330.000000   \n",
       "\n",
       "            SqFtDeck     HeatSystem        YrBuilt    YrRenovated  \\\n",
       "count  141545.000000  141545.000000  141545.000000  141545.000000   \n",
       "mean      140.719750       4.912925    1969.382493     116.526278   \n",
       "std       218.450465       1.044588      29.042281     468.617484   \n",
       "min         0.000000       0.000000    1900.000000       0.000000   \n",
       "25%         0.000000       5.000000    1951.000000       0.000000   \n",
       "50%         0.000000       5.000000    1970.000000       0.000000   \n",
       "75%       220.000000       5.000000    1992.000000       0.000000   \n",
       "max      4290.000000       8.000000    2020.000000    2020.000000   \n",
       "\n",
       "            SqFtLot       Township  AirportNoise    WfntFootage  \n",
       "count  1.415450e+05  141545.000000      141545.0  141545.000000  \n",
       "mean   4.588788e+04      23.792412           0.0       8.071666  \n",
       "std    8.046268e+05       1.650141           0.0     183.441218  \n",
       "min    3.750000e+02      19.000000           0.0       0.000000  \n",
       "25%    5.500000e+03      23.000000           0.0       0.000000  \n",
       "50%    7.980000e+03      24.000000           0.0       0.000000  \n",
       "75%    1.140000e+04      25.000000           0.0       0.000000  \n",
       "max    2.330525e+07      26.000000           0.0    5300.000000  \n",
       "\n",
       "[8 rows x 21 columns]"
      ]
     },
     "execution_count": 6,
     "metadata": {},
     "output_type": "execute_result"
    }
   ],
   "source": [
    "data.describe()"
   ]
  },
  {
   "cell_type": "markdown",
   "metadata": {},
   "source": [
    "## Selecting Features"
   ]
  },
  {
   "cell_type": "markdown",
   "metadata": {},
   "source": [
    "Since 'SalePrice is the target variable for my analysis, I will take a look at the distribution."
   ]
  },
  {
   "cell_type": "code",
   "execution_count": 14,
   "metadata": {},
   "outputs": [
    {
     "name": "stderr",
     "output_type": "stream",
     "text": [
      "C:\\Users\\15164\\anaconda3\\envs\\learn-env\\lib\\site-packages\\seaborn\\_decorators.py:36: FutureWarning: Pass the following variable as a keyword arg: x. From version 0.12, the only valid positional argument will be `data`, and passing other arguments without an explicit keyword will result in an error or misinterpretation.\n",
      "  warnings.warn(\n"
     ]
    },
    {
     "data": {
      "image/png": "[encoded data removed]",
      "text/plain": [
       "<Figure size 3600x720 with 2 Axes>"
      ]
     },
     "metadata": {
      "needs_background": "light"
     },
     "output_type": "display_data"
    }
   ],
   "source": [
    "fig, ax = plt.subplots(1,2, figsize=(50,10))\n",
    "sns.histplot(data.SalePrice, kde = True, ax = ax[0])\n",
    "sns.boxplot(data.SalePrice, ax= ax[1]);"
   ]
  },
  {
   "cell_type": "markdown",
   "metadata": {},
   "source": [
    "The data is largely skewed but the shape is decent. I will take a closer look at correlations of features I'd consider using in my model."
   ]
  },
  {
   "cell_type": "code",
   "execution_count": 15,
   "metadata": {},
   "outputs": [
    {
     "data": {
      "text/html": [
       "<div>\n",
       "<style scoped>\n",
       "    .dataframe tbody tr th:only-of-type {\n",
       "        vertical-align: middle;\n",
       "    }\n",
       "\n",
       "    .dataframe tbody tr th {\n",
       "        vertical-align: top;\n",
       "    }\n",
       "\n",
       "    .dataframe thead th {\n",
       "        text-align: right;\n",
       "    }\n",
       "</style>\n",
       "<table border=\"1\" class=\"dataframe\">\n",
       "  <thead>\n",
       "    <tr style=\"text-align: right;\">\n",
       "      <th></th>\n",
       "      <th>SalePrice</th>\n",
       "      <th>BldgGrade</th>\n",
       "      <th>ZipCode</th>\n",
       "      <th>SqFtTotLiving</th>\n",
       "      <th>WfntFootage</th>\n",
       "    </tr>\n",
       "  </thead>\n",
       "  <tbody>\n",
       "    <tr>\n",
       "      <th>SalePrice</th>\n",
       "      <td>1.000000</td>\n",
       "      <td>0.385261</td>\n",
       "      <td>-0.000397</td>\n",
       "      <td>0.388234</td>\n",
       "      <td>-0.014740</td>\n",
       "    </tr>\n",
       "    <tr>\n",
       "      <th>BldgGrade</th>\n",
       "      <td>0.385261</td>\n",
       "      <td>1.000000</td>\n",
       "      <td>0.000939</td>\n",
       "      <td>0.757756</td>\n",
       "      <td>-0.108447</td>\n",
       "    </tr>\n",
       "    <tr>\n",
       "      <th>ZipCode</th>\n",
       "      <td>-0.000397</td>\n",
       "      <td>0.000939</td>\n",
       "      <td>1.000000</td>\n",
       "      <td>-0.002372</td>\n",
       "      <td>-0.000118</td>\n",
       "    </tr>\n",
       "    <tr>\n",
       "      <th>SqFtTotLiving</th>\n",
       "      <td>0.388234</td>\n",
       "      <td>0.757756</td>\n",
       "      <td>-0.002372</td>\n",
       "      <td>1.000000</td>\n",
       "      <td>-0.050261</td>\n",
       "    </tr>\n",
       "    <tr>\n",
       "      <th>WfntFootage</th>\n",
       "      <td>-0.014740</td>\n",
       "      <td>-0.108447</td>\n",
       "      <td>-0.000118</td>\n",
       "      <td>-0.050261</td>\n",
       "      <td>1.000000</td>\n",
       "    </tr>\n",
       "  </tbody>\n",
       "</table>\n",
       "</div>"
      ],
      "text/plain": [
       "               SalePrice  BldgGrade   ZipCode  SqFtTotLiving  WfntFootage\n",
       "SalePrice       1.000000   0.385261 -0.000397       0.388234    -0.014740\n",
       "BldgGrade       0.385261   1.000000  0.000939       0.757756    -0.108447\n",
       "ZipCode        -0.000397   0.000939  1.000000      -0.002372    -0.000118\n",
       "SqFtTotLiving   0.388234   0.757756 -0.002372       1.000000    -0.050261\n",
       "WfntFootage    -0.014740  -0.108447 -0.000118      -0.050261     1.000000"
      ]
     },
     "execution_count": 15,
     "metadata": {},
     "output_type": "execute_result"
    }
   ],
   "source": [
    "data[['SalePrice','BldgGrade','ZipCode','SqFtTotLiving','WfntFootage']].corr()"
   ]
  },
  {
   "cell_type": "code",
   "execution_count": 16,
   "metadata": {},
   "outputs": [
    {
     "name": "stderr",
     "output_type": "stream",
     "text": [
      "C:\\Users\\15164\\anaconda3\\envs\\learn-env\\lib\\site-packages\\seaborn\\_decorators.py:36: FutureWarning: Pass the following variable as a keyword arg: x. From version 0.12, the only valid positional argument will be `data`, and passing other arguments without an explicit keyword will result in an error or misinterpretation.\n",
      "  warnings.warn(\n"
     ]
    },
    {
     "data": {
      "image/png": "[encoded data removed]",
      "text/plain": [
       "<Figure size 3600x720 with 2 Axes>"
      ]
     },
     "metadata": {
      "needs_background": "light"
     },
     "output_type": "display_data"
    }
   ],
   "source": [
    "#There seems to be some correlation between SalePrice and SqFtTotLiving, as well as BldgGrade\n",
    "fig, ax = plt.subplots(1,2, figsize=(50,10))\n",
    "sns.histplot(data.SqFtTotLiving, kde=True, ax = ax[0])\n",
    "sns.boxplot(data.SqFtTotLiving, ax= ax[1]);"
   ]
  },
  {
   "cell_type": "markdown",
   "metadata": {},
   "source": [
    "I'll also examine BldgGrade closer:"
   ]
  },
  {
   "cell_type": "code",
   "execution_count": 17,
   "metadata": {},
   "outputs": [
    {
     "name": "stderr",
     "output_type": "stream",
     "text": [
      "C:\\Users\\15164\\anaconda3\\envs\\learn-env\\lib\\site-packages\\seaborn\\_decorators.py:36: FutureWarning: Pass the following variable as a keyword arg: x. From version 0.12, the only valid positional argument will be `data`, and passing other arguments without an explicit keyword will result in an error or misinterpretation.\n",
      "  warnings.warn(\n",
      "C:\\Users\\15164\\anaconda3\\envs\\learn-env\\lib\\site-packages\\seaborn\\_decorators.py:36: FutureWarning: Pass the following variables as keyword args: x, y. From version 0.12, the only valid positional argument will be `data`, and passing other arguments without an explicit keyword will result in an error or misinterpretation.\n",
      "  warnings.warn(\n"
     ]
    },
    {
     "data": {
      "image/png": "[encoded data removed]",
      "text/plain": [
       "<Figure size 3600x720 with 2 Axes>"
      ]
     },
     "metadata": {
      "needs_background": "light"
     },
     "output_type": "display_data"
    }
   ],
   "source": [
    "mean = data.SalePrice.groupby(data['BldgGrade']).mean()\n",
    "grade = data.BldgGrade\n",
    "\n",
    "fig, ax = plt.subplots(1,2, figsize=(50,10))\n",
    "sns.countplot(data.BldgGrade, ax = ax[0])\n",
    "sns.barplot(grade,mean, ax = ax[1]);"
   ]
  },
  {
   "cell_type": "markdown",
   "metadata": {},
   "source": [
    "Based on this graph, houses with a building grade of 7, followed by 8, perfom the best in terms of price. I will examine more variables to consider as model features below."
   ]
  },
  {
   "cell_type": "code",
   "execution_count": 20,
   "metadata": {},
   "outputs": [
    {
     "data": {
      "text/html": [
       "<div>\n",
       "<style scoped>\n",
       "    .dataframe tbody tr th:only-of-type {\n",
       "        vertical-align: middle;\n",
       "    }\n",
       "\n",
       "    .dataframe tbody tr th {\n",
       "        vertical-align: top;\n",
       "    }\n",
       "\n",
       "    .dataframe thead th {\n",
       "        text-align: right;\n",
       "    }\n",
       "</style>\n",
       "<table border=\"1\" class=\"dataframe\">\n",
       "  <thead>\n",
       "    <tr style=\"text-align: right;\">\n",
       "      <th></th>\n",
       "      <th>SalePrice</th>\n",
       "      <th>HeatSystem</th>\n",
       "      <th>SqFtOpenPorch</th>\n",
       "      <th>SqFtEnclosedPorch</th>\n",
       "      <th>SqFtDeck</th>\n",
       "    </tr>\n",
       "  </thead>\n",
       "  <tbody>\n",
       "    <tr>\n",
       "      <th>SalePrice</th>\n",
       "      <td>1.000000</td>\n",
       "      <td>0.092098</td>\n",
       "      <td>0.192261</td>\n",
       "      <td>0.018606</td>\n",
       "      <td>0.123846</td>\n",
       "    </tr>\n",
       "    <tr>\n",
       "      <th>HeatSystem</th>\n",
       "      <td>0.092098</td>\n",
       "      <td>1.000000</td>\n",
       "      <td>0.089429</td>\n",
       "      <td>0.006235</td>\n",
       "      <td>0.116816</td>\n",
       "    </tr>\n",
       "    <tr>\n",
       "      <th>SqFtOpenPorch</th>\n",
       "      <td>0.192261</td>\n",
       "      <td>0.089429</td>\n",
       "      <td>1.000000</td>\n",
       "      <td>0.003693</td>\n",
       "      <td>0.005898</td>\n",
       "    </tr>\n",
       "    <tr>\n",
       "      <th>SqFtEnclosedPorch</th>\n",
       "      <td>0.018606</td>\n",
       "      <td>0.006235</td>\n",
       "      <td>0.003693</td>\n",
       "      <td>1.000000</td>\n",
       "      <td>0.025932</td>\n",
       "    </tr>\n",
       "    <tr>\n",
       "      <th>SqFtDeck</th>\n",
       "      <td>0.123846</td>\n",
       "      <td>0.116816</td>\n",
       "      <td>0.005898</td>\n",
       "      <td>0.025932</td>\n",
       "      <td>1.000000</td>\n",
       "    </tr>\n",
       "  </tbody>\n",
       "</table>\n",
       "</div>"
      ],
      "text/plain": [
       "                   SalePrice  HeatSystem  SqFtOpenPorch  SqFtEnclosedPorch  \\\n",
       "SalePrice           1.000000    0.092098       0.192261           0.018606   \n",
       "HeatSystem          0.092098    1.000000       0.089429           0.006235   \n",
       "SqFtOpenPorch       0.192261    0.089429       1.000000           0.003693   \n",
       "SqFtEnclosedPorch   0.018606    0.006235       0.003693           1.000000   \n",
       "SqFtDeck            0.123846    0.116816       0.005898           0.025932   \n",
       "\n",
       "                   SqFtDeck  \n",
       "SalePrice          0.123846  \n",
       "HeatSystem         0.116816  \n",
       "SqFtOpenPorch      0.005898  \n",
       "SqFtEnclosedPorch  0.025932  \n",
       "SqFtDeck           1.000000  "
      ]
     },
     "execution_count": 20,
     "metadata": {},
     "output_type": "execute_result"
    }
   ],
   "source": [
    "data[['SalePrice','HeatSystem','SqFtOpenPorch','SqFtEnclosedPorch', 'SqFtDeck']].corr()"
   ]
  },
  {
   "cell_type": "markdown",
   "metadata": {},
   "source": [
    "Since none of these features seem to have correlations with SalePrice, I will see if they correlate to SqftTotLiving:"
   ]
  },
  {
   "cell_type": "code",
   "execution_count": 21,
   "metadata": {},
   "outputs": [
    {
     "data": {
      "text/html": [
       "<div>\n",
       "<style scoped>\n",
       "    .dataframe tbody tr th:only-of-type {\n",
       "        vertical-align: middle;\n",
       "    }\n",
       "\n",
       "    .dataframe tbody tr th {\n",
       "        vertical-align: top;\n",
       "    }\n",
       "\n",
       "    .dataframe thead th {\n",
       "        text-align: right;\n",
       "    }\n",
       "</style>\n",
       "<table border=\"1\" class=\"dataframe\">\n",
       "  <thead>\n",
       "    <tr style=\"text-align: right;\">\n",
       "      <th></th>\n",
       "      <th>SqFtTotLiving</th>\n",
       "      <th>HeatSystem</th>\n",
       "      <th>SqFtOpenPorch</th>\n",
       "      <th>SqFtEnclosedPorch</th>\n",
       "      <th>SqFtDeck</th>\n",
       "    </tr>\n",
       "  </thead>\n",
       "  <tbody>\n",
       "    <tr>\n",
       "      <th>SqFtTotLiving</th>\n",
       "      <td>1.000000</td>\n",
       "      <td>0.256650</td>\n",
       "      <td>0.377893</td>\n",
       "      <td>0.012328</td>\n",
       "      <td>0.281603</td>\n",
       "    </tr>\n",
       "    <tr>\n",
       "      <th>HeatSystem</th>\n",
       "      <td>0.256650</td>\n",
       "      <td>1.000000</td>\n",
       "      <td>0.089429</td>\n",
       "      <td>0.006235</td>\n",
       "      <td>0.116816</td>\n",
       "    </tr>\n",
       "    <tr>\n",
       "      <th>SqFtOpenPorch</th>\n",
       "      <td>0.377893</td>\n",
       "      <td>0.089429</td>\n",
       "      <td>1.000000</td>\n",
       "      <td>0.003693</td>\n",
       "      <td>0.005898</td>\n",
       "    </tr>\n",
       "    <tr>\n",
       "      <th>SqFtEnclosedPorch</th>\n",
       "      <td>0.012328</td>\n",
       "      <td>0.006235</td>\n",
       "      <td>0.003693</td>\n",
       "      <td>1.000000</td>\n",
       "      <td>0.025932</td>\n",
       "    </tr>\n",
       "    <tr>\n",
       "      <th>SqFtDeck</th>\n",
       "      <td>0.281603</td>\n",
       "      <td>0.116816</td>\n",
       "      <td>0.005898</td>\n",
       "      <td>0.025932</td>\n",
       "      <td>1.000000</td>\n",
       "    </tr>\n",
       "  </tbody>\n",
       "</table>\n",
       "</div>"
      ],
      "text/plain": [
       "                   SqFtTotLiving  HeatSystem  SqFtOpenPorch  \\\n",
       "SqFtTotLiving           1.000000    0.256650       0.377893   \n",
       "HeatSystem              0.256650    1.000000       0.089429   \n",
       "SqFtOpenPorch           0.377893    0.089429       1.000000   \n",
       "SqFtEnclosedPorch       0.012328    0.006235       0.003693   \n",
       "SqFtDeck                0.281603    0.116816       0.005898   \n",
       "\n",
       "                   SqFtEnclosedPorch  SqFtDeck  \n",
       "SqFtTotLiving               0.012328  0.281603  \n",
       "HeatSystem                  0.006235  0.116816  \n",
       "SqFtOpenPorch               0.003693  0.005898  \n",
       "SqFtEnclosedPorch           1.000000  0.025932  \n",
       "SqFtDeck                    0.025932  1.000000  "
      ]
     },
     "execution_count": 21,
     "metadata": {},
     "output_type": "execute_result"
    }
   ],
   "source": [
    "data[['SqFtTotLiving','HeatSystem','SqFtOpenPorch','SqFtEnclosedPorch', 'SqFtDeck']].corr()"
   ]
  },
  {
   "cell_type": "markdown",
   "metadata": {},
   "source": [
    "There doesn't seem to be much correlation between these, so I'll have a look at the age of the house (year built) and when it was renovated in relation to its price."
   ]
  },
  {
   "cell_type": "code",
   "execution_count": 22,
   "metadata": {},
   "outputs": [
    {
     "data": {
      "text/html": [
       "<div>\n",
       "<style scoped>\n",
       "    .dataframe tbody tr th:only-of-type {\n",
       "        vertical-align: middle;\n",
       "    }\n",
       "\n",
       "    .dataframe tbody tr th {\n",
       "        vertical-align: top;\n",
       "    }\n",
       "\n",
       "    .dataframe thead th {\n",
       "        text-align: right;\n",
       "    }\n",
       "</style>\n",
       "<table border=\"1\" class=\"dataframe\">\n",
       "  <thead>\n",
       "    <tr style=\"text-align: right;\">\n",
       "      <th></th>\n",
       "      <th>SalePrice</th>\n",
       "      <th>YrBuilt</th>\n",
       "      <th>YrRenovated</th>\n",
       "      <th>SqFtTotLiving</th>\n",
       "    </tr>\n",
       "  </thead>\n",
       "  <tbody>\n",
       "    <tr>\n",
       "      <th>SalePrice</th>\n",
       "      <td>1.000000</td>\n",
       "      <td>0.057668</td>\n",
       "      <td>0.069065</td>\n",
       "      <td>0.388234</td>\n",
       "    </tr>\n",
       "    <tr>\n",
       "      <th>YrBuilt</th>\n",
       "      <td>0.057668</td>\n",
       "      <td>1.000000</td>\n",
       "      <td>-0.237250</td>\n",
       "      <td>0.320372</td>\n",
       "    </tr>\n",
       "    <tr>\n",
       "      <th>YrRenovated</th>\n",
       "      <td>0.069065</td>\n",
       "      <td>-0.237250</td>\n",
       "      <td>1.000000</td>\n",
       "      <td>0.069206</td>\n",
       "    </tr>\n",
       "    <tr>\n",
       "      <th>SqFtTotLiving</th>\n",
       "      <td>0.388234</td>\n",
       "      <td>0.320372</td>\n",
       "      <td>0.069206</td>\n",
       "      <td>1.000000</td>\n",
       "    </tr>\n",
       "  </tbody>\n",
       "</table>\n",
       "</div>"
      ],
      "text/plain": [
       "               SalePrice   YrBuilt  YrRenovated  SqFtTotLiving\n",
       "SalePrice       1.000000  0.057668     0.069065       0.388234\n",
       "YrBuilt         0.057668  1.000000    -0.237250       0.320372\n",
       "YrRenovated     0.069065 -0.237250     1.000000       0.069206\n",
       "SqFtTotLiving   0.388234  0.320372     0.069206       1.000000"
      ]
     },
     "execution_count": 22,
     "metadata": {},
     "output_type": "execute_result"
    }
   ],
   "source": [
    "data[['SalePrice','YrBuilt','YrRenovated','SqFtTotLiving']].corr()"
   ]
  },
  {
   "cell_type": "markdown",
   "metadata": {},
   "source": [
    "YrBuilt has some correlation (though not strong) with SqFtTotLiving but not with SalePrice, though there is some minor correlation between SalePrice and SqFtTotLiving"
   ]
  },
  {
   "cell_type": "code",
   "execution_count": 23,
   "metadata": {},
   "outputs": [
    {
     "data": {
      "text/html": [
       "<div>\n",
       "<style scoped>\n",
       "    .dataframe tbody tr th:only-of-type {\n",
       "        vertical-align: middle;\n",
       "    }\n",
       "\n",
       "    .dataframe tbody tr th {\n",
       "        vertical-align: top;\n",
       "    }\n",
       "\n",
       "    .dataframe thead th {\n",
       "        text-align: right;\n",
       "    }\n",
       "</style>\n",
       "<table border=\"1\" class=\"dataframe\">\n",
       "  <thead>\n",
       "    <tr style=\"text-align: right;\">\n",
       "      <th></th>\n",
       "      <th>SalePrice</th>\n",
       "      <th>Condition</th>\n",
       "      <th>SqFtTotLiving</th>\n",
       "    </tr>\n",
       "  </thead>\n",
       "  <tbody>\n",
       "    <tr>\n",
       "      <th>SalePrice</th>\n",
       "      <td>1.000000</td>\n",
       "      <td>-0.044021</td>\n",
       "      <td>0.388234</td>\n",
       "    </tr>\n",
       "    <tr>\n",
       "      <th>Condition</th>\n",
       "      <td>-0.044021</td>\n",
       "      <td>1.000000</td>\n",
       "      <td>-0.081850</td>\n",
       "    </tr>\n",
       "    <tr>\n",
       "      <th>SqFtTotLiving</th>\n",
       "      <td>0.388234</td>\n",
       "      <td>-0.081850</td>\n",
       "      <td>1.000000</td>\n",
       "    </tr>\n",
       "  </tbody>\n",
       "</table>\n",
       "</div>"
      ],
      "text/plain": [
       "               SalePrice  Condition  SqFtTotLiving\n",
       "SalePrice       1.000000  -0.044021       0.388234\n",
       "Condition      -0.044021   1.000000      -0.081850\n",
       "SqFtTotLiving   0.388234  -0.081850       1.000000"
      ]
     },
     "execution_count": 23,
     "metadata": {},
     "output_type": "execute_result"
    }
   ],
   "source": [
    "data[['SalePrice','Condition','SqFtTotLiving']].corr()"
   ]
  },
  {
   "cell_type": "markdown",
   "metadata": {},
   "source": [
    "There's not much between Condition and SalePrice either, however because Condition is a feature I'd reckon would affect the price of a home, I will take a look at the shape of the column:"
   ]
  },
  {
   "cell_type": "code",
   "execution_count": 24,
   "metadata": {},
   "outputs": [
    {
     "name": "stderr",
     "output_type": "stream",
     "text": [
      "C:\\Users\\15164\\anaconda3\\envs\\learn-env\\lib\\site-packages\\seaborn\\_decorators.py:36: FutureWarning: Pass the following variable as a keyword arg: x. From version 0.12, the only valid positional argument will be `data`, and passing other arguments without an explicit keyword will result in an error or misinterpretation.\n",
      "  warnings.warn(\n",
      "C:\\Users\\15164\\anaconda3\\envs\\learn-env\\lib\\site-packages\\seaborn\\_decorators.py:36: FutureWarning: Pass the following variables as keyword args: x, y. From version 0.12, the only valid positional argument will be `data`, and passing other arguments without an explicit keyword will result in an error or misinterpretation.\n",
      "  warnings.warn(\n"
     ]
    },
    {
     "data": {
      "image/png": "[encoded data removed]",
      "text/plain": [
       "<Figure size 3600x720 with 2 Axes>"
      ]
     },
     "metadata": {
      "needs_background": "light"
     },
     "output_type": "display_data"
    }
   ],
   "source": [
    "mean = data.SalePrice.groupby(data['Condition']).mean()\n",
    "condition = data.Condition\n",
    "\n",
    "fig, ax = plt.subplots(1,2, figsize=(50,10))\n",
    "sns.countplot(data.Condition, ax = ax[0])\n",
    "sns.barplot(condition,mean, ax = ax[1]);"
   ]
  },
  {
   "cell_type": "markdown",
   "metadata": {},
   "source": [
    "Interestingly, 'average' homes tend to do the best when it comes to the price of  a home. Note how those with a conditon rating of 3 and 4 have higher sale prices.\n",
    "I'll see next if the number of bedrooms and bathrooms contribute to the price or not."
   ]
  },
  {
   "cell_type": "code",
   "execution_count": 26,
   "metadata": {},
   "outputs": [
    {
     "data": {
      "text/html": [
       "<div>\n",
       "<style scoped>\n",
       "    .dataframe tbody tr th:only-of-type {\n",
       "        vertical-align: middle;\n",
       "    }\n",
       "\n",
       "    .dataframe tbody tr th {\n",
       "        vertical-align: top;\n",
       "    }\n",
       "\n",
       "    .dataframe thead th {\n",
       "        text-align: right;\n",
       "    }\n",
       "</style>\n",
       "<table border=\"1\" class=\"dataframe\">\n",
       "  <thead>\n",
       "    <tr style=\"text-align: right;\">\n",
       "      <th></th>\n",
       "      <th>SalePrice</th>\n",
       "      <th>Bedrooms</th>\n",
       "      <th>Bathrooms</th>\n",
       "      <th>SqFtTotLiving</th>\n",
       "    </tr>\n",
       "  </thead>\n",
       "  <tbody>\n",
       "    <tr>\n",
       "      <th>SalePrice</th>\n",
       "      <td>1.000000</td>\n",
       "      <td>0.171813</td>\n",
       "      <td>0.304800</td>\n",
       "      <td>0.388234</td>\n",
       "    </tr>\n",
       "    <tr>\n",
       "      <th>Bedrooms</th>\n",
       "      <td>0.171813</td>\n",
       "      <td>1.000000</td>\n",
       "      <td>0.553911</td>\n",
       "      <td>0.610098</td>\n",
       "    </tr>\n",
       "    <tr>\n",
       "      <th>Bathrooms</th>\n",
       "      <td>0.304800</td>\n",
       "      <td>0.553911</td>\n",
       "      <td>1.000000</td>\n",
       "      <td>0.771530</td>\n",
       "    </tr>\n",
       "    <tr>\n",
       "      <th>SqFtTotLiving</th>\n",
       "      <td>0.388234</td>\n",
       "      <td>0.610098</td>\n",
       "      <td>0.771530</td>\n",
       "      <td>1.000000</td>\n",
       "    </tr>\n",
       "  </tbody>\n",
       "</table>\n",
       "</div>"
      ],
      "text/plain": [
       "               SalePrice  Bedrooms  Bathrooms  SqFtTotLiving\n",
       "SalePrice       1.000000  0.171813   0.304800       0.388234\n",
       "Bedrooms        0.171813  1.000000   0.553911       0.610098\n",
       "Bathrooms       0.304800  0.553911   1.000000       0.771530\n",
       "SqFtTotLiving   0.388234  0.610098   0.771530       1.000000"
      ]
     },
     "execution_count": 26,
     "metadata": {},
     "output_type": "execute_result"
    }
   ],
   "source": [
    "data[['SalePrice','Bedrooms','Bathrooms','SqFtTotLiving']].corr()"
   ]
  },
  {
   "cell_type": "markdown",
   "metadata": {},
   "source": [
    "As expected, there is a much higher correlation with total living square footage than with sale price. Larger homes tend to be more expensive as well as have more bedrooms and bathrooms."
   ]
  },
  {
   "cell_type": "code",
   "execution_count": 28,
   "metadata": {},
   "outputs": [
    {
     "name": "stderr",
     "output_type": "stream",
     "text": [
      "C:\\Users\\15164\\anaconda3\\envs\\learn-env\\lib\\site-packages\\seaborn\\_decorators.py:36: FutureWarning: Pass the following variable as a keyword arg: x. From version 0.12, the only valid positional argument will be `data`, and passing other arguments without an explicit keyword will result in an error or misinterpretation.\n",
      "  warnings.warn(\n",
      "C:\\Users\\15164\\anaconda3\\envs\\learn-env\\lib\\site-packages\\seaborn\\_decorators.py:36: FutureWarning: Pass the following variables as keyword args: x, y. From version 0.12, the only valid positional argument will be `data`, and passing other arguments without an explicit keyword will result in an error or misinterpretation.\n",
      "  warnings.warn(\n",
      "C:\\Users\\15164\\anaconda3\\envs\\learn-env\\lib\\site-packages\\seaborn\\_decorators.py:36: FutureWarning: Pass the following variable as a keyword arg: x. From version 0.12, the only valid positional argument will be `data`, and passing other arguments without an explicit keyword will result in an error or misinterpretation.\n",
      "  warnings.warn(\n",
      "C:\\Users\\15164\\anaconda3\\envs\\learn-env\\lib\\site-packages\\seaborn\\_decorators.py:36: FutureWarning: Pass the following variables as keyword args: x, y. From version 0.12, the only valid positional argument will be `data`, and passing other arguments without an explicit keyword will result in an error or misinterpretation.\n",
      "  warnings.warn(\n"
     ]
    },
    {
     "data": {
      "image/png": "[encoded data removed]",
      "text/plain": [
       "<Figure size 3600x720 with 4 Axes>"
      ]
     },
     "metadata": {
      "needs_background": "light"
     },
     "output_type": "display_data"
    }
   ],
   "source": [
    "bedmean = data.SalePrice.groupby(data['Bedrooms']).mean()\n",
    "bed = data.Bedrooms\n",
    "bathmean = data.SalePrice.groupby(data['Bathrooms']).mean()\n",
    "bath = data.Bathrooms\n",
    "\n",
    "fig, ax = plt.subplots(2,2, figsize=(50,10))\n",
    "sns.countplot(bed, ax = ax[0,0])\n",
    "sns.barplot(bed,bedmean, ax = ax[0,1])\n",
    "sns.countplot(bath, ax = ax[1,0])\n",
    "sns.barplot(bath,bathmean, ax = ax[1,1]);"
   ]
  },
  {
   "cell_type": "markdown",
   "metadata": {},
   "source": [
    "A decent number of homes are 3-4 beds with 2-3 baths - interestingly, there is no mean for 5 bedroom home sales."
   ]
  },
  {
   "cell_type": "code",
   "execution_count": 33,
   "metadata": {},
   "outputs": [
    {
     "data": {
      "text/plain": [
       "Bedrooms\n",
       "0.0     5.096393e+05\n",
       "1.0     5.991862e+05\n",
       "2.0     5.304414e+05\n",
       "3.0     5.877916e+05\n",
       "4.0     8.013151e+05\n",
       "5.0     1.000339e+06\n",
       "6.0     1.079839e+06\n",
       "7.0     1.100460e+06\n",
       "8.0     9.466121e+05\n",
       "9.0     1.107889e+06\n",
       "10.0    8.601465e+05\n",
       "11.0    7.325025e+05\n",
       "12.0    9.490000e+05\n",
       "13.0    1.606500e+06\n",
       "14.0    1.440000e+06\n",
       "15.0    1.025000e+06\n",
       "Name: SalePrice, dtype: float64"
      ]
     },
     "execution_count": 33,
     "metadata": {},
     "output_type": "execute_result"
    }
   ],
   "source": [
    "bedmean"
   ]
  },
  {
   "cell_type": "code",
   "execution_count": 37,
   "metadata": {},
   "outputs": [
    {
     "data": {
      "text/html": [
       "<div>\n",
       "<style scoped>\n",
       "    .dataframe tbody tr th:only-of-type {\n",
       "        vertical-align: middle;\n",
       "    }\n",
       "\n",
       "    .dataframe tbody tr th {\n",
       "        vertical-align: top;\n",
       "    }\n",
       "\n",
       "    .dataframe thead th {\n",
       "        text-align: right;\n",
       "    }\n",
       "</style>\n",
       "<table border=\"1\" class=\"dataframe\">\n",
       "  <thead>\n",
       "    <tr style=\"text-align: right;\">\n",
       "      <th></th>\n",
       "      <th>SalePrice</th>\n",
       "      <th>Township</th>\n",
       "      <th>SqFtTotLiving</th>\n",
       "    </tr>\n",
       "  </thead>\n",
       "  <tbody>\n",
       "    <tr>\n",
       "      <th>SalePrice</th>\n",
       "      <td>1.000000</td>\n",
       "      <td>0.189702</td>\n",
       "      <td>0.388234</td>\n",
       "    </tr>\n",
       "    <tr>\n",
       "      <th>Township</th>\n",
       "      <td>0.189702</td>\n",
       "      <td>1.000000</td>\n",
       "      <td>0.103564</td>\n",
       "    </tr>\n",
       "    <tr>\n",
       "      <th>SqFtTotLiving</th>\n",
       "      <td>0.388234</td>\n",
       "      <td>0.103564</td>\n",
       "      <td>1.000000</td>\n",
       "    </tr>\n",
       "  </tbody>\n",
       "</table>\n",
       "</div>"
      ],
      "text/plain": [
       "               SalePrice  Township  SqFtTotLiving\n",
       "SalePrice       1.000000  0.189702       0.388234\n",
       "Township        0.189702  1.000000       0.103564\n",
       "SqFtTotLiving   0.388234  0.103564       1.000000"
      ]
     },
     "execution_count": 37,
     "metadata": {},
     "output_type": "execute_result"
    }
   ],
   "source": [
    "data[['SalePrice','Township','SqFtTotLiving']].corr()"
   ]
  },
  {
   "cell_type": "markdown",
   "metadata": {},
   "source": [
    "Township doesn't appear to have much of a correlation with either SalePrice or SqFtTotLiving."
   ]
  },
  {
   "cell_type": "code",
   "execution_count": 38,
   "metadata": {},
   "outputs": [
    {
     "name": "stderr",
     "output_type": "stream",
     "text": [
      "C:\\Users\\15164\\anaconda3\\envs\\learn-env\\lib\\site-packages\\seaborn\\_decorators.py:36: FutureWarning: Pass the following variable as a keyword arg: x. From version 0.12, the only valid positional argument will be `data`, and passing other arguments without an explicit keyword will result in an error or misinterpretation.\n",
      "  warnings.warn(\n",
      "C:\\Users\\15164\\anaconda3\\envs\\learn-env\\lib\\site-packages\\seaborn\\_decorators.py:36: FutureWarning: Pass the following variables as keyword args: x, y. From version 0.12, the only valid positional argument will be `data`, and passing other arguments without an explicit keyword will result in an error or misinterpretation.\n",
      "  warnings.warn(\n"
     ]
    },
    {
     "data": {
      "image/png": "[encoded data removed]",
      "text/plain": [
       "<Figure size 3600x720 with 2 Axes>"
      ]
     },
     "metadata": {
      "needs_background": "light"
     },
     "output_type": "display_data"
    }
   ],
   "source": [
    "mean = data.SalePrice.groupby(data['Township']).mean()\n",
    "town = data.Township\n",
    "\n",
    "fig, ax = plt.subplots(1,2, figsize=(50,10))\n",
    "sns.countplot(town, ax = ax[0])\n",
    "sns.barplot(town,mean, ax = ax[1]);"
   ]
  },
  {
   "cell_type": "code",
   "execution_count": 39,
   "metadata": {
    "scrolled": true
   },
   "outputs": [
    {
     "data": {
      "text/plain": [
       "Township\n",
       "19.0    4.294364e+05\n",
       "20.0    3.961315e+05\n",
       "21.0    4.705823e+05\n",
       "22.0    4.435373e+05\n",
       "23.0    4.713692e+05\n",
       "24.0    8.179518e+05\n",
       "25.0    1.053924e+06\n",
       "26.0    6.766085e+05\n",
       "Name: SalePrice, dtype: float64"
      ]
     },
     "execution_count": 39,
     "metadata": {},
     "output_type": "execute_result"
    }
   ],
   "source": [
    "mean"
   ]
  },
  {
   "cell_type": "code",
   "execution_count": 40,
   "metadata": {},
   "outputs": [
    {
     "data": {
      "text/plain": [
       "24.0    28895\n",
       "25.0    28838\n",
       "26.0    26225\n",
       "23.0    23096\n",
       "22.0    17754\n",
       "21.0    14903\n",
       "20.0     1812\n",
       "19.0       22\n",
       "Name: Township, dtype: int64"
      ]
     },
     "execution_count": 40,
     "metadata": {},
     "output_type": "execute_result"
    }
   ],
   "source": [
    "data.Township.value_counts()"
   ]
  },
  {
   "cell_type": "markdown",
   "metadata": {},
   "source": [
    "It's worth noting that townships 24, 25, and 26 all have a much higher sale price than the others, while 20 and 19 have significantly lower ones. I will run a t-test by grouping 21, 22, 23 together, and 24, 25, 26 into another group to see if the higher mean sale price in the second group is truly different than the first."
   ]
  },
  {
   "cell_type": "code",
   "execution_count": 41,
   "metadata": {},
   "outputs": [
    {
     "name": "stdout",
     "output_type": "stream",
     "text": [
      "(83958, 2)\n",
      "(55753, 2)\n"
     ]
    }
   ],
   "source": [
    "priceship = data[['SalePrice','Township']]\n",
    "\n",
    "t_high = (24,25,26)\n",
    "t_low = (21,22,23)\n",
    "\n",
    "townhigh = priceship[priceship.Township.isin(t_high)]\n",
    "townlow = priceship[priceship.Township.isin(t_low)]\n",
    "\n",
    "print(townhigh.shape)\n",
    "print(townlow.shape)"
   ]
  },
  {
   "cell_type": "code",
   "execution_count": 44,
   "metadata": {},
   "outputs": [
    {
     "ename": "AttributeError",
     "evalue": "'Series' object has no attribute 'SalePrice'",
     "output_type": "error",
     "traceback": [
      "\u001b[1;31m---------------------------------------------------------------------------\u001b[0m",
      "\u001b[1;31mAttributeError\u001b[0m                            Traceback (most recent call last)",
      "\u001b[1;32m<ipython-input-44-46eed31ee825>\u001b[0m in \u001b[0;36m<module>\u001b[1;34m\u001b[0m\n\u001b[0;32m      1\u001b[0m \u001b[1;32mfrom\u001b[0m \u001b[0mscipy\u001b[0m\u001b[1;33m.\u001b[0m\u001b[0mstats\u001b[0m \u001b[1;32mimport\u001b[0m \u001b[0mttest_ind\u001b[0m\u001b[1;33m\u001b[0m\u001b[1;33m\u001b[0m\u001b[0m\n\u001b[0;32m      2\u001b[0m \u001b[1;33m\u001b[0m\u001b[0m\n\u001b[1;32m----> 3\u001b[1;33m \u001b[0mtownhigh\u001b[0m \u001b[1;33m=\u001b[0m \u001b[0mtownhigh\u001b[0m\u001b[1;33m.\u001b[0m\u001b[0mSalePrice\u001b[0m\u001b[1;33m\u001b[0m\u001b[1;33m\u001b[0m\u001b[0m\n\u001b[0m\u001b[0;32m      4\u001b[0m \u001b[0mtownlow\u001b[0m \u001b[1;33m=\u001b[0m \u001b[0mtownlow\u001b[0m\u001b[1;33m.\u001b[0m\u001b[0mSalePrice\u001b[0m\u001b[1;33m\u001b[0m\u001b[1;33m\u001b[0m\u001b[0m\n\u001b[0;32m      5\u001b[0m \u001b[1;33m\u001b[0m\u001b[0m\n",
      "\u001b[1;32m~\\anaconda3\\envs\\learn-env\\lib\\site-packages\\pandas\\core\\generic.py\u001b[0m in \u001b[0;36m__getattr__\u001b[1;34m(self, name)\u001b[0m\n\u001b[0;32m   5137\u001b[0m             \u001b[1;32mif\u001b[0m \u001b[0mself\u001b[0m\u001b[1;33m.\u001b[0m\u001b[0m_info_axis\u001b[0m\u001b[1;33m.\u001b[0m\u001b[0m_can_hold_identifiers_and_holds_name\u001b[0m\u001b[1;33m(\u001b[0m\u001b[0mname\u001b[0m\u001b[1;33m)\u001b[0m\u001b[1;33m:\u001b[0m\u001b[1;33m\u001b[0m\u001b[1;33m\u001b[0m\u001b[0m\n\u001b[0;32m   5138\u001b[0m                 \u001b[1;32mreturn\u001b[0m \u001b[0mself\u001b[0m\u001b[1;33m[\u001b[0m\u001b[0mname\u001b[0m\u001b[1;33m]\u001b[0m\u001b[1;33m\u001b[0m\u001b[1;33m\u001b[0m\u001b[0m\n\u001b[1;32m-> 5139\u001b[1;33m             \u001b[1;32mreturn\u001b[0m \u001b[0mobject\u001b[0m\u001b[1;33m.\u001b[0m\u001b[0m__getattribute__\u001b[0m\u001b[1;33m(\u001b[0m\u001b[0mself\u001b[0m\u001b[1;33m,\u001b[0m \u001b[0mname\u001b[0m\u001b[1;33m)\u001b[0m\u001b[1;33m\u001b[0m\u001b[1;33m\u001b[0m\u001b[0m\n\u001b[0m\u001b[0;32m   5140\u001b[0m \u001b[1;33m\u001b[0m\u001b[0m\n\u001b[0;32m   5141\u001b[0m     \u001b[1;32mdef\u001b[0m \u001b[0m__setattr__\u001b[0m\u001b[1;33m(\u001b[0m\u001b[0mself\u001b[0m\u001b[1;33m,\u001b[0m \u001b[0mname\u001b[0m\u001b[1;33m:\u001b[0m \u001b[0mstr\u001b[0m\u001b[1;33m,\u001b[0m \u001b[0mvalue\u001b[0m\u001b[1;33m)\u001b[0m \u001b[1;33m->\u001b[0m \u001b[1;32mNone\u001b[0m\u001b[1;33m:\u001b[0m\u001b[1;33m\u001b[0m\u001b[1;33m\u001b[0m\u001b[0m\n",
      "\u001b[1;31mAttributeError\u001b[0m: 'Series' object has no attribute 'SalePrice'"
     ]
    }
   ],
   "source": [
    "from scipy.stats import ttest_ind\n",
    "\n",
    "townhigh = townhigh.SalePrice\n",
    "townlow = townlow.SalePrice\n",
    "\n",
    "df = (len(townhigh)-1) + (len(townlow)-1)#<-- equal to n of sample 1-1 + n of sample 2 -1\n",
    "#<--The Alpha value for this test is .05 because since it is one-sided, we only need the value below .95\n",
    "critical_tstat_below = stats.t.ppf(.95,df)\n",
    "print(f'critical_t_stat: {critical_tstat_below}')\n",
    "\n",
    "ttest_result = ttest_ind(townhigh,townlow, equal_var=False)\n",
    "print(f'test t-stat: {ttest_result.statistic}')\n",
    "#because the pvalue generated for this would be 2-way, we need to divide by 2 to get the correct pvalue\n",
    "print(f'pvalue - {ttest_result.pvalue/2}')"
   ]
  },
  {
   "cell_type": "code",
   "execution_count": null,
   "metadata": {},
   "outputs": [],
   "source": []
  }
 ],
 "metadata": {
  "kernelspec": {
   "display_name": "learn-env",
   "language": "python",
   "name": "learn-env"
  },
  "language_info": {
   "codemirror_mode": {
    "name": "ipython",
    "version": 3
   },
   "file_extension": ".py",
   "mimetype": "text/x-python",
   "name": "python",
   "nbconvert_exporter": "python",
   "pygments_lexer": "ipython3",
   "version": "3.8.5"
  }
 },
 "nbformat": 4,
 "nbformat_minor": 4
}
